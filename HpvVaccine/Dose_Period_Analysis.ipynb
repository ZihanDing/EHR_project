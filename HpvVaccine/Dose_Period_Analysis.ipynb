{
 "cells": [
  {
   "cell_type": "code",
   "execution_count": null,
   "id": "63644792",
   "metadata": {},
   "outputs": [],
   "source": [
    "import pandas as pd\n",
    "import numpy as np\n",
    "\n",
    "import matplotlib.pyplot as plt"
   ]
  },
  {
   "cell_type": "code",
   "execution_count": null,
   "id": "7e5ac8ba",
   "metadata": {},
   "outputs": [],
   "source": [
    "# Read Hpv data\n",
    "file_address = '../Data/NassauCountyHPV.csv'\n",
    "\n",
    "df_hpv_nassau = pd.read_csv(file_address)\n",
    "\n",
    "file_address = '../Data/SuffolkCountyHPV.csv'\n",
    "\n",
    "df_hpv_suffolk = pd.read_csv(file_address)\n",
    "\n",
    "# Read TDAP data\n",
    "file_address = '../Data/NassauCountyTDAP.csv'\n",
    "\n",
    "df_tdap_nassau = pd.read_csv(file_address)\n",
    "\n",
    "file_address = '../Data/SuffolkCountyTDAP.csv'\n",
    "\n",
    "df_tdap_suffolk = pd.read_csv(file_address)\n",
    "\n",
    "\n",
    "file_address = '../Data/longislandzip.csv'\n",
    "\n",
    "df_zipcode = pd.read_csv(file_address)"
   ]
  },
  {
   "cell_type": "code",
   "execution_count": null,
   "id": "46cff2fc",
   "metadata": {},
   "outputs": [],
   "source": [
    "# Clean Data , drop N/A zipcode\n",
    "df_hpv_nassau.dropna(subset=['PatientZip'], inplace=True)\n",
    "df_hpv_suffolk.dropna(subset=['PatientZip'], inplace=True)\n",
    "df_tdap_nassau.dropna(subset=['PatientZip'], inplace=True)\n",
    "df_tdap_suffolk.dropna(subset=['PatientZip'], inplace=True)\n",
    "\n",
    "\n",
    "zips = np.array(df_zipcode['zip'])\n",
    "# Clean Data, drop zipcode not on the Long Island\n",
    "df_hpv_nassau = df_hpv_nassau[df_hpv_nassau['PatientZip'].isin(zips)]\n",
    "df_hpv_suffolk = df_hpv_suffolk[df_hpv_suffolk['PatientZip'].isin(zips)]\n",
    "df_tdap_nassau = df_tdap_nassau[df_tdap_nassau['PatientZip'].isin(zips)]\n",
    "df_tdap_suffolk = df_tdap_suffolk[df_tdap_suffolk['PatientZip'].isin(zips)]\n",
    "\n",
    "df_tdap = pd.concat([df_tdap_nassau,df_tdap_suffolk])"
   ]
  }
 ],
 "metadata": {
  "kernelspec": {
   "display_name": "Python 3 (ipykernel)",
   "language": "python",
   "name": "python3"
  },
  "language_info": {
   "codemirror_mode": {
    "name": "ipython",
    "version": 3
   },
   "file_extension": ".py",
   "mimetype": "text/x-python",
   "name": "python",
   "nbconvert_exporter": "python",
   "pygments_lexer": "ipython3",
   "version": "3.9.7"
  }
 },
 "nbformat": 4,
 "nbformat_minor": 5
}
