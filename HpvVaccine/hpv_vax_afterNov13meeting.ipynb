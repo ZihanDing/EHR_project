{
 "cells": [
  {
   "cell_type": "code",
   "execution_count": 1,
   "id": "fa06b740",
   "metadata": {},
   "outputs": [],
   "source": [
    "import pandas as pd\n",
    "import numpy as np\n",
    "\n",
    "import matplotlib.pyplot as plt\n"
   ]
  },
  {
   "cell_type": "code",
   "execution_count": 2,
   "id": "10c0726a",
   "metadata": {},
   "outputs": [],
   "source": [
    "# Read Hpv data\n",
    "file_address = '../Data/NassauCountyHPV.csv'\n",
    "\n",
    "df_hpv_nassau = pd.read_csv(file_address)\n",
    "\n",
    "file_address = '../Data/SuffolkCountyHPV.csv'\n",
    "\n",
    "df_hpv_suffolk = pd.read_csv(file_address)\n",
    "\n",
    "# Read TDAP data\n",
    "file_address = '../Data/NassauCountyTDAP.csv'\n",
    "\n",
    "df_tdap_nassau = pd.read_csv(file_address)\n",
    "\n",
    "file_address = '../Data/SuffolkCountyTDAP.csv'\n",
    "\n",
    "df_tdap_suffolk = pd.read_csv(file_address)\n",
    "\n",
    "#Read zipcode data\n",
    "file_address = '../Data/longislandzip.csv'\n",
    "\n",
    "df_zipcode = pd.read_csv(file_address)"
   ]
  },
  {
   "cell_type": "code",
   "execution_count": 3,
   "id": "acc8abc5",
   "metadata": {},
   "outputs": [
    {
     "name": "stdout",
     "output_type": "stream",
     "text": [
      "Nassau N/A zipcode samples in HPV: 3001\n",
      "Suffolk N/A zipcode samples in HPV: 4829\n",
      "Nassau N/A zipcode samples in TDAP: 2308\n",
      "Suffokl N/A zipcode samples in TDAP: 3433\n",
      "3321\n",
      "5024\n",
      "2580\n",
      "3628\n"
     ]
    }
   ],
   "source": [
    "# Data Samples Without zipcode\n",
    "print('Nassau N/A zipcode samples in HPV:', df_hpv_nassau['PatientZip'].isnull().sum())\n",
    "print('Suffolk N/A zipcode samples in HPV:', df_hpv_suffolk['PatientZip'].isnull().sum())\n",
    "print('Nassau N/A zipcode samples in TDAP:', df_tdap_nassau['PatientZip'].isnull().sum())\n",
    "print('Suffokl N/A zipcode samples in TDAP:', df_tdap_suffolk['PatientZip'].isnull().sum())\n",
    "\n",
    "\n",
    "# Data Samples with zipcode not On the Long Island(Suffolk and Nassau)\n",
    "zips = np.array(df_zipcode['zip'])\n",
    "\n",
    "condition = (~df_hpv_nassau['PatientZip'].isin(zips))\n",
    "print(len(df_hpv_nassau[condition]))\n",
    "condition = (~df_hpv_suffolk['PatientZip'].isin(zips))\n",
    "print(len(df_hpv_suffolk[condition]))\n",
    "condition = (~df_tdap_nassau['PatientZip'].isin(zips))\n",
    "print(len(df_tdap_nassau[condition]))\n",
    "condition = (~df_tdap_suffolk['PatientZip'].isin(zips))\n",
    "print(len(df_tdap_suffolk[condition]))\n",
    "\n",
    "# Clean Data , drop N/A zipcode\n",
    "df_hpv_nassau.dropna(subset=['PatientZip'], inplace=True)\n",
    "df_hpv_suffolk.dropna(subset=['PatientZip'], inplace=True)\n",
    "df_tdap_nassau.dropna(subset=['PatientZip'], inplace=True)\n",
    "df_tdap_suffolk.dropna(subset=['PatientZip'], inplace=True)\n",
    "\n",
    "# Clean Data, drop zipcode not on the Long Island\n",
    "df_hpv_nassau = df_hpv_nassau[df_hpv_nassau['PatientZip'].isin(zips)]\n",
    "df_hpv_suffolk = df_hpv_suffolk[df_hpv_suffolk['PatientZip'].isin(zips)]\n",
    "df_tdap_nassau = df_tdap_nassau[df_tdap_nassau['PatientZip'].isin(zips)]\n",
    "df_tdap_suffolk = df_tdap_suffolk[df_tdap_suffolk['PatientZip'].isin(zips)]"
   ]
  },
  {
   "cell_type": "code",
   "execution_count": null,
   "id": "3a4eb835",
   "metadata": {},
   "outputs": [],
   "source": []
  },
  {
   "cell_type": "code",
   "execution_count": null,
   "id": "b89754f3",
   "metadata": {},
   "outputs": [],
   "source": []
  },
  {
   "cell_type": "code",
   "execution_count": null,
   "id": "df20d60d",
   "metadata": {},
   "outputs": [],
   "source": [
    "#merge tdap with hpv"
   ]
  },
  {
   "cell_type": "code",
   "execution_count": null,
   "id": "9ef89c69",
   "metadata": {},
   "outputs": [],
   "source": []
  }
 ],
 "metadata": {
  "kernelspec": {
   "display_name": "Python 3 (ipykernel)",
   "language": "python",
   "name": "python3"
  },
  "language_info": {
   "codemirror_mode": {
    "name": "ipython",
    "version": 3
   },
   "file_extension": ".py",
   "mimetype": "text/x-python",
   "name": "python",
   "nbconvert_exporter": "python",
   "pygments_lexer": "ipython3",
   "version": "3.9.7"
  }
 },
 "nbformat": 4,
 "nbformat_minor": 5
}
