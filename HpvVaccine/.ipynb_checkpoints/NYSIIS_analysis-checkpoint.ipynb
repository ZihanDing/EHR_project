{
 "cells": [
  {
   "cell_type": "code",
   "execution_count": 2,
   "id": "a36929ef",
   "metadata": {},
   "outputs": [],
   "source": [
    "import pandas as pd\n",
    "import numpy as np\n",
    "\n",
    "import matplotlib.pyplot as plt\n"
   ]
  },
  {
   "cell_type": "code",
   "execution_count": 3,
   "id": "bb756c84",
   "metadata": {},
   "outputs": [],
   "source": [
    "# Read Hpv data\n",
    "file_address = '/Users/zihanding/Developer/Jupyters/EHR_proj/Data/NassauCountyHPV.csv'\n",
    "\n",
    "df_hpv_nassau = pd.read_csv(file_address)\n",
    "\n",
    "file_address = '/Users/zihanding/Developer/Jupyters/EHR_proj/Data/SuffolkCountyHPV.csv'\n",
    "\n",
    "df_hpv_suffolk = pd.read_csv(file_address)"
   ]
  },
  {
   "cell_type": "code",
   "execution_count": 4,
   "id": "f119c81c",
   "metadata": {},
   "outputs": [],
   "source": [
    "# Read TDAP data\n",
    "file_address = '/Users/zihanding/Developer/Jupyters/EHR_proj/Data/NassauCountyTDAP.csv'\n",
    "\n",
    "df_tdap_nassau = pd.read_csv(file_address)\n",
    "\n",
    "file_address = '/Users/zihanding/Developer/Jupyters/EHR_proj/Data/SuffolkCountyTDAP.csv'\n",
    "\n",
    "df_tdap_suffolk = pd.read_csv(file_address)"
   ]
  },
  {
   "cell_type": "code",
   "execution_count": 5,
   "id": "2cefd15e",
   "metadata": {},
   "outputs": [],
   "source": [
    "file_address = '/Users/zihanding/Developer/Jupyters/EHR_proj/Data/longislandzip.csv'\n",
    "\n",
    "df_zipcode = pd.read_csv(file_address)"
   ]
  },
  {
   "cell_type": "code",
   "execution_count": 40,
   "id": "8c3be3e0",
   "metadata": {},
   "outputs": [
    {
     "data": {
      "text/html": [
       "<div>\n",
       "<style scoped>\n",
       "    .dataframe tbody tr th:only-of-type {\n",
       "        vertical-align: middle;\n",
       "    }\n",
       "\n",
       "    .dataframe tbody tr th {\n",
       "        vertical-align: top;\n",
       "    }\n",
       "\n",
       "    .dataframe thead th {\n",
       "        text-align: right;\n",
       "    }\n",
       "</style>\n",
       "<table border=\"1\" class=\"dataframe\">\n",
       "  <thead>\n",
       "    <tr style=\"text-align: right;\">\n",
       "      <th></th>\n",
       "      <th>client_id</th>\n",
       "      <th>vax_month</th>\n",
       "      <th>vax_year</th>\n",
       "      <th>RACE_DESC</th>\n",
       "      <th>ETHNICITY_DESC</th>\n",
       "      <th>PatientAge</th>\n",
       "      <th>Trade_name</th>\n",
       "      <th>PatientZip</th>\n",
       "      <th>PatientCounty</th>\n",
       "      <th>ProviderCounty</th>\n",
       "      <th>GENDER</th>\n",
       "    </tr>\n",
       "  </thead>\n",
       "  <tbody>\n",
       "    <tr>\n",
       "      <th>0</th>\n",
       "      <td>9910</td>\n",
       "      <td>7</td>\n",
       "      <td>2017</td>\n",
       "      <td>WHITE</td>\n",
       "      <td>NOT HISPANIC OR LATINO</td>\n",
       "      <td>24</td>\n",
       "      <td>Gardasil 9</td>\n",
       "      <td>11756.0</td>\n",
       "      <td>Nassau</td>\n",
       "      <td>Nassau</td>\n",
       "      <td>M</td>\n",
       "    </tr>\n",
       "    <tr>\n",
       "      <th>1</th>\n",
       "      <td>12409</td>\n",
       "      <td>6</td>\n",
       "      <td>2019</td>\n",
       "      <td>OTHER</td>\n",
       "      <td>NOT HISPANIC OR LATINO</td>\n",
       "      <td>22</td>\n",
       "      <td>Gardasil</td>\n",
       "      <td>11590.0</td>\n",
       "      <td>Nassau</td>\n",
       "      <td>Nassau</td>\n",
       "      <td>M</td>\n",
       "    </tr>\n",
       "    <tr>\n",
       "      <th>2</th>\n",
       "      <td>12409</td>\n",
       "      <td>8</td>\n",
       "      <td>2019</td>\n",
       "      <td>OTHER</td>\n",
       "      <td>NOT HISPANIC OR LATINO</td>\n",
       "      <td>22</td>\n",
       "      <td>Gardasil 9</td>\n",
       "      <td>11590.0</td>\n",
       "      <td>Nassau</td>\n",
       "      <td>Nassau</td>\n",
       "      <td>M</td>\n",
       "    </tr>\n",
       "    <tr>\n",
       "      <th>3</th>\n",
       "      <td>21455</td>\n",
       "      <td>1</td>\n",
       "      <td>2013</td>\n",
       "      <td>ASIAN</td>\n",
       "      <td>NOT HISPANIC OR LATINO</td>\n",
       "      <td>17</td>\n",
       "      <td>Gardasil</td>\n",
       "      <td>11040.0</td>\n",
       "      <td>Nassau</td>\n",
       "      <td>New York</td>\n",
       "      <td>M</td>\n",
       "    </tr>\n",
       "    <tr>\n",
       "      <th>4</th>\n",
       "      <td>21656</td>\n",
       "      <td>1</td>\n",
       "      <td>2008</td>\n",
       "      <td>BLACK OR AFRICAN-AMERICAN</td>\n",
       "      <td>NOT HISPANIC OR LATINO</td>\n",
       "      <td>15</td>\n",
       "      <td>Gardasil</td>\n",
       "      <td>11520.0</td>\n",
       "      <td>Nassau</td>\n",
       "      <td>Broome</td>\n",
       "      <td>F</td>\n",
       "    </tr>\n",
       "    <tr>\n",
       "      <th>...</th>\n",
       "      <td>...</td>\n",
       "      <td>...</td>\n",
       "      <td>...</td>\n",
       "      <td>...</td>\n",
       "      <td>...</td>\n",
       "      <td>...</td>\n",
       "      <td>...</td>\n",
       "      <td>...</td>\n",
       "      <td>...</td>\n",
       "      <td>...</td>\n",
       "      <td>...</td>\n",
       "    </tr>\n",
       "    <tr>\n",
       "      <th>415193</th>\n",
       "      <td>23574745</td>\n",
       "      <td>8</td>\n",
       "      <td>2018</td>\n",
       "      <td>UNKNOWN</td>\n",
       "      <td>UNKNOWN</td>\n",
       "      <td>13</td>\n",
       "      <td>Gardasil 9</td>\n",
       "      <td>11510.0</td>\n",
       "      <td>Nassau</td>\n",
       "      <td>Nassau</td>\n",
       "      <td>F</td>\n",
       "    </tr>\n",
       "    <tr>\n",
       "      <th>415194</th>\n",
       "      <td>23577049</td>\n",
       "      <td>12</td>\n",
       "      <td>2019</td>\n",
       "      <td>WHITE</td>\n",
       "      <td>NOT HISPANIC OR LATINO</td>\n",
       "      <td>12</td>\n",
       "      <td>Unspecified</td>\n",
       "      <td>11791.0</td>\n",
       "      <td>Nassau</td>\n",
       "      <td>Nassau</td>\n",
       "      <td>F</td>\n",
       "    </tr>\n",
       "    <tr>\n",
       "      <th>415195</th>\n",
       "      <td>23577049</td>\n",
       "      <td>6</td>\n",
       "      <td>2020</td>\n",
       "      <td>WHITE</td>\n",
       "      <td>NOT HISPANIC OR LATINO</td>\n",
       "      <td>12</td>\n",
       "      <td>Gardasil 9</td>\n",
       "      <td>11791.0</td>\n",
       "      <td>Nassau</td>\n",
       "      <td>Nassau</td>\n",
       "      <td>F</td>\n",
       "    </tr>\n",
       "    <tr>\n",
       "      <th>415196</th>\n",
       "      <td>23577071</td>\n",
       "      <td>6</td>\n",
       "      <td>2019</td>\n",
       "      <td>ASIAN</td>\n",
       "      <td>NOT HISPANIC OR LATINO</td>\n",
       "      <td>12</td>\n",
       "      <td>Gardasil 9</td>\n",
       "      <td>11753.0</td>\n",
       "      <td>Nassau</td>\n",
       "      <td>New York</td>\n",
       "      <td>M</td>\n",
       "    </tr>\n",
       "    <tr>\n",
       "      <th>415197</th>\n",
       "      <td>23577071</td>\n",
       "      <td>1</td>\n",
       "      <td>2020</td>\n",
       "      <td>ASIAN</td>\n",
       "      <td>NOT HISPANIC OR LATINO</td>\n",
       "      <td>13</td>\n",
       "      <td>Gardasil 9</td>\n",
       "      <td>11753.0</td>\n",
       "      <td>Nassau</td>\n",
       "      <td>New York</td>\n",
       "      <td>M</td>\n",
       "    </tr>\n",
       "  </tbody>\n",
       "</table>\n",
       "<p>415198 rows × 11 columns</p>\n",
       "</div>"
      ],
      "text/plain": [
       "        client_id  vax_month  vax_year                  RACE_DESC  \\\n",
       "0            9910          7      2017                      WHITE   \n",
       "1           12409          6      2019                      OTHER   \n",
       "2           12409          8      2019                      OTHER   \n",
       "3           21455          1      2013                      ASIAN   \n",
       "4           21656          1      2008  BLACK OR AFRICAN-AMERICAN   \n",
       "...           ...        ...       ...                        ...   \n",
       "415193   23574745          8      2018                    UNKNOWN   \n",
       "415194   23577049         12      2019                      WHITE   \n",
       "415195   23577049          6      2020                      WHITE   \n",
       "415196   23577071          6      2019                      ASIAN   \n",
       "415197   23577071          1      2020                      ASIAN   \n",
       "\n",
       "                ETHNICITY_DESC  PatientAge   Trade_name  PatientZip  \\\n",
       "0       NOT HISPANIC OR LATINO          24   Gardasil 9     11756.0   \n",
       "1       NOT HISPANIC OR LATINO          22     Gardasil     11590.0   \n",
       "2       NOT HISPANIC OR LATINO          22   Gardasil 9     11590.0   \n",
       "3       NOT HISPANIC OR LATINO          17     Gardasil     11040.0   \n",
       "4       NOT HISPANIC OR LATINO          15     Gardasil     11520.0   \n",
       "...                        ...         ...          ...         ...   \n",
       "415193                 UNKNOWN          13   Gardasil 9     11510.0   \n",
       "415194  NOT HISPANIC OR LATINO          12  Unspecified     11791.0   \n",
       "415195  NOT HISPANIC OR LATINO          12   Gardasil 9     11791.0   \n",
       "415196  NOT HISPANIC OR LATINO          12   Gardasil 9     11753.0   \n",
       "415197  NOT HISPANIC OR LATINO          13   Gardasil 9     11753.0   \n",
       "\n",
       "       PatientCounty ProviderCounty GENDER  \n",
       "0             Nassau         Nassau      M  \n",
       "1             Nassau         Nassau      M  \n",
       "2             Nassau         Nassau      M  \n",
       "3             Nassau       New York      M  \n",
       "4             Nassau         Broome      F  \n",
       "...              ...            ...    ...  \n",
       "415193        Nassau         Nassau      F  \n",
       "415194        Nassau         Nassau      F  \n",
       "415195        Nassau         Nassau      F  \n",
       "415196        Nassau       New York      M  \n",
       "415197        Nassau       New York      M  \n",
       "\n",
       "[415198 rows x 11 columns]"
      ]
     },
     "execution_count": 40,
     "metadata": {},
     "output_type": "execute_result"
    }
   ],
   "source": [
    "df_hpv_nassau"
   ]
  },
  {
   "cell_type": "code",
   "execution_count": 41,
   "id": "0d97a0d3",
   "metadata": {},
   "outputs": [
    {
     "name": "stdout",
     "output_type": "stream",
     "text": [
      "415198\n",
      "449593\n",
      "420314\n",
      "471029\n"
     ]
    }
   ],
   "source": [
    "print(len(df_hpv_nassau))\n",
    "print(len(df_hpv_suffolk))\n",
    "print(len(df_tdap_nassau))\n",
    "print(len(df_tdap_suffolk))"
   ]
  },
  {
   "cell_type": "code",
   "execution_count": 11,
   "id": "2f9c1530",
   "metadata": {},
   "outputs": [
    {
     "name": "stdout",
     "output_type": "stream",
     "text": [
      "Nassau N/A zipcode samples in HPV: 3001\n",
      "Suffolk N/A zipcode samples in HPV: 4829\n",
      "Nassau N/A zipcode samples in TDAP: 2308\n",
      "Suffokl N/A zipcode samples in TDAP: 3433\n"
     ]
    }
   ],
   "source": [
    "# Data Samples Without zipcode\n",
    "print('Nassau N/A zipcode samples in HPV:', df_hpv_nassau['PatientZip'].isnull().sum())\n",
    "print('Suffolk N/A zipcode samples in HPV:', df_hpv_suffolk['PatientZip'].isnull().sum())\n",
    "print('Nassau N/A zipcode samples in TDAP:', df_tdap_nassau['PatientZip'].isnull().sum())\n",
    "print('Suffokl N/A zipcode samples in TDAP:', df_tdap_suffolk['PatientZip'].isnull().sum())"
   ]
  },
  {
   "cell_type": "code",
   "execution_count": 35,
   "id": "fa39fcc0",
   "metadata": {},
   "outputs": [
    {
     "name": "stdout",
     "output_type": "stream",
     "text": [
      "3321\n",
      "5024\n",
      "2580\n",
      "3628\n"
     ]
    }
   ],
   "source": [
    "# Data Samples with zipcode not On the Long Island(Suffolk and Nassau)\n",
    "zips = np.array(df_zipcode['zip'])\n",
    "\n",
    "condition = (~df_hpv_nassau['PatientZip'].isin(zips))\n",
    "print(len(df_hpv_nassau[condition]))\n",
    "condition = (~df_hpv_suffolk['PatientZip'].isin(zips))\n",
    "print(len(df_hpv_suffolk[condition]))\n",
    "condition = (~df_tdap_nassau['PatientZip'].isin(zips))\n",
    "print(len(df_tdap_nassau[condition]))\n",
    "condition = (~df_tdap_suffolk['PatientZip'].isin(zips))\n",
    "print(len(df_tdap_suffolk[condition]))"
   ]
  },
  {
   "cell_type": "code",
   "execution_count": 46,
   "id": "016a9449",
   "metadata": {},
   "outputs": [
    {
     "data": {
      "text/plain": [
       "220"
      ]
     },
     "execution_count": 46,
     "metadata": {},
     "output_type": "execute_result"
    }
   ],
   "source": [
    "len(zips)"
   ]
  },
  {
   "cell_type": "code",
   "execution_count": 42,
   "id": "74c6f9ab",
   "metadata": {},
   "outputs": [],
   "source": [
    "# Clean Data , drop N/A zipcode\n",
    "df_hpv_nassau.dropna(subset=['PatientZip'], inplace=True)\n",
    "df_hpv_suffolk.dropna(subset=['PatientZip'], inplace=True)\n",
    "df_tdap_nassau.dropna(subset=['PatientZip'], inplace=True)\n",
    "df_tdap_suffolk.dropna(subset=['PatientZip'], inplace=True)"
   ]
  },
  {
   "cell_type": "code",
   "execution_count": 43,
   "id": "a6779ded",
   "metadata": {},
   "outputs": [
    {
     "name": "stdout",
     "output_type": "stream",
     "text": [
      "412197\n",
      "444764\n",
      "418006\n",
      "467596\n"
     ]
    }
   ],
   "source": [
    "print(len(df_hpv_nassau))\n",
    "print(len(df_hpv_suffolk))\n",
    "print(len(df_tdap_nassau))\n",
    "print(len(df_tdap_suffolk))"
   ]
  },
  {
   "cell_type": "code",
   "execution_count": 44,
   "id": "9abffb5c",
   "metadata": {},
   "outputs": [],
   "source": [
    "# Clean Data, drop zipcode not on the Long Island\n",
    "df_hpv_nassau = df_hpv_nassau[df_hpv_nassau['PatientZip'].isin(zips)]\n",
    "df_hpv_suffolk = df_hpv_suffolk[df_hpv_suffolk['PatientZip'].isin(zips)]\n",
    "df_tdap_nassau = df_tdap_nassau[df_tdap_nassau['PatientZip'].isin(zips)]\n",
    "df_tdap_suffolk = df_tdap_suffolk[df_tdap_suffolk['PatientZip'].isin(zips)]"
   ]
  },
  {
   "cell_type": "code",
   "execution_count": 45,
   "id": "b1802659",
   "metadata": {},
   "outputs": [
    {
     "name": "stdout",
     "output_type": "stream",
     "text": [
      "411877\n",
      "444569\n",
      "417734\n",
      "467401\n"
     ]
    }
   ],
   "source": [
    "print(len(df_hpv_nassau))\n",
    "print(len(df_hpv_suffolk))\n",
    "print(len(df_tdap_nassau))\n",
    "print(len(df_tdap_suffolk))"
   ]
  },
  {
   "cell_type": "code",
   "execution_count": null,
   "id": "5c55b71e",
   "metadata": {},
   "outputs": [],
   "source": []
  },
  {
   "cell_type": "code",
   "execution_count": null,
   "id": "83ff2b5c",
   "metadata": {},
   "outputs": [],
   "source": []
  },
  {
   "cell_type": "code",
   "execution_count": null,
   "id": "4782f38e",
   "metadata": {},
   "outputs": [],
   "source": []
  },
  {
   "cell_type": "code",
   "execution_count": null,
   "id": "df2a2054",
   "metadata": {},
   "outputs": [],
   "source": []
  }
 ],
 "metadata": {
  "kernelspec": {
   "display_name": "Python 3 (ipykernel)",
   "language": "python",
   "name": "python3"
  },
  "language_info": {
   "codemirror_mode": {
    "name": "ipython",
    "version": 3
   },
   "file_extension": ".py",
   "mimetype": "text/x-python",
   "name": "python",
   "nbconvert_exporter": "python",
   "pygments_lexer": "ipython3",
   "version": "3.9.7"
  }
 },
 "nbformat": 4,
 "nbformat_minor": 5
}
