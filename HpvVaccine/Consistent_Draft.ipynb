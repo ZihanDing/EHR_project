{
 "cells": [
  {
   "cell_type": "code",
   "execution_count": 1,
   "id": "cc560f28",
   "metadata": {},
   "outputs": [],
   "source": [
    "import pandas as pd\n",
    "import numpy as np\n",
    "\n",
    "import matplotlib.pyplot as plt\n",
    "\n",
    "import plotly.express as px\n",
    "\n",
    "from scipy import stats\n",
    "\n",
    "import seaborn as sns\n",
    "\n",
    "plt.rcParams['font.family']=['Times New Roman']"
   ]
  },
  {
   "cell_type": "code",
   "execution_count": 2,
   "id": "49229b05",
   "metadata": {},
   "outputs": [],
   "source": [
    "file_address = '../Data/Merged_data/Ageout_tdap.csv'\n",
    "\n",
    "df_age_tdap = pd.read_csv(file_address)\n",
    "\n",
    "\n",
    "file_address = '../Data/Merged_data/Ageout_hpv.csv'\n",
    "\n",
    "df_age_hpv = pd.read_csv(file_address)\n",
    "\n",
    "\n",
    "file_address = '../Data/Merged_data/Ageout_total.csv'\n",
    "\n",
    "df_age_total = pd.read_csv(file_address)\n",
    "\n",
    "\n",
    "file_address = '../Data/longislandzip.csv'\n",
    "\n",
    "df_zipcode = pd.read_csv(file_address)"
   ]
  },
  {
   "cell_type": "code",
   "execution_count": 3,
   "id": "8852902b",
   "metadata": {},
   "outputs": [],
   "source": [
    "# Read Hpv data\n",
    "file_address = '../Data/Merged_data/NassauCountyHPV.xlsx'\n",
    "\n",
    "df_hpv_nassau = pd.read_excel(file_address)\n",
    "\n",
    "file_address = '../Data/Merged_data/SuffolkCountyHPV.xlsx'\n",
    "\n",
    "df_hpv_suffolk = pd.read_excel(file_address)\n",
    "\n",
    "# Read TDAP data\n",
    "file_address = '../Data/Merged_data/NassauCountyTDAP.xlsx'\n",
    "\n",
    "df_tdap_nassau = pd.read_excel(file_address)\n",
    "\n",
    "file_address = '../Data/Merged_data/SuffolkCountyTDAP.xlsx'\n",
    "\n",
    "df_tdap_suffolk = pd.read_excel(file_address)"
   ]
  },
  {
   "cell_type": "code",
   "execution_count": 4,
   "id": "99ec25be",
   "metadata": {},
   "outputs": [],
   "source": [
    "df_hpv = pd.concat([df_hpv_suffolk,df_hpv_nassau])"
   ]
  },
  {
   "cell_type": "code",
   "execution_count": 5,
   "id": "da9ad4a4",
   "metadata": {},
   "outputs": [],
   "source": [
    "#Read the Cleaned hpv patients Data:\n",
    "file_address = '../Data/Merged_data/distinct_hpv_patients.csv'\n",
    "\n",
    "hpv_patients = pd.read_csv(file_address)\n",
    "\n",
    "# file_address = '../Data/race_hpv.csv'\n",
    "# hpv_race = pd.read_csv(file_address)\n",
    "\n",
    "# file_address = '../Data/total_population.csv'\n",
    "# total_poplt_race = pd.read_csv(file_address)\n"
   ]
  },
  {
   "cell_type": "code",
   "execution_count": 6,
   "id": "e4db3c75",
   "metadata": {},
   "outputs": [],
   "source": [
    "def calamount(df,years,start,end):\n",
    "    rate = []\n",
    "    for year in years:\n",
    "        lst = list(df[year])\n",
    "        count = 0\n",
    "        for i in range(len(lst)):\n",
    "            if lst[i]:\n",
    "                if lst[i]<=end and lst[i]>=start:\n",
    "                    count += 1\n",
    "#     print(count)\n",
    "        rate.append(count)\n",
    "    return np.array(rate)[4:]"
   ]
  },
  {
   "cell_type": "markdown",
   "id": "b8c8fa7e",
   "metadata": {},
   "source": [
    "# Figure B calculate the rate"
   ]
  },
  {
   "cell_type": "code",
   "execution_count": 7,
   "id": "273dadf8",
   "metadata": {},
   "outputs": [],
   "source": [
    "#Calculate each populations:\n",
    "years = np.array((df_age_total.columns))[6:]\n",
    "hpv_amount = calamount(df_age_hpv,years,9,13)\n",
    "total_amount = calamount(df_age_total,years,9,13)\n",
    "tdap_amount = calamount(df_age_tdap,years,9,13)\n",
    "\n",
    "\n",
    "#Calculate each rate\n",
    "hpv_Rate = hpv_amount/total_amount\n",
    "tdap_Rate = tdap_amount/total_amount\n",
    "\n",
    "# We only keep the rate and amount from 2012 to 2021\n",
    "# hpv_amount = hpv_amount[4:]\n",
    "# hpv_Rate = hpv_Rate[4:]\n",
    "# tdap_amount = tdap_amount[4:]\n",
    "# tdap_Rate = tdap_Rate[4:]\n",
    "# total_amount = total_amount[4:]\n",
    "# years = years[4:]"
   ]
  },
  {
   "cell_type": "code",
   "execution_count": 8,
   "id": "3a3fae86",
   "metadata": {},
   "outputs": [
    {
     "data": {
      "text/plain": [
       "array([0.15968099, 0.20932137, 0.23643525, 0.2864307 , 0.33735764,\n",
       "       0.37287536, 0.41321746, 0.45418354, 0.44994568, 0.43125822,\n",
       "       0.43372204, 0.43721996])"
      ]
     },
     "execution_count": 8,
     "metadata": {},
     "output_type": "execute_result"
    }
   ],
   "source": [
    "hpv_Rate"
   ]
  },
  {
   "cell_type": "code",
   "execution_count": 9,
   "id": "61770b08",
   "metadata": {},
   "outputs": [
    {
     "data": {
      "text/plain": [
       "1.013824061139055"
      ]
     },
     "execution_count": 9,
     "metadata": {},
     "output_type": "execute_result"
    }
   ],
   "source": [
    "0.43721996/0.43125822"
   ]
  },
  {
   "cell_type": "code",
   "execution_count": 10,
   "id": "c9eaeeef",
   "metadata": {},
   "outputs": [
    {
     "data": {
      "text/plain": [
       "-0.050475893512125"
      ]
     },
     "execution_count": 10,
     "metadata": {},
     "output_type": "execute_result"
    }
   ],
   "source": [
    "0.43125822/0.45418354-1"
   ]
  },
  {
   "cell_type": "code",
   "execution_count": 11,
   "id": "29914008",
   "metadata": {},
   "outputs": [
    {
     "data": {
      "text/plain": [
       "array([16458, 23004, 28215, 36383, 44374, 49557, 54729, 58983, 56735,\n",
       "       52808, 51848, 51522])"
      ]
     },
     "execution_count": 11,
     "metadata": {},
     "output_type": "execute_result"
    }
   ],
   "source": [
    "hpv_amount"
   ]
  },
  {
   "cell_type": "code",
   "execution_count": 12,
   "id": "87a478b0",
   "metadata": {},
   "outputs": [],
   "source": [
    "#calculate gender based populations:\n",
    "df_age_hpv_m = df_age_hpv[df_age_hpv['GENDER']=='M']\n",
    "df_age_hpv_f = df_age_hpv[df_age_hpv['GENDER']=='F']\n",
    "\n",
    "df_age_total_m = df_age_total[df_age_total['GENDER']=='M']\n",
    "df_age_total_f = df_age_total[df_age_total['GENDER']=='F']\n",
    "\n",
    "hpv_amount_m = calamount(df_age_hpv_m,years,9,13)\n",
    "hpv_amount_f = calamount(df_age_hpv_f,years,9,13)\n",
    "\n",
    "total_amount_m = calamount(df_age_total_m,years,9,13)\n",
    "total_amount_f = calamount(df_age_total_f,years,9,13)\n",
    "\n",
    "hpv_Rate_m = hpv_amount_m/total_amount_m\n",
    "hpv_Rate_f = hpv_amount_f/total_amount_f"
   ]
  },
  {
   "cell_type": "code",
   "execution_count": 13,
   "id": "b37d1277",
   "metadata": {},
   "outputs": [],
   "source": [
    "years = years[4:]"
   ]
  },
  {
   "cell_type": "code",
   "execution_count": 14,
   "id": "3d645d9f",
   "metadata": {},
   "outputs": [
    {
     "data": {
      "text/plain": [
       "array([0.10835913, 0.16966586, 0.20878775, 0.26545945, 0.31847751,\n",
       "       0.35713547, 0.40106206, 0.44366963, 0.43924245, 0.42017747,\n",
       "       0.42241691, 0.42745692])"
      ]
     },
     "execution_count": 14,
     "metadata": {},
     "output_type": "execute_result"
    }
   ],
   "source": [
    "hpv_Rate_m"
   ]
  },
  {
   "cell_type": "code",
   "execution_count": 15,
   "id": "2cb00374",
   "metadata": {},
   "outputs": [
    {
     "data": {
      "text/plain": [
       "array([0.2118601 , 0.25012453, 0.26493083, 0.30829215, 0.35725487,\n",
       "       0.38940513, 0.4259875 , 0.46526707, 0.46121186, 0.4429252 ,\n",
       "       0.44536797, 0.4472839 ])"
      ]
     },
     "execution_count": 15,
     "metadata": {},
     "output_type": "execute_result"
    }
   ],
   "source": [
    "hpv_Rate_f"
   ]
  },
  {
   "cell_type": "code",
   "execution_count": 16,
   "id": "9a08d19a",
   "metadata": {},
   "outputs": [
    {
     "data": {
      "image/png": "[encoded data removed]",
      "text/plain": [
       "<Figure size 400x300 with 1 Axes>"
      ]
     },
     "metadata": {},
     "output_type": "display_data"
    }
   ],
   "source": [
    "# Show hpv rate change\n",
    "plt.figure(figsize=(4, 3))\n",
    "\n",
    "# plt.bar(years, hpv_Rate,color = 'blue',alpha=0.5,width=0.6)\n",
    "plt.plot(years, hpv_Rate,'o-',color = 'C1',alpha=0.5,label='Total Rate')\n",
    "plt.plot(years, hpv_Rate_m,'o-',color = 'C2',alpha=0.5,label = 'Male Rate')\n",
    "plt.plot(years, hpv_Rate_f,'o-',color = 'C3',alpha=0.5,label = 'Female Rate')\n",
    "# plt.plot(years, hpv_Rate,'*-', color='red', label='rate')\n",
    "plt.ylim([0,0.6])\n",
    "plt.xlabel('Year')\n",
    "plt.ylabel('Rate Towards the Tdap Population')\n",
    "# plt.title('HPV Vaccination Rate Yearly Change (Age 9-13)')\n",
    "plt.xticks(years,rotation = 35)\n",
    "plt.legend(loc='best')\n",
    "plt.tight_layout()\n",
    "plt.grid(True,linestyle='--', color='gray', linewidth=0.5, alpha=0.5)\n",
    "plt.savefig('../Manuscript Materials/AJPM/Figures/FigureB/Total_male_female.jpg')\n",
    "\n",
    "\n",
    "plt.show()"
   ]
  },
  {
   "cell_type": "markdown",
   "id": "80cd3f1d",
   "metadata": {},
   "source": [
    "### comparison between different county"
   ]
  },
  {
   "cell_type": "code",
   "execution_count": 651,
   "id": "0aa8c304",
   "metadata": {},
   "outputs": [
    {
     "data": {
      "text/plain": [
       "Index(['client_id', 'RACE_DESC', 'ETHNICITY_DESC', 'PatientZip',\n",
       "       'PatientCounty', 'GENDER', '2008', '2009', '2010', '2011', '2012',\n",
       "       '2013', '2014', '2015', '2016', '2017', '2018', '2019', '2020', '2021',\n",
       "       '2022', '2023'],\n",
       "      dtype='object')"
      ]
     },
     "execution_count": 651,
     "metadata": {},
     "output_type": "execute_result"
    }
   ],
   "source": [
    "df_age_hpv.columns"
   ]
  },
  {
   "cell_type": "code",
   "execution_count": 652,
   "id": "61bf2e60",
   "metadata": {},
   "outputs": [
    {
     "data": {
      "text/plain": [
       "array(['Nassau', 'Suffolk'], dtype=object)"
      ]
     },
     "execution_count": 652,
     "metadata": {},
     "output_type": "execute_result"
    }
   ],
   "source": [
    "df_age_hpv['PatientCounty'].unique()"
   ]
  },
  {
   "cell_type": "code",
   "execution_count": 653,
   "id": "1dce329e",
   "metadata": {},
   "outputs": [],
   "source": [
    "years = np.array((df_age_total.columns))[6:]\n",
    "# suffolk\n",
    "df_suffolk_hpv = df_age_hpv[df_age_hpv['PatientCounty']=='Suffolk']\n",
    "df_suffolk_total = df_age_total[df_age_total['PatientCounty']=='Suffolk']\n",
    "df_suffolk_tdap = df_age_tdap[df_age_tdap['PatientCounty']=='Suffolk']\n",
    "\n",
    "hpv_amount = calamount(df_suffolk_hpv,years,9,13)\n",
    "total_amount = calamount(df_suffolk_total,years,9,13)\n",
    "tdap_amount = calamount(df_suffolk_tdap,years,9,13)\n",
    "\n",
    "hpv_Rate_s = hpv_amount/total_amount\n",
    "tdap_Rate_s = tdap_amount/total_amount\n",
    "\n"
   ]
  },
  {
   "cell_type": "code",
   "execution_count": 657,
   "id": "1a18c038",
   "metadata": {},
   "outputs": [],
   "source": [
    "#suffolk Male/ Female\n",
    "df_suffolk_hpv_m = df_suffolk_hpv[df_suffolk_hpv['GENDER']=='M']\n",
    "df_suffolk_total_m = df_suffolk_total[df_suffolk_total['GENDER']=='M']\n",
    "df_suffolk_hpv_f = df_suffolk_hpv[df_suffolk_hpv['GENDER']=='F']\n",
    "df_suffolk_total_f = df_suffolk_total[df_suffolk_total['GENDER']=='F']\n",
    "\n",
    "hpv_amount_m = calamount(df_suffolk_hpv_m,years,9,13)\n",
    "total_amount_m = calamount(df_suffolk_total_m,years,9,13)\n",
    "\n",
    "hpv_amount_f = calamount(df_suffolk_hpv_f,years,9,13)\n",
    "total_amount_f = calamount(df_suffolk_total_f,years,9,13)\n",
    "\n",
    "hpv_Rate_sm = hpv_amount_m/total_amount_m\n",
    "hpv_Rate_sf = hpv_amount_f/total_amount_f\n"
   ]
  },
  {
   "cell_type": "code",
   "execution_count": 659,
   "id": "07cfca9e",
   "metadata": {},
   "outputs": [],
   "source": [
    "#nassau\n",
    "\n",
    "df_nassau_hpv = df_age_hpv[df_age_hpv['PatientCounty']=='Nassau']\n",
    "df_nassau_total = df_age_total[df_age_total['PatientCounty']=='Nassau']\n",
    "df_nassau_tdap = df_age_tdap[df_age_tdap['PatientCounty']=='Nassau']\n",
    "\n",
    "hpv_amount = calamount(df_nassau_hpv,years,9,13)\n",
    "total_amount = calamount(df_nassau_total,years,9,13)\n",
    "tdap_amount = calamount(df_nassau_tdap,years,9,13)\n",
    "\n",
    "hpv_Rate_n = hpv_amount/total_amount\n",
    "tdap_Rate_n = tdap_amount/total_amount\n",
    "\n",
    "# years = years[4:]"
   ]
  },
  {
   "cell_type": "code",
   "execution_count": 660,
   "id": "22a2edfe",
   "metadata": {},
   "outputs": [],
   "source": [
    "#Nassau Male/ Female\n",
    "df_nassau_hpv_m = df_nassau_hpv[df_nassau_hpv['GENDER']=='M']\n",
    "df_nassau_total_m = df_nassau_total[df_nassau_total['GENDER']=='M']\n",
    "df_nassau_hpv_f = df_nassau_hpv[df_nassau_hpv['GENDER']=='F']\n",
    "df_nassau_total_f = df_nassau_total[df_nassau_total['GENDER']=='F']\n",
    "\n",
    "hpv_amount_m = calamount(df_nassau_hpv_m,years,9,13)\n",
    "total_amount_m = calamount(df_nassau_total_m,years,9,13)\n",
    "\n",
    "hpv_amount_f = calamount(df_nassau_hpv_f,years,9,13)\n",
    "total_amount_f = calamount(df_nassau_total_f,years,9,13)\n",
    "\n",
    "hpv_Rate_nm = hpv_amount_m/total_amount_m\n",
    "hpv_Rate_nf = hpv_amount_f/total_amount_f\n"
   ]
  },
  {
   "cell_type": "code",
   "execution_count": 661,
   "id": "9067470e",
   "metadata": {},
   "outputs": [],
   "source": [
    "years = years[4:]"
   ]
  },
  {
   "cell_type": "code",
   "execution_count": 682,
   "id": "6a4ce2c3",
   "metadata": {},
   "outputs": [
    {
     "data": {
      "image/png": "[encoded data removed]",
      "text/plain": [
       "<Figure size 400x300 with 1 Axes>"
      ]
     },
     "metadata": {},
     "output_type": "display_data"
    }
   ],
   "source": [
    "# Show hpv rate change\n",
    "plt.figure(figsize=(4, 3))\n",
    "\n",
    "# plt.bar(years, hpv_Rate,color = 'blue',alpha=0.5,width=0.6)\n",
    "# plt.plot(years, hpv_Rate_s,'o-',color = 'C1',alpha=0.5,label='Suffolk Rate')\n",
    "plt.bar(years, hpv_Rate_s,color = 'C1',alpha=0.5,label='Total Rate')\n",
    "plt.plot(years, hpv_Rate_sm,'x:',ms='4',color = 'C2',label='Male Rate')\n",
    "plt.plot(years, hpv_Rate_sf,'x--',ms='4',color = 'C3',label='Female Rate')\n",
    "# plt.plot(years, hpv_Rate_sf,'o:',color = 'C1',alpha=0.5,label='Suffolk Female')\n",
    "# plt.plot(years, hpv_Rate_n,'o-',color = 'C2',alpha=0.5,label = 'Nassau Rate')\n",
    "# plt.bar(years, hpv_Rate_n,color = 'C2',alpha=0.5,label = 'Nassau Rate')\n",
    "\n",
    "plt.ylim([0.1,0.55])\n",
    "plt.xlabel('Year')\n",
    "plt.ylabel('Suffolk Rate Towards the Tdap Population')\n",
    "# plt.title('HPV Vaccination Rate Yearly Change (Age 9-13)')\n",
    "plt.xticks(years,rotation = 35)\n",
    "plt.legend(loc='best')\n",
    "plt.tight_layout()\n",
    "plt.grid(True,linestyle='--', color='gray', linewidth=0.5, alpha=0.5)\n",
    "plt.savefig('../Manuscript Materials/AJPM/Figures/FigureB/Suffolk.jpg')\n",
    "\n",
    "\n",
    "plt.show()"
   ]
  },
  {
   "cell_type": "code",
   "execution_count": 683,
   "id": "cf3a25f4",
   "metadata": {},
   "outputs": [
    {
     "data": {
      "image/png": "[encoded data removed]",
      "text/plain": [
       "<Figure size 400x300 with 1 Axes>"
      ]
     },
     "metadata": {},
     "output_type": "display_data"
    }
   ],
   "source": [
    "# Show hpv rate change\n",
    "plt.figure(figsize=(4, 3))\n",
    "\n",
    "# plt.bar(years, hpv_Rate,color = 'blue',alpha=0.5,width=0.6)\n",
    "# plt.plot(years, hpv_Rate_s,'o-',color = 'C1',alpha=0.5,label='Suffolk Rate')\n",
    "plt.bar(years, hpv_Rate_n,color = 'C2',alpha=0.5,label='Total Rate')\n",
    "plt.plot(years, hpv_Rate_nm,'x:',ms='4',color = 'C3',label='Male Rate')\n",
    "plt.plot(years, hpv_Rate_nf,'x--',ms='4',color = 'C4',label='Female Rate')\n",
    "# plt.plot(years, hpv_Rate_sf,'o:',color = 'C1',alpha=0.5,label='Suffolk Female')\n",
    "# plt.plot(years, hpv_Rate_n,'o-',color = 'C2',alpha=0.5,label = 'Nassau Rate')\n",
    "# plt.bar(years, hpv_Rate_n,color = 'C2',alpha=0.5,label = 'Nassau Rate')\n",
    "\n",
    "plt.ylim([0.1,0.5])\n",
    "plt.xlabel('Year')\n",
    "plt.ylabel('Nassau Rate Towards the Tdap Population')\n",
    "# plt.title('HPV Vaccination Rate Yearly Change (Age 9-13)')\n",
    "plt.xticks(years,rotation = 35)\n",
    "plt.legend(loc='best')\n",
    "plt.tight_layout()\n",
    "plt.grid(True,linestyle='--', color='gray', linewidth=0.5, alpha=0.5)\n",
    "plt.savefig('../Manuscript Materials/AJPM/Figures/FigureB/Nassau.jpg')\n",
    "\n",
    "\n",
    "plt.show()"
   ]
  },
  {
   "cell_type": "markdown",
   "id": "f93e88e3",
   "metadata": {},
   "source": [
    "# Figure C Completeness Analysis"
   ]
  },
  {
   "cell_type": "code",
   "execution_count": 17,
   "id": "dd4e2f8d",
   "metadata": {},
   "outputs": [],
   "source": [
    "df_copy2 = hpv_patients.copy()\n",
    "rang = []\n",
    "firstAge = []\n",
    "doses = []\n",
    "for i in range(len(df_copy2)):\n",
    "    if np.isnan(df_copy2['dose12gap'][i]):\n",
    "        rang.append('Only 1 Dose')\n",
    "    elif df_copy2['dose12gap'][i]<6:\n",
    "        rang.append('< 6 months')\n",
    "    elif df_copy2['dose12gap'][i]<12 and df_copy2['dose12gap'][i]>=6:\n",
    "        rang.append('6-12 Month(Recommended)')\n",
    "    else:\n",
    "        rang.append('Over 1 year')\n",
    "        \n",
    "    if df_copy2['PatientAge'][i]<15:\n",
    "        firstAge.append('First Dose < 15')\n",
    "    else:\n",
    "        firstAge.append('First Dose > 15')\n",
    "    \n",
    "    if df_copy2['Doses'][i]==1:\n",
    "        doses.append('1 Dose')\n",
    "    elif df_copy2['Doses'][i]==2:\n",
    "        doses.append('2 Doses')\n",
    "    elif df_copy2['Doses'][i]==3:\n",
    "        doses.append('3 Doses')\n",
    "            \n",
    "df_copy2['gap12'] = rang\n",
    "df_copy2['firstDoseAge']=firstAge\n",
    "df_copy2['Doses']=doses\n",
    "# grouped_patients = df_copy.groupby(['Doses','range']).agg(count=('Doses', 'size'),\n",
    "#                                             avg=('PatientAge', 'mean')).reset_index()\n",
    "\n",
    "\n",
    "grouped_patients = df_copy2.groupby(['Doses','gap12','firstDoseAge']).agg(Count=('Doses', 'size'),\n",
    "                                            Patient_Age=('PatientAge', 'mean')).reset_index()"
   ]
  },
  {
   "cell_type": "code",
   "execution_count": 18,
   "id": "629a1602",
   "metadata": {},
   "outputs": [
    {
     "data": {
      "text/html": [
       "<div>\n",
       "<style scoped>\n",
       "    .dataframe tbody tr th:only-of-type {\n",
       "        vertical-align: middle;\n",
       "    }\n",
       "\n",
       "    .dataframe tbody tr th {\n",
       "        vertical-align: top;\n",
       "    }\n",
       "\n",
       "    .dataframe thead th {\n",
       "        text-align: right;\n",
       "    }\n",
       "</style>\n",
       "<table border=\"1\" class=\"dataframe\">\n",
       "  <thead>\n",
       "    <tr style=\"text-align: right;\">\n",
       "      <th></th>\n",
       "      <th>Doses</th>\n",
       "      <th>gap12</th>\n",
       "      <th>firstDoseAge</th>\n",
       "      <th>Count</th>\n",
       "      <th>Patient_Age</th>\n",
       "    </tr>\n",
       "  </thead>\n",
       "  <tbody>\n",
       "    <tr>\n",
       "      <th>0</th>\n",
       "      <td>1 Dose</td>\n",
       "      <td>Only 1 Dose</td>\n",
       "      <td>First Dose &lt; 15</td>\n",
       "      <td>56190</td>\n",
       "      <td>12.133796</td>\n",
       "    </tr>\n",
       "    <tr>\n",
       "      <th>1</th>\n",
       "      <td>1 Dose</td>\n",
       "      <td>Only 1 Dose</td>\n",
       "      <td>First Dose &gt; 15</td>\n",
       "      <td>42406</td>\n",
       "      <td>17.315121</td>\n",
       "    </tr>\n",
       "    <tr>\n",
       "      <th>2</th>\n",
       "      <td>2 Doses</td>\n",
       "      <td>6-12 Month(Recommended)</td>\n",
       "      <td>First Dose &lt; 15</td>\n",
       "      <td>80523</td>\n",
       "      <td>11.913168</td>\n",
       "    </tr>\n",
       "    <tr>\n",
       "      <th>3</th>\n",
       "      <td>2 Doses</td>\n",
       "      <td>6-12 Month(Recommended)</td>\n",
       "      <td>First Dose &gt; 15</td>\n",
       "      <td>7888</td>\n",
       "      <td>16.635269</td>\n",
       "    </tr>\n",
       "    <tr>\n",
       "      <th>4</th>\n",
       "      <td>2 Doses</td>\n",
       "      <td>&lt; 6 months</td>\n",
       "      <td>First Dose &lt; 15</td>\n",
       "      <td>8729</td>\n",
       "      <td>12.380341</td>\n",
       "    </tr>\n",
       "    <tr>\n",
       "      <th>5</th>\n",
       "      <td>2 Doses</td>\n",
       "      <td>&lt; 6 months</td>\n",
       "      <td>First Dose &gt; 15</td>\n",
       "      <td>17783</td>\n",
       "      <td>17.151156</td>\n",
       "    </tr>\n",
       "    <tr>\n",
       "      <th>6</th>\n",
       "      <td>2 Doses</td>\n",
       "      <td>Over 1 year</td>\n",
       "      <td>First Dose &lt; 15</td>\n",
       "      <td>117678</td>\n",
       "      <td>12.061328</td>\n",
       "    </tr>\n",
       "    <tr>\n",
       "      <th>7</th>\n",
       "      <td>2 Doses</td>\n",
       "      <td>Over 1 year</td>\n",
       "      <td>First Dose &gt; 15</td>\n",
       "      <td>14027</td>\n",
       "      <td>16.192557</td>\n",
       "    </tr>\n",
       "    <tr>\n",
       "      <th>8</th>\n",
       "      <td>3 Doses</td>\n",
       "      <td>6-12 Month(Recommended)</td>\n",
       "      <td>First Dose &lt; 15</td>\n",
       "      <td>19</td>\n",
       "      <td>12.578947</td>\n",
       "    </tr>\n",
       "    <tr>\n",
       "      <th>9</th>\n",
       "      <td>3 Doses</td>\n",
       "      <td>6-12 Month(Recommended)</td>\n",
       "      <td>First Dose &gt; 15</td>\n",
       "      <td>7377</td>\n",
       "      <td>16.053138</td>\n",
       "    </tr>\n",
       "    <tr>\n",
       "      <th>10</th>\n",
       "      <td>3 Doses</td>\n",
       "      <td>&lt; 6 months</td>\n",
       "      <td>First Dose &lt; 15</td>\n",
       "      <td>59504</td>\n",
       "      <td>12.340364</td>\n",
       "    </tr>\n",
       "    <tr>\n",
       "      <th>11</th>\n",
       "      <td>3 Doses</td>\n",
       "      <td>&lt; 6 months</td>\n",
       "      <td>First Dose &gt; 15</td>\n",
       "      <td>51869</td>\n",
       "      <td>16.312942</td>\n",
       "    </tr>\n",
       "    <tr>\n",
       "      <th>12</th>\n",
       "      <td>3 Doses</td>\n",
       "      <td>Over 1 year</td>\n",
       "      <td>First Dose &lt; 15</td>\n",
       "      <td>9</td>\n",
       "      <td>11.444444</td>\n",
       "    </tr>\n",
       "    <tr>\n",
       "      <th>13</th>\n",
       "      <td>3 Doses</td>\n",
       "      <td>Over 1 year</td>\n",
       "      <td>First Dose &gt; 15</td>\n",
       "      <td>9993</td>\n",
       "      <td>15.736115</td>\n",
       "    </tr>\n",
       "  </tbody>\n",
       "</table>\n",
       "</div>"
      ],
      "text/plain": [
       "      Doses                    gap12     firstDoseAge   Count  Patient_Age\n",
       "0    1 Dose              Only 1 Dose  First Dose < 15   56190    12.133796\n",
       "1    1 Dose              Only 1 Dose  First Dose > 15   42406    17.315121\n",
       "2   2 Doses  6-12 Month(Recommended)  First Dose < 15   80523    11.913168\n",
       "3   2 Doses  6-12 Month(Recommended)  First Dose > 15    7888    16.635269\n",
       "4   2 Doses               < 6 months  First Dose < 15    8729    12.380341\n",
       "5   2 Doses               < 6 months  First Dose > 15   17783    17.151156\n",
       "6   2 Doses              Over 1 year  First Dose < 15  117678    12.061328\n",
       "7   2 Doses              Over 1 year  First Dose > 15   14027    16.192557\n",
       "8   3 Doses  6-12 Month(Recommended)  First Dose < 15      19    12.578947\n",
       "9   3 Doses  6-12 Month(Recommended)  First Dose > 15    7377    16.053138\n",
       "10  3 Doses               < 6 months  First Dose < 15   59504    12.340364\n",
       "11  3 Doses               < 6 months  First Dose > 15   51869    16.312942\n",
       "12  3 Doses              Over 1 year  First Dose < 15       9    11.444444\n",
       "13  3 Doses              Over 1 year  First Dose > 15    9993    15.736115"
      ]
     },
     "execution_count": 18,
     "metadata": {},
     "output_type": "execute_result"
    }
   ],
   "source": [
    "grouped_patients"
   ]
  },
  {
   "cell_type": "code",
   "execution_count": 21,
   "id": "558abdcb",
   "metadata": {},
   "outputs": [
    {
     "data": {
      "text/html": [
       "<div>\n",
       "<style scoped>\n",
       "    .dataframe tbody tr th:only-of-type {\n",
       "        vertical-align: middle;\n",
       "    }\n",
       "\n",
       "    .dataframe tbody tr th {\n",
       "        vertical-align: top;\n",
       "    }\n",
       "\n",
       "    .dataframe thead th {\n",
       "        text-align: right;\n",
       "    }\n",
       "</style>\n",
       "<table border=\"1\" class=\"dataframe\">\n",
       "  <thead>\n",
       "    <tr style=\"text-align: right;\">\n",
       "      <th></th>\n",
       "      <th>firstDoseAge</th>\n",
       "      <th>Count</th>\n",
       "    </tr>\n",
       "  </thead>\n",
       "  <tbody>\n",
       "    <tr>\n",
       "      <th>0</th>\n",
       "      <td>First Dose &lt; 15</td>\n",
       "      <td>322652</td>\n",
       "    </tr>\n",
       "    <tr>\n",
       "      <th>1</th>\n",
       "      <td>First Dose &gt; 15</td>\n",
       "      <td>151343</td>\n",
       "    </tr>\n",
       "  </tbody>\n",
       "</table>\n",
       "</div>"
      ],
      "text/plain": [
       "      firstDoseAge   Count\n",
       "0  First Dose < 15  322652\n",
       "1  First Dose > 15  151343"
      ]
     },
     "execution_count": 21,
     "metadata": {},
     "output_type": "execute_result"
    }
   ],
   "source": [
    "group = grouped_patients.groupby(['firstDoseAge']).agg(Count=('Count','sum')).reset_index()\n",
    "group"
   ]
  },
  {
   "cell_type": "code",
   "execution_count": 22,
   "id": "6aa04fe3",
   "metadata": {},
   "outputs": [
    {
     "data": {
      "text/html": [
       "<div>\n",
       "<style scoped>\n",
       "    .dataframe tbody tr th:only-of-type {\n",
       "        vertical-align: middle;\n",
       "    }\n",
       "\n",
       "    .dataframe tbody tr th {\n",
       "        vertical-align: top;\n",
       "    }\n",
       "\n",
       "    .dataframe thead th {\n",
       "        text-align: right;\n",
       "    }\n",
       "</style>\n",
       "<table border=\"1\" class=\"dataframe\">\n",
       "  <thead>\n",
       "    <tr style=\"text-align: right;\">\n",
       "      <th></th>\n",
       "      <th>firstDoseAge</th>\n",
       "      <th>Doses</th>\n",
       "      <th>Count</th>\n",
       "    </tr>\n",
       "  </thead>\n",
       "  <tbody>\n",
       "    <tr>\n",
       "      <th>0</th>\n",
       "      <td>First Dose &lt; 15</td>\n",
       "      <td>1 Dose</td>\n",
       "      <td>56190</td>\n",
       "    </tr>\n",
       "    <tr>\n",
       "      <th>1</th>\n",
       "      <td>First Dose &lt; 15</td>\n",
       "      <td>2 Doses</td>\n",
       "      <td>206930</td>\n",
       "    </tr>\n",
       "    <tr>\n",
       "      <th>2</th>\n",
       "      <td>First Dose &lt; 15</td>\n",
       "      <td>3 Doses</td>\n",
       "      <td>59532</td>\n",
       "    </tr>\n",
       "    <tr>\n",
       "      <th>3</th>\n",
       "      <td>First Dose &gt; 15</td>\n",
       "      <td>1 Dose</td>\n",
       "      <td>42406</td>\n",
       "    </tr>\n",
       "    <tr>\n",
       "      <th>4</th>\n",
       "      <td>First Dose &gt; 15</td>\n",
       "      <td>2 Doses</td>\n",
       "      <td>39698</td>\n",
       "    </tr>\n",
       "    <tr>\n",
       "      <th>5</th>\n",
       "      <td>First Dose &gt; 15</td>\n",
       "      <td>3 Doses</td>\n",
       "      <td>69239</td>\n",
       "    </tr>\n",
       "  </tbody>\n",
       "</table>\n",
       "</div>"
      ],
      "text/plain": [
       "      firstDoseAge    Doses   Count\n",
       "0  First Dose < 15   1 Dose   56190\n",
       "1  First Dose < 15  2 Doses  206930\n",
       "2  First Dose < 15  3 Doses   59532\n",
       "3  First Dose > 15   1 Dose   42406\n",
       "4  First Dose > 15  2 Doses   39698\n",
       "5  First Dose > 15  3 Doses   69239"
      ]
     },
     "execution_count": 22,
     "metadata": {},
     "output_type": "execute_result"
    }
   ],
   "source": [
    "group = grouped_patients.groupby(['firstDoseAge','Doses']).agg(Count=('Count','sum')).reset_index()\n",
    "group"
   ]
  },
  {
   "cell_type": "code",
   "execution_count": 23,
   "id": "9b84438e",
   "metadata": {},
   "outputs": [
    {
     "data": {
      "text/plain": [
       "0.8258495220857146"
      ]
     },
     "execution_count": 23,
     "metadata": {},
     "output_type": "execute_result"
    }
   ],
   "source": [
    "(206930+59532)/322652"
   ]
  },
  {
   "cell_type": "code",
   "execution_count": 24,
   "id": "8722e763",
   "metadata": {},
   "outputs": [
    {
     "data": {
      "text/plain": [
       "0.7198020390767991"
      ]
     },
     "execution_count": 24,
     "metadata": {},
     "output_type": "execute_result"
    }
   ],
   "source": [
    "(39698+69239)/151343"
   ]
  },
  {
   "cell_type": "code",
   "execution_count": 25,
   "id": "1ab4ae6a",
   "metadata": {},
   "outputs": [
    {
     "data": {
      "text/plain": [
       "0.791989366976445"
      ]
     },
     "execution_count": 25,
     "metadata": {},
     "output_type": "execute_result"
    }
   ],
   "source": [
    "(206930+59532+39698+69239)/(322652+151343)"
   ]
  },
  {
   "cell_type": "code",
   "execution_count": 337,
   "id": "f020f0f9",
   "metadata": {},
   "outputs": [
    {
     "data": {
      "application/vnd.plotly.v1+json": {
       "config": {
        "plotlyServerURL": "https://plot.ly"
       },
       "data": [
        {
         "branchvalues": "total",
         "customdata": [
          [
           11.913167666381034
          ],
          [
           16.635268762677484
          ],
          [
           12.578947368421053
          ],
          [
           16.053138132031993
          ],
          [
           12.38034139076641
          ],
          [
           17.151155598043076
          ],
          [
           12.340363673030385
          ],
          [
           16.312942219823015
          ],
          [
           12.133796049119061
          ],
          [
           17.31512050181578
          ],
          [
           12.061328370638522
          ],
          [
           16.192557211092893
          ],
          [
           11.444444444444445
          ],
          [
           15.736115280696488
          ],
          [
           12.133796049119061
          ],
          [
           17.31512050181578
          ],
          [
           12.017131397090804
          ],
          [
           16.70993500932037
          ],
          [
           12.340304374118121
          ],
          [
           16.202010427649157
          ],
          [
           12.09707672662807
          ],
          [
           16.64713267214209
          ]
         ],
         "domain": {
          "x": [
           0,
           1
          ],
          "y": [
           0,
           1
          ]
         },
         "hovertemplate": "labels=%{label}<br>Count=%{value}<br>parent=%{parent}<br>id=%{id}<br>Patient_Age=%{color}<extra></extra>",
         "ids": [
          "First Dose < 15/2 Doses/6-12 Month(Recommended)",
          "First Dose > 15/2 Doses/6-12 Month(Recommended)",
          "First Dose < 15/3 Doses/6-12 Month(Recommended)",
          "First Dose > 15/3 Doses/6-12 Month(Recommended)",
          "First Dose < 15/2 Doses/< 6 months",
          "First Dose > 15/2 Doses/< 6 months",
          "First Dose < 15/3 Doses/< 6 months",
          "First Dose > 15/3 Doses/< 6 months",
          "First Dose < 15/1 Dose/Only 1 Dose",
          "First Dose > 15/1 Dose/Only 1 Dose",
          "First Dose < 15/2 Doses/Over 1 year",
          "First Dose > 15/2 Doses/Over 1 year",
          "First Dose < 15/3 Doses/Over 1 year",
          "First Dose > 15/3 Doses/Over 1 year",
          "First Dose < 15/1 Dose",
          "First Dose > 15/1 Dose",
          "First Dose < 15/2 Doses",
          "First Dose > 15/2 Doses",
          "First Dose < 15/3 Doses",
          "First Dose > 15/3 Doses",
          "First Dose < 15",
          "First Dose > 15"
         ],
         "labels": [
          "6-12 Month(Recommended)",
          "6-12 Month(Recommended)",
          "6-12 Month(Recommended)",
          "6-12 Month(Recommended)",
          "< 6 months",
          "< 6 months",
          "< 6 months",
          "< 6 months",
          "Only 1 Dose",
          "Only 1 Dose",
          "Over 1 year",
          "Over 1 year",
          "Over 1 year",
          "Over 1 year",
          "1 Dose",
          "1 Dose",
          "2 Doses",
          "2 Doses",
          "3 Doses",
          "3 Doses",
          "First Dose < 15",
          "First Dose > 15"
         ],
         "marker": {
          "coloraxis": "coloraxis",
          "colors": [
           11.913167666381034,
           16.635268762677484,
           12.578947368421053,
           16.053138132031993,
           12.38034139076641,
           17.151155598043076,
           12.340363673030385,
           16.312942219823015,
           12.133796049119061,
           17.31512050181578,
           12.061328370638522,
           16.192557211092893,
           11.444444444444445,
           15.736115280696488,
           12.133796049119061,
           17.31512050181578,
           12.017131397090804,
           16.70993500932037,
           12.340304374118121,
           16.202010427649157,
           12.09707672662807,
           16.64713267214209
          ]
         },
         "name": "",
         "parents": [
          "First Dose < 15/2 Doses",
          "First Dose > 15/2 Doses",
          "First Dose < 15/3 Doses",
          "First Dose > 15/3 Doses",
          "First Dose < 15/2 Doses",
          "First Dose > 15/2 Doses",
          "First Dose < 15/3 Doses",
          "First Dose > 15/3 Doses",
          "First Dose < 15/1 Dose",
          "First Dose > 15/1 Dose",
          "First Dose < 15/2 Doses",
          "First Dose > 15/2 Doses",
          "First Dose < 15/3 Doses",
          "First Dose > 15/3 Doses",
          "First Dose < 15",
          "First Dose > 15",
          "First Dose < 15",
          "First Dose > 15",
          "First Dose < 15",
          "First Dose > 15",
          "",
          ""
         ],
         "type": "sunburst",
         "values": [
          80523,
          7888,
          19,
          7377,
          8729,
          17783,
          59504,
          51869,
          56190,
          42406,
          117678,
          14027,
          9,
          9993,
          56190,
          42406,
          206930,
          39698,
          59532,
          69239,
          322652,
          151343
         ]
        }
       ],
       "layout": {
        "coloraxis": {
         "cmid": 14.303477619212973,
         "colorbar": {
          "title": {
           "text": "Patient_Age"
          }
         },
         "colorscale": [
          [
           0,
           "rgb(103,0,31)"
          ],
          [
           0.1,
           "rgb(178,24,43)"
          ],
          [
           0.2,
           "rgb(214,96,77)"
          ],
          [
           0.3,
           "rgb(244,165,130)"
          ],
          [
           0.4,
           "rgb(253,219,199)"
          ],
          [
           0.5,
           "rgb(247,247,247)"
          ],
          [
           0.6,
           "rgb(209,229,240)"
          ],
          [
           0.7,
           "rgb(146,197,222)"
          ],
          [
           0.8,
           "rgb(67,147,195)"
          ],
          [
           0.9,
           "rgb(33,102,172)"
          ],
          [
           1,
           "rgb(5,48,97)"
          ]
         ]
        },
        "font": {
         "family": "Times New Roman"
        },
        "legend": {
         "tracegroupgap": 0
        },
        "margin": {
         "t": 60
        },
        "template": {
         "data": {
          "bar": [
           {
            "error_x": {
             "color": "#2a3f5f"
            },
            "error_y": {
             "color": "#2a3f5f"
            },
            "marker": {
             "line": {
              "color": "#E5ECF6",
              "width": 0.5
             },
             "pattern": {
              "fillmode": "overlay",
              "size": 10,
              "solidity": 0.2
             }
            },
            "type": "bar"
           }
          ],
          "barpolar": [
           {
            "marker": {
             "line": {
              "color": "#E5ECF6",
              "width": 0.5
             },
             "pattern": {
              "fillmode": "overlay",
              "size": 10,
              "solidity": 0.2
             }
            },
            "type": "barpolar"
           }
          ],
          "carpet": [
           {
            "aaxis": {
             "endlinecolor": "#2a3f5f",
             "gridcolor": "white",
             "linecolor": "white",
             "minorgridcolor": "white",
             "startlinecolor": "#2a3f5f"
            },
            "baxis": {
             "endlinecolor": "#2a3f5f",
             "gridcolor": "white",
             "linecolor": "white",
             "minorgridcolor": "white",
             "startlinecolor": "#2a3f5f"
            },
            "type": "carpet"
           }
          ],
          "choropleth": [
           {
            "colorbar": {
             "outlinewidth": 0,
             "ticks": ""
            },
            "type": "choropleth"
           }
          ],
          "contour": [
           {
            "colorbar": {
             "outlinewidth": 0,
             "ticks": ""
            },
            "colorscale": [
             [
              0,
              "#0d0887"
             ],
             [
              0.1111111111111111,
              "#46039f"
             ],
             [
              0.2222222222222222,
              "#7201a8"
             ],
             [
              0.3333333333333333,
              "#9c179e"
             ],
             [
              0.4444444444444444,
              "#bd3786"
             ],
             [
              0.5555555555555556,
              "#d8576b"
             ],
             [
              0.6666666666666666,
              "#ed7953"
             ],
             [
              0.7777777777777778,
              "#fb9f3a"
             ],
             [
              0.8888888888888888,
              "#fdca26"
             ],
             [
              1,
              "#f0f921"
             ]
            ],
            "type": "contour"
           }
          ],
          "contourcarpet": [
           {
            "colorbar": {
             "outlinewidth": 0,
             "ticks": ""
            },
            "type": "contourcarpet"
           }
          ],
          "heatmap": [
           {
            "colorbar": {
             "outlinewidth": 0,
             "ticks": ""
            },
            "colorscale": [
             [
              0,
              "#0d0887"
             ],
             [
              0.1111111111111111,
              "#46039f"
             ],
             [
              0.2222222222222222,
              "#7201a8"
             ],
             [
              0.3333333333333333,
              "#9c179e"
             ],
             [
              0.4444444444444444,
              "#bd3786"
             ],
             [
              0.5555555555555556,
              "#d8576b"
             ],
             [
              0.6666666666666666,
              "#ed7953"
             ],
             [
              0.7777777777777778,
              "#fb9f3a"
             ],
             [
              0.8888888888888888,
              "#fdca26"
             ],
             [
              1,
              "#f0f921"
             ]
            ],
            "type": "heatmap"
           }
          ],
          "heatmapgl": [
           {
            "colorbar": {
             "outlinewidth": 0,
             "ticks": ""
            },
            "colorscale": [
             [
              0,
              "#0d0887"
             ],
             [
              0.1111111111111111,
              "#46039f"
             ],
             [
              0.2222222222222222,
              "#7201a8"
             ],
             [
              0.3333333333333333,
              "#9c179e"
             ],
             [
              0.4444444444444444,
              "#bd3786"
             ],
             [
              0.5555555555555556,
              "#d8576b"
             ],
             [
              0.6666666666666666,
              "#ed7953"
             ],
             [
              0.7777777777777778,
              "#fb9f3a"
             ],
             [
              0.8888888888888888,
              "#fdca26"
             ],
             [
              1,
              "#f0f921"
             ]
            ],
            "type": "heatmapgl"
           }
          ],
          "histogram": [
           {
            "marker": {
             "pattern": {
              "fillmode": "overlay",
              "size": 10,
              "solidity": 0.2
             }
            },
            "type": "histogram"
           }
          ],
          "histogram2d": [
           {
            "colorbar": {
             "outlinewidth": 0,
             "ticks": ""
            },
            "colorscale": [
             [
              0,
              "#0d0887"
             ],
             [
              0.1111111111111111,
              "#46039f"
             ],
             [
              0.2222222222222222,
              "#7201a8"
             ],
             [
              0.3333333333333333,
              "#9c179e"
             ],
             [
              0.4444444444444444,
              "#bd3786"
             ],
             [
              0.5555555555555556,
              "#d8576b"
             ],
             [
              0.6666666666666666,
              "#ed7953"
             ],
             [
              0.7777777777777778,
              "#fb9f3a"
             ],
             [
              0.8888888888888888,
              "#fdca26"
             ],
             [
              1,
              "#f0f921"
             ]
            ],
            "type": "histogram2d"
           }
          ],
          "histogram2dcontour": [
           {
            "colorbar": {
             "outlinewidth": 0,
             "ticks": ""
            },
            "colorscale": [
             [
              0,
              "#0d0887"
             ],
             [
              0.1111111111111111,
              "#46039f"
             ],
             [
              0.2222222222222222,
              "#7201a8"
             ],
             [
              0.3333333333333333,
              "#9c179e"
             ],
             [
              0.4444444444444444,
              "#bd3786"
             ],
             [
              0.5555555555555556,
              "#d8576b"
             ],
             [
              0.6666666666666666,
              "#ed7953"
             ],
             [
              0.7777777777777778,
              "#fb9f3a"
             ],
             [
              0.8888888888888888,
              "#fdca26"
             ],
             [
              1,
              "#f0f921"
             ]
            ],
            "type": "histogram2dcontour"
           }
          ],
          "mesh3d": [
           {
            "colorbar": {
             "outlinewidth": 0,
             "ticks": ""
            },
            "type": "mesh3d"
           }
          ],
          "parcoords": [
           {
            "line": {
             "colorbar": {
              "outlinewidth": 0,
              "ticks": ""
             }
            },
            "type": "parcoords"
           }
          ],
          "pie": [
           {
            "automargin": true,
            "type": "pie"
           }
          ],
          "scatter": [
           {
            "fillpattern": {
             "fillmode": "overlay",
             "size": 10,
             "solidity": 0.2
            },
            "type": "scatter"
           }
          ],
          "scatter3d": [
           {
            "line": {
             "colorbar": {
              "outlinewidth": 0,
              "ticks": ""
             }
            },
            "marker": {
             "colorbar": {
              "outlinewidth": 0,
              "ticks": ""
             }
            },
            "type": "scatter3d"
           }
          ],
          "scattercarpet": [
           {
            "marker": {
             "colorbar": {
              "outlinewidth": 0,
              "ticks": ""
             }
            },
            "type": "scattercarpet"
           }
          ],
          "scattergeo": [
           {
            "marker": {
             "colorbar": {
              "outlinewidth": 0,
              "ticks": ""
             }
            },
            "type": "scattergeo"
           }
          ],
          "scattergl": [
           {
            "marker": {
             "colorbar": {
              "outlinewidth": 0,
              "ticks": ""
             }
            },
            "type": "scattergl"
           }
          ],
          "scattermapbox": [
           {
            "marker": {
             "colorbar": {
              "outlinewidth": 0,
              "ticks": ""
             }
            },
            "type": "scattermapbox"
           }
          ],
          "scatterpolar": [
           {
            "marker": {
             "colorbar": {
              "outlinewidth": 0,
              "ticks": ""
             }
            },
            "type": "scatterpolar"
           }
          ],
          "scatterpolargl": [
           {
            "marker": {
             "colorbar": {
              "outlinewidth": 0,
              "ticks": ""
             }
            },
            "type": "scatterpolargl"
           }
          ],
          "scatterternary": [
           {
            "marker": {
             "colorbar": {
              "outlinewidth": 0,
              "ticks": ""
             }
            },
            "type": "scatterternary"
           }
          ],
          "surface": [
           {
            "colorbar": {
             "outlinewidth": 0,
             "ticks": ""
            },
            "colorscale": [
             [
              0,
              "#0d0887"
             ],
             [
              0.1111111111111111,
              "#46039f"
             ],
             [
              0.2222222222222222,
              "#7201a8"
             ],
             [
              0.3333333333333333,
              "#9c179e"
             ],
             [
              0.4444444444444444,
              "#bd3786"
             ],
             [
              0.5555555555555556,
              "#d8576b"
             ],
             [
              0.6666666666666666,
              "#ed7953"
             ],
             [
              0.7777777777777778,
              "#fb9f3a"
             ],
             [
              0.8888888888888888,
              "#fdca26"
             ],
             [
              1,
              "#f0f921"
             ]
            ],
            "type": "surface"
           }
          ],
          "table": [
           {
            "cells": {
             "fill": {
              "color": "#EBF0F8"
             },
             "line": {
              "color": "white"
             }
            },
            "header": {
             "fill": {
              "color": "#C8D4E3"
             },
             "line": {
              "color": "white"
             }
            },
            "type": "table"
           }
          ]
         },
         "layout": {
          "annotationdefaults": {
           "arrowcolor": "#2a3f5f",
           "arrowhead": 0,
           "arrowwidth": 1
          },
          "autotypenumbers": "strict",
          "coloraxis": {
           "colorbar": {
            "outlinewidth": 0,
            "ticks": ""
           }
          },
          "colorscale": {
           "diverging": [
            [
             0,
             "#8e0152"
            ],
            [
             0.1,
             "#c51b7d"
            ],
            [
             0.2,
             "#de77ae"
            ],
            [
             0.3,
             "#f1b6da"
            ],
            [
             0.4,
             "#fde0ef"
            ],
            [
             0.5,
             "#f7f7f7"
            ],
            [
             0.6,
             "#e6f5d0"
            ],
            [
             0.7,
             "#b8e186"
            ],
            [
             0.8,
             "#7fbc41"
            ],
            [
             0.9,
             "#4d9221"
            ],
            [
             1,
             "#276419"
            ]
           ],
           "sequential": [
            [
             0,
             "#0d0887"
            ],
            [
             0.1111111111111111,
             "#46039f"
            ],
            [
             0.2222222222222222,
             "#7201a8"
            ],
            [
             0.3333333333333333,
             "#9c179e"
            ],
            [
             0.4444444444444444,
             "#bd3786"
            ],
            [
             0.5555555555555556,
             "#d8576b"
            ],
            [
             0.6666666666666666,
             "#ed7953"
            ],
            [
             0.7777777777777778,
             "#fb9f3a"
            ],
            [
             0.8888888888888888,
             "#fdca26"
            ],
            [
             1,
             "#f0f921"
            ]
           ],
           "sequentialminus": [
            [
             0,
             "#0d0887"
            ],
            [
             0.1111111111111111,
             "#46039f"
            ],
            [
             0.2222222222222222,
             "#7201a8"
            ],
            [
             0.3333333333333333,
             "#9c179e"
            ],
            [
             0.4444444444444444,
             "#bd3786"
            ],
            [
             0.5555555555555556,
             "#d8576b"
            ],
            [
             0.6666666666666666,
             "#ed7953"
            ],
            [
             0.7777777777777778,
             "#fb9f3a"
            ],
            [
             0.8888888888888888,
             "#fdca26"
            ],
            [
             1,
             "#f0f921"
            ]
           ]
          },
          "colorway": [
           "#636efa",
           "#EF553B",
           "#00cc96",
           "#ab63fa",
           "#FFA15A",
           "#19d3f3",
           "#FF6692",
           "#B6E880",
           "#FF97FF",
           "#FECB52"
          ],
          "font": {
           "color": "#2a3f5f"
          },
          "geo": {
           "bgcolor": "white",
           "lakecolor": "white",
           "landcolor": "#E5ECF6",
           "showlakes": true,
           "showland": true,
           "subunitcolor": "white"
          },
          "hoverlabel": {
           "align": "left"
          },
          "hovermode": "closest",
          "mapbox": {
           "style": "light"
          },
          "paper_bgcolor": "white",
          "plot_bgcolor": "#E5ECF6",
          "polar": {
           "angularaxis": {
            "gridcolor": "white",
            "linecolor": "white",
            "ticks": ""
           },
           "bgcolor": "#E5ECF6",
           "radialaxis": {
            "gridcolor": "white",
            "linecolor": "white",
            "ticks": ""
           }
          },
          "scene": {
           "xaxis": {
            "backgroundcolor": "#E5ECF6",
            "gridcolor": "white",
            "gridwidth": 2,
            "linecolor": "white",
            "showbackground": true,
            "ticks": "",
            "zerolinecolor": "white"
           },
           "yaxis": {
            "backgroundcolor": "#E5ECF6",
            "gridcolor": "white",
            "gridwidth": 2,
            "linecolor": "white",
            "showbackground": true,
            "ticks": "",
            "zerolinecolor": "white"
           },
           "zaxis": {
            "backgroundcolor": "#E5ECF6",
            "gridcolor": "white",
            "gridwidth": 2,
            "linecolor": "white",
            "showbackground": true,
            "ticks": "",
            "zerolinecolor": "white"
           }
          },
          "shapedefaults": {
           "line": {
            "color": "#2a3f5f"
           }
          },
          "ternary": {
           "aaxis": {
            "gridcolor": "white",
            "linecolor": "white",
            "ticks": ""
           },
           "baxis": {
            "gridcolor": "white",
            "linecolor": "white",
            "ticks": ""
           },
           "bgcolor": "#E5ECF6",
           "caxis": {
            "gridcolor": "white",
            "linecolor": "white",
            "ticks": ""
           }
          },
          "title": {
           "x": 0.05
          },
          "xaxis": {
           "automargin": true,
           "gridcolor": "white",
           "linecolor": "white",
           "ticks": "",
           "title": {
            "standoff": 15
           },
           "zerolinecolor": "white",
           "zerolinewidth": 2
          },
          "yaxis": {
           "automargin": true,
           "gridcolor": "white",
           "linecolor": "white",
           "ticks": "",
           "title": {
            "standoff": 15
           },
           "zerolinecolor": "white",
           "zerolinewidth": 2
          }
         }
        },
        "title": {
         "font": {
          "family": "Times New Roman"
         }
        }
       }
      },
      "text/html": [
       "<div>                            <div id=\"7e39e005-d1be-488c-a1b5-c4b99f3b6147\" class=\"plotly-graph-div\" style=\"height:525px; width:100%;\"></div>            <script type=\"text/javascript\">                require([\"plotly\"], function(Plotly) {                    window.PLOTLYENV=window.PLOTLYENV || {};                                    if (document.getElementById(\"7e39e005-d1be-488c-a1b5-c4b99f3b6147\")) {                    Plotly.newPlot(                        \"7e39e005-d1be-488c-a1b5-c4b99f3b6147\",                        [{\"branchvalues\":\"total\",\"customdata\":[[11.913167666381034],[16.635268762677484],[12.578947368421053],[16.053138132031993],[12.38034139076641],[17.151155598043076],[12.340363673030385],[16.312942219823015],[12.133796049119061],[17.31512050181578],[12.061328370638522],[16.192557211092893],[11.444444444444445],[15.736115280696488],[12.133796049119061],[17.31512050181578],[12.017131397090804],[16.70993500932037],[12.340304374118121],[16.202010427649157],[12.09707672662807],[16.64713267214209]],\"domain\":{\"x\":[0.0,1.0],\"y\":[0.0,1.0]},\"hovertemplate\":\"labels=%{label}<br>Count=%{value}<br>parent=%{parent}<br>id=%{id}<br>Patient_Age=%{color}<extra></extra>\",\"ids\":[\"First Dose < 15/2 Doses/6-12 Month(Recommended)\",\"First Dose > 15/2 Doses/6-12 Month(Recommended)\",\"First Dose < 15/3 Doses/6-12 Month(Recommended)\",\"First Dose > 15/3 Doses/6-12 Month(Recommended)\",\"First Dose < 15/2 Doses/< 6 months\",\"First Dose > 15/2 Doses/< 6 months\",\"First Dose < 15/3 Doses/< 6 months\",\"First Dose > 15/3 Doses/< 6 months\",\"First Dose < 15/1 Dose/Only 1 Dose\",\"First Dose > 15/1 Dose/Only 1 Dose\",\"First Dose < 15/2 Doses/Over 1 year\",\"First Dose > 15/2 Doses/Over 1 year\",\"First Dose < 15/3 Doses/Over 1 year\",\"First Dose > 15/3 Doses/Over 1 year\",\"First Dose < 15/1 Dose\",\"First Dose > 15/1 Dose\",\"First Dose < 15/2 Doses\",\"First Dose > 15/2 Doses\",\"First Dose < 15/3 Doses\",\"First Dose > 15/3 Doses\",\"First Dose < 15\",\"First Dose > 15\"],\"labels\":[\"6-12 Month(Recommended)\",\"6-12 Month(Recommended)\",\"6-12 Month(Recommended)\",\"6-12 Month(Recommended)\",\"< 6 months\",\"< 6 months\",\"< 6 months\",\"< 6 months\",\"Only 1 Dose\",\"Only 1 Dose\",\"Over 1 year\",\"Over 1 year\",\"Over 1 year\",\"Over 1 year\",\"1 Dose\",\"1 Dose\",\"2 Doses\",\"2 Doses\",\"3 Doses\",\"3 Doses\",\"First Dose < 15\",\"First Dose > 15\"],\"marker\":{\"coloraxis\":\"coloraxis\",\"colors\":[11.913167666381034,16.635268762677484,12.578947368421053,16.053138132031993,12.38034139076641,17.151155598043076,12.340363673030385,16.312942219823015,12.133796049119061,17.31512050181578,12.061328370638522,16.192557211092893,11.444444444444445,15.736115280696488,12.133796049119061,17.31512050181578,12.017131397090804,16.70993500932037,12.340304374118121,16.202010427649157,12.09707672662807,16.64713267214209]},\"name\":\"\",\"parents\":[\"First Dose < 15/2 Doses\",\"First Dose > 15/2 Doses\",\"First Dose < 15/3 Doses\",\"First Dose > 15/3 Doses\",\"First Dose < 15/2 Doses\",\"First Dose > 15/2 Doses\",\"First Dose < 15/3 Doses\",\"First Dose > 15/3 Doses\",\"First Dose < 15/1 Dose\",\"First Dose > 15/1 Dose\",\"First Dose < 15/2 Doses\",\"First Dose > 15/2 Doses\",\"First Dose < 15/3 Doses\",\"First Dose > 15/3 Doses\",\"First Dose < 15\",\"First Dose > 15\",\"First Dose < 15\",\"First Dose > 15\",\"First Dose < 15\",\"First Dose > 15\",\"\",\"\"],\"values\":[80523,7888,19,7377,8729,17783,59504,51869,56190,42406,117678,14027,9,9993,56190,42406,206930,39698,59532,69239,322652,151343],\"type\":\"sunburst\"}],                        {\"template\":{\"data\":{\"histogram2dcontour\":[{\"type\":\"histogram2dcontour\",\"colorbar\":{\"outlinewidth\":0,\"ticks\":\"\"},\"colorscale\":[[0.0,\"#0d0887\"],[0.1111111111111111,\"#46039f\"],[0.2222222222222222,\"#7201a8\"],[0.3333333333333333,\"#9c179e\"],[0.4444444444444444,\"#bd3786\"],[0.5555555555555556,\"#d8576b\"],[0.6666666666666666,\"#ed7953\"],[0.7777777777777778,\"#fb9f3a\"],[0.8888888888888888,\"#fdca26\"],[1.0,\"#f0f921\"]]}],\"choropleth\":[{\"type\":\"choropleth\",\"colorbar\":{\"outlinewidth\":0,\"ticks\":\"\"}}],\"histogram2d\":[{\"type\":\"histogram2d\",\"colorbar\":{\"outlinewidth\":0,\"ticks\":\"\"},\"colorscale\":[[0.0,\"#0d0887\"],[0.1111111111111111,\"#46039f\"],[0.2222222222222222,\"#7201a8\"],[0.3333333333333333,\"#9c179e\"],[0.4444444444444444,\"#bd3786\"],[0.5555555555555556,\"#d8576b\"],[0.6666666666666666,\"#ed7953\"],[0.7777777777777778,\"#fb9f3a\"],[0.8888888888888888,\"#fdca26\"],[1.0,\"#f0f921\"]]}],\"heatmap\":[{\"type\":\"heatmap\",\"colorbar\":{\"outlinewidth\":0,\"ticks\":\"\"},\"colorscale\":[[0.0,\"#0d0887\"],[0.1111111111111111,\"#46039f\"],[0.2222222222222222,\"#7201a8\"],[0.3333333333333333,\"#9c179e\"],[0.4444444444444444,\"#bd3786\"],[0.5555555555555556,\"#d8576b\"],[0.6666666666666666,\"#ed7953\"],[0.7777777777777778,\"#fb9f3a\"],[0.8888888888888888,\"#fdca26\"],[1.0,\"#f0f921\"]]}],\"heatmapgl\":[{\"type\":\"heatmapgl\",\"colorbar\":{\"outlinewidth\":0,\"ticks\":\"\"},\"colorscale\":[[0.0,\"#0d0887\"],[0.1111111111111111,\"#46039f\"],[0.2222222222222222,\"#7201a8\"],[0.3333333333333333,\"#9c179e\"],[0.4444444444444444,\"#bd3786\"],[0.5555555555555556,\"#d8576b\"],[0.6666666666666666,\"#ed7953\"],[0.7777777777777778,\"#fb9f3a\"],[0.8888888888888888,\"#fdca26\"],[1.0,\"#f0f921\"]]}],\"contourcarpet\":[{\"type\":\"contourcarpet\",\"colorbar\":{\"outlinewidth\":0,\"ticks\":\"\"}}],\"contour\":[{\"type\":\"contour\",\"colorbar\":{\"outlinewidth\":0,\"ticks\":\"\"},\"colorscale\":[[0.0,\"#0d0887\"],[0.1111111111111111,\"#46039f\"],[0.2222222222222222,\"#7201a8\"],[0.3333333333333333,\"#9c179e\"],[0.4444444444444444,\"#bd3786\"],[0.5555555555555556,\"#d8576b\"],[0.6666666666666666,\"#ed7953\"],[0.7777777777777778,\"#fb9f3a\"],[0.8888888888888888,\"#fdca26\"],[1.0,\"#f0f921\"]]}],\"surface\":[{\"type\":\"surface\",\"colorbar\":{\"outlinewidth\":0,\"ticks\":\"\"},\"colorscale\":[[0.0,\"#0d0887\"],[0.1111111111111111,\"#46039f\"],[0.2222222222222222,\"#7201a8\"],[0.3333333333333333,\"#9c179e\"],[0.4444444444444444,\"#bd3786\"],[0.5555555555555556,\"#d8576b\"],[0.6666666666666666,\"#ed7953\"],[0.7777777777777778,\"#fb9f3a\"],[0.8888888888888888,\"#fdca26\"],[1.0,\"#f0f921\"]]}],\"mesh3d\":[{\"type\":\"mesh3d\",\"colorbar\":{\"outlinewidth\":0,\"ticks\":\"\"}}],\"scatter\":[{\"fillpattern\":{\"fillmode\":\"overlay\",\"size\":10,\"solidity\":0.2},\"type\":\"scatter\"}],\"parcoords\":[{\"type\":\"parcoords\",\"line\":{\"colorbar\":{\"outlinewidth\":0,\"ticks\":\"\"}}}],\"scatterpolargl\":[{\"type\":\"scatterpolargl\",\"marker\":{\"colorbar\":{\"outlinewidth\":0,\"ticks\":\"\"}}}],\"bar\":[{\"error_x\":{\"color\":\"#2a3f5f\"},\"error_y\":{\"color\":\"#2a3f5f\"},\"marker\":{\"line\":{\"color\":\"#E5ECF6\",\"width\":0.5},\"pattern\":{\"fillmode\":\"overlay\",\"size\":10,\"solidity\":0.2}},\"type\":\"bar\"}],\"scattergeo\":[{\"type\":\"scattergeo\",\"marker\":{\"colorbar\":{\"outlinewidth\":0,\"ticks\":\"\"}}}],\"scatterpolar\":[{\"type\":\"scatterpolar\",\"marker\":{\"colorbar\":{\"outlinewidth\":0,\"ticks\":\"\"}}}],\"histogram\":[{\"marker\":{\"pattern\":{\"fillmode\":\"overlay\",\"size\":10,\"solidity\":0.2}},\"type\":\"histogram\"}],\"scattergl\":[{\"type\":\"scattergl\",\"marker\":{\"colorbar\":{\"outlinewidth\":0,\"ticks\":\"\"}}}],\"scatter3d\":[{\"type\":\"scatter3d\",\"line\":{\"colorbar\":{\"outlinewidth\":0,\"ticks\":\"\"}},\"marker\":{\"colorbar\":{\"outlinewidth\":0,\"ticks\":\"\"}}}],\"scattermapbox\":[{\"type\":\"scattermapbox\",\"marker\":{\"colorbar\":{\"outlinewidth\":0,\"ticks\":\"\"}}}],\"scatterternary\":[{\"type\":\"scatterternary\",\"marker\":{\"colorbar\":{\"outlinewidth\":0,\"ticks\":\"\"}}}],\"scattercarpet\":[{\"type\":\"scattercarpet\",\"marker\":{\"colorbar\":{\"outlinewidth\":0,\"ticks\":\"\"}}}],\"carpet\":[{\"aaxis\":{\"endlinecolor\":\"#2a3f5f\",\"gridcolor\":\"white\",\"linecolor\":\"white\",\"minorgridcolor\":\"white\",\"startlinecolor\":\"#2a3f5f\"},\"baxis\":{\"endlinecolor\":\"#2a3f5f\",\"gridcolor\":\"white\",\"linecolor\":\"white\",\"minorgridcolor\":\"white\",\"startlinecolor\":\"#2a3f5f\"},\"type\":\"carpet\"}],\"table\":[{\"cells\":{\"fill\":{\"color\":\"#EBF0F8\"},\"line\":{\"color\":\"white\"}},\"header\":{\"fill\":{\"color\":\"#C8D4E3\"},\"line\":{\"color\":\"white\"}},\"type\":\"table\"}],\"barpolar\":[{\"marker\":{\"line\":{\"color\":\"#E5ECF6\",\"width\":0.5},\"pattern\":{\"fillmode\":\"overlay\",\"size\":10,\"solidity\":0.2}},\"type\":\"barpolar\"}],\"pie\":[{\"automargin\":true,\"type\":\"pie\"}]},\"layout\":{\"autotypenumbers\":\"strict\",\"colorway\":[\"#636efa\",\"#EF553B\",\"#00cc96\",\"#ab63fa\",\"#FFA15A\",\"#19d3f3\",\"#FF6692\",\"#B6E880\",\"#FF97FF\",\"#FECB52\"],\"font\":{\"color\":\"#2a3f5f\"},\"hovermode\":\"closest\",\"hoverlabel\":{\"align\":\"left\"},\"paper_bgcolor\":\"white\",\"plot_bgcolor\":\"#E5ECF6\",\"polar\":{\"bgcolor\":\"#E5ECF6\",\"angularaxis\":{\"gridcolor\":\"white\",\"linecolor\":\"white\",\"ticks\":\"\"},\"radialaxis\":{\"gridcolor\":\"white\",\"linecolor\":\"white\",\"ticks\":\"\"}},\"ternary\":{\"bgcolor\":\"#E5ECF6\",\"aaxis\":{\"gridcolor\":\"white\",\"linecolor\":\"white\",\"ticks\":\"\"},\"baxis\":{\"gridcolor\":\"white\",\"linecolor\":\"white\",\"ticks\":\"\"},\"caxis\":{\"gridcolor\":\"white\",\"linecolor\":\"white\",\"ticks\":\"\"}},\"coloraxis\":{\"colorbar\":{\"outlinewidth\":0,\"ticks\":\"\"}},\"colorscale\":{\"sequential\":[[0.0,\"#0d0887\"],[0.1111111111111111,\"#46039f\"],[0.2222222222222222,\"#7201a8\"],[0.3333333333333333,\"#9c179e\"],[0.4444444444444444,\"#bd3786\"],[0.5555555555555556,\"#d8576b\"],[0.6666666666666666,\"#ed7953\"],[0.7777777777777778,\"#fb9f3a\"],[0.8888888888888888,\"#fdca26\"],[1.0,\"#f0f921\"]],\"sequentialminus\":[[0.0,\"#0d0887\"],[0.1111111111111111,\"#46039f\"],[0.2222222222222222,\"#7201a8\"],[0.3333333333333333,\"#9c179e\"],[0.4444444444444444,\"#bd3786\"],[0.5555555555555556,\"#d8576b\"],[0.6666666666666666,\"#ed7953\"],[0.7777777777777778,\"#fb9f3a\"],[0.8888888888888888,\"#fdca26\"],[1.0,\"#f0f921\"]],\"diverging\":[[0,\"#8e0152\"],[0.1,\"#c51b7d\"],[0.2,\"#de77ae\"],[0.3,\"#f1b6da\"],[0.4,\"#fde0ef\"],[0.5,\"#f7f7f7\"],[0.6,\"#e6f5d0\"],[0.7,\"#b8e186\"],[0.8,\"#7fbc41\"],[0.9,\"#4d9221\"],[1,\"#276419\"]]},\"xaxis\":{\"gridcolor\":\"white\",\"linecolor\":\"white\",\"ticks\":\"\",\"title\":{\"standoff\":15},\"zerolinecolor\":\"white\",\"automargin\":true,\"zerolinewidth\":2},\"yaxis\":{\"gridcolor\":\"white\",\"linecolor\":\"white\",\"ticks\":\"\",\"title\":{\"standoff\":15},\"zerolinecolor\":\"white\",\"automargin\":true,\"zerolinewidth\":2},\"scene\":{\"xaxis\":{\"backgroundcolor\":\"#E5ECF6\",\"gridcolor\":\"white\",\"linecolor\":\"white\",\"showbackground\":true,\"ticks\":\"\",\"zerolinecolor\":\"white\",\"gridwidth\":2},\"yaxis\":{\"backgroundcolor\":\"#E5ECF6\",\"gridcolor\":\"white\",\"linecolor\":\"white\",\"showbackground\":true,\"ticks\":\"\",\"zerolinecolor\":\"white\",\"gridwidth\":2},\"zaxis\":{\"backgroundcolor\":\"#E5ECF6\",\"gridcolor\":\"white\",\"linecolor\":\"white\",\"showbackground\":true,\"ticks\":\"\",\"zerolinecolor\":\"white\",\"gridwidth\":2}},\"shapedefaults\":{\"line\":{\"color\":\"#2a3f5f\"}},\"annotationdefaults\":{\"arrowcolor\":\"#2a3f5f\",\"arrowhead\":0,\"arrowwidth\":1},\"geo\":{\"bgcolor\":\"white\",\"landcolor\":\"#E5ECF6\",\"subunitcolor\":\"white\",\"showland\":true,\"showlakes\":true,\"lakecolor\":\"white\"},\"title\":{\"x\":0.05},\"mapbox\":{\"style\":\"light\"}}},\"coloraxis\":{\"colorbar\":{\"title\":{\"text\":\"Patient_Age\"}},\"colorscale\":[[0.0,\"rgb(103,0,31)\"],[0.1,\"rgb(178,24,43)\"],[0.2,\"rgb(214,96,77)\"],[0.3,\"rgb(244,165,130)\"],[0.4,\"rgb(253,219,199)\"],[0.5,\"rgb(247,247,247)\"],[0.6,\"rgb(209,229,240)\"],[0.7,\"rgb(146,197,222)\"],[0.8,\"rgb(67,147,195)\"],[0.9,\"rgb(33,102,172)\"],[1.0,\"rgb(5,48,97)\"]],\"cmid\":14.303477619212973},\"legend\":{\"tracegroupgap\":0},\"margin\":{\"t\":60},\"title\":{\"font\":{\"family\":\"Times New Roman\"}},\"font\":{\"family\":\"Times New Roman\"}},                        {\"responsive\": true}                    ).then(function(){\n",
       "                            \n",
       "var gd = document.getElementById('7e39e005-d1be-488c-a1b5-c4b99f3b6147');\n",
       "var x = new MutationObserver(function (mutations, observer) {{\n",
       "        var display = window.getComputedStyle(gd).display;\n",
       "        if (!display || display === 'none') {{\n",
       "            console.log([gd, 'removed!']);\n",
       "            Plotly.purge(gd);\n",
       "            observer.disconnect();\n",
       "        }}\n",
       "}});\n",
       "\n",
       "// Listen for the removal of the full notebook cells\n",
       "var notebookContainer = gd.closest('#notebook-container');\n",
       "if (notebookContainer) {{\n",
       "    x.observe(notebookContainer, {childList: true});\n",
       "}}\n",
       "\n",
       "// Listen for the clearing of the current output cell\n",
       "var outputEl = gd.closest('.output');\n",
       "if (outputEl) {{\n",
       "    x.observe(outputEl, {childList: true});\n",
       "}}\n",
       "\n",
       "                        })                };                });            </script>        </div>"
      ]
     },
     "metadata": {},
     "output_type": "display_data"
    }
   ],
   "source": [
    "df = grouped_patients\n",
    "fig = px.sunburst(df, path=['firstDoseAge','Doses', 'gap12'], values='Count',\n",
    "                  names='gap12',\n",
    "                  color='Patient_Age', \n",
    "                  color_continuous_scale='RdBu',\n",
    "                  color_continuous_midpoint=np.average(df['Patient_Age']))\n",
    "fig.update_layout(\n",
    "#     title=\"Distribution of the HPV Vaccined Patients' Completeness and Schedule\",\n",
    "    title_font=dict(family=\"Times New Roman\"),\n",
    "    font=dict(family=\"Times New Roman\"),\n",
    ")\n",
    "fig.show()"
   ]
  },
  {
   "cell_type": "code",
   "execution_count": 50,
   "id": "ebe07a26",
   "metadata": {},
   "outputs": [
    {
     "data": {
      "application/vnd.plotly.v1+json": {
       "config": {
        "plotlyServerURL": "https://plot.ly"
       },
       "data": [
        {
         "branchvalues": "total",
         "customdata": [
          [
           12.14594824789098
          ],
          [
           17.202497538732576
          ],
          [
           11.968018045856251
          ],
          [
           16.600637649015802
          ],
          [
           12.399905959797813
          ],
          [
           17.01097884413742
          ],
          [
           12.101986594346695
          ],
          [
           16.13714375688868
          ],
          [
           12.647058823529411
          ],
          [
           15.99970215934475
          ],
          [
           12.340580932460698
          ],
          [
           16.230260956841754
          ],
          [
           15.679129464285714
          ],
          [
           11.968196351616442
          ],
          [
           16.310934022542895
          ],
          [
           12.348025549114189
          ],
          [
           16.42792448115933
          ],
          [
           12.14594824789098
          ],
          [
           17.202497538732576
          ],
          [
           12.101986594346695
          ],
          [
           15.947696426922722
          ],
          [
           12.139356893363468
          ],
          [
           16.557167247840493
          ]
         ],
         "domain": {
          "x": [
           0,
           1
          ],
          "y": [
           0,
           1
          ]
         },
         "hovertemplate": "labels=%{label}<br>Count=%{value}<br>parent=%{parent}<br>id=%{id}<br>Patient_Age=%{color}<extra></extra>",
         "ids": [
          "First Dose < 15/Only 1 Dose/1 Dose",
          "First Dose > 15/Only 1 Dose/1 Dose",
          "First Dose < 15/6-12 Month(Recommended)/2 Doses",
          "First Dose > 15/6-12 Month(Recommended)/2 Doses",
          "First Dose < 15/< 6 months/2 Doses",
          "First Dose > 15/< 6 months/2 Doses",
          "First Dose < 15/Over 1 year/2 Doses",
          "First Dose > 15/Over 1 year/2 Doses",
          "First Dose < 15/6-12 Month(Recommended)/3 Doses",
          "First Dose > 15/6-12 Month(Recommended)/3 Doses",
          "First Dose < 15/< 6 months/3 Doses",
          "First Dose > 15/< 6 months/3 Doses",
          "First Dose > 15/Over 1 year/3 Doses",
          "First Dose < 15/6-12 Month(Recommended)",
          "First Dose > 15/6-12 Month(Recommended)",
          "First Dose < 15/< 6 months",
          "First Dose > 15/< 6 months",
          "First Dose < 15/Only 1 Dose",
          "First Dose > 15/Only 1 Dose",
          "First Dose < 15/Over 1 year",
          "First Dose > 15/Over 1 year",
          "First Dose < 15",
          "First Dose > 15"
         ],
         "labels": [
          "1 Dose",
          "1 Dose",
          "2 Doses",
          "2 Doses",
          "2 Doses",
          "2 Doses",
          "2 Doses",
          "2 Doses",
          "3 Doses",
          "3 Doses",
          "3 Doses",
          "3 Doses",
          "3 Doses",
          "6-12 Month(Recommended)",
          "6-12 Month(Recommended)",
          "< 6 months",
          "< 6 months",
          "Only 1 Dose",
          "Only 1 Dose",
          "Over 1 year",
          "Over 1 year",
          "First Dose < 15",
          "First Dose > 15"
         ],
         "marker": {
          "coloraxis": "coloraxis",
          "colors": [
           12.14594824789098,
           17.202497538732576,
           11.968018045856251,
           16.600637649015802,
           12.399905959797813,
           17.01097884413742,
           12.101986594346695,
           16.13714375688868,
           12.647058823529411,
           15.99970215934475,
           12.340580932460698,
           16.230260956841754,
           15.679129464285714,
           11.968196351616442,
           16.310934022542895,
           12.348025549114189,
           16.42792448115933,
           12.14594824789098,
           17.202497538732576,
           12.101986594346695,
           15.947696426922722,
           12.139356893363468,
           16.557167247840493
          ]
         },
         "name": "",
         "parents": [
          "First Dose < 15/Only 1 Dose",
          "First Dose > 15/Only 1 Dose",
          "First Dose < 15/6-12 Month(Recommended)",
          "First Dose > 15/6-12 Month(Recommended)",
          "First Dose < 15/< 6 months",
          "First Dose > 15/< 6 months",
          "First Dose < 15/Over 1 year",
          "First Dose > 15/Over 1 year",
          "First Dose < 15/6-12 Month(Recommended)",
          "First Dose > 15/6-12 Month(Recommended)",
          "First Dose < 15/< 6 months",
          "First Dose > 15/< 6 months",
          "First Dose > 15/Over 1 year",
          "First Dose < 15",
          "First Dose > 15",
          "First Dose < 15",
          "First Dose > 15",
          "First Dose < 15",
          "First Dose > 15",
          "First Dose < 15",
          "First Dose > 15",
          "",
          ""
         ],
         "type": "sunburst",
         "values": [
          49312,
          38598,
          64724,
          7214,
          8507,
          16213,
          90708,
          12702,
          17,
          6715,
          59284,
          47824,
          8960,
          64741,
          13929,
          67791,
          64037,
          49312,
          38598,
          90708,
          21662,
          272552,
          138226
         ]
        }
       ],
       "layout": {
        "coloraxis": {
         "cmid": 14.49721915177912,
         "colorbar": {
          "title": {
           "text": "Patient_Age"
          }
         },
         "colorscale": [
          [
           0,
           "rgb(75, 41, 145)"
          ],
          [
           0.16666666666666666,
           "rgb(135, 44, 162)"
          ],
          [
           0.3333333333333333,
           "rgb(192, 54, 157)"
          ],
          [
           0.5,
           "rgb(234, 79, 136)"
          ],
          [
           0.6666666666666666,
           "rgb(250, 120, 118)"
          ],
          [
           0.8333333333333334,
           "rgb(246, 169, 122)"
          ],
          [
           1,
           "rgb(237, 217, 163)"
          ]
         ]
        },
        "legend": {
         "tracegroupgap": 0
        },
        "margin": {
         "t": 60
        },
        "template": {
         "data": {
          "bar": [
           {
            "error_x": {
             "color": "#2a3f5f"
            },
            "error_y": {
             "color": "#2a3f5f"
            },
            "marker": {
             "line": {
              "color": "#E5ECF6",
              "width": 0.5
             },
             "pattern": {
              "fillmode": "overlay",
              "size": 10,
              "solidity": 0.2
             }
            },
            "type": "bar"
           }
          ],
          "barpolar": [
           {
            "marker": {
             "line": {
              "color": "#E5ECF6",
              "width": 0.5
             },
             "pattern": {
              "fillmode": "overlay",
              "size": 10,
              "solidity": 0.2
             }
            },
            "type": "barpolar"
           }
          ],
          "carpet": [
           {
            "aaxis": {
             "endlinecolor": "#2a3f5f",
             "gridcolor": "white",
             "linecolor": "white",
             "minorgridcolor": "white",
             "startlinecolor": "#2a3f5f"
            },
            "baxis": {
             "endlinecolor": "#2a3f5f",
             "gridcolor": "white",
             "linecolor": "white",
             "minorgridcolor": "white",
             "startlinecolor": "#2a3f5f"
            },
            "type": "carpet"
           }
          ],
          "choropleth": [
           {
            "colorbar": {
             "outlinewidth": 0,
             "ticks": ""
            },
            "type": "choropleth"
           }
          ],
          "contour": [
           {
            "colorbar": {
             "outlinewidth": 0,
             "ticks": ""
            },
            "colorscale": [
             [
              0,
              "#0d0887"
             ],
             [
              0.1111111111111111,
              "#46039f"
             ],
             [
              0.2222222222222222,
              "#7201a8"
             ],
             [
              0.3333333333333333,
              "#9c179e"
             ],
             [
              0.4444444444444444,
              "#bd3786"
             ],
             [
              0.5555555555555556,
              "#d8576b"
             ],
             [
              0.6666666666666666,
              "#ed7953"
             ],
             [
              0.7777777777777778,
              "#fb9f3a"
             ],
             [
              0.8888888888888888,
              "#fdca26"
             ],
             [
              1,
              "#f0f921"
             ]
            ],
            "type": "contour"
           }
          ],
          "contourcarpet": [
           {
            "colorbar": {
             "outlinewidth": 0,
             "ticks": ""
            },
            "type": "contourcarpet"
           }
          ],
          "heatmap": [
           {
            "colorbar": {
             "outlinewidth": 0,
             "ticks": ""
            },
            "colorscale": [
             [
              0,
              "#0d0887"
             ],
             [
              0.1111111111111111,
              "#46039f"
             ],
             [
              0.2222222222222222,
              "#7201a8"
             ],
             [
              0.3333333333333333,
              "#9c179e"
             ],
             [
              0.4444444444444444,
              "#bd3786"
             ],
             [
              0.5555555555555556,
              "#d8576b"
             ],
             [
              0.6666666666666666,
              "#ed7953"
             ],
             [
              0.7777777777777778,
              "#fb9f3a"
             ],
             [
              0.8888888888888888,
              "#fdca26"
             ],
             [
              1,
              "#f0f921"
             ]
            ],
            "type": "heatmap"
           }
          ],
          "heatmapgl": [
           {
            "colorbar": {
             "outlinewidth": 0,
             "ticks": ""
            },
            "colorscale": [
             [
              0,
              "#0d0887"
             ],
             [
              0.1111111111111111,
              "#46039f"
             ],
             [
              0.2222222222222222,
              "#7201a8"
             ],
             [
              0.3333333333333333,
              "#9c179e"
             ],
             [
              0.4444444444444444,
              "#bd3786"
             ],
             [
              0.5555555555555556,
              "#d8576b"
             ],
             [
              0.6666666666666666,
              "#ed7953"
             ],
             [
              0.7777777777777778,
              "#fb9f3a"
             ],
             [
              0.8888888888888888,
              "#fdca26"
             ],
             [
              1,
              "#f0f921"
             ]
            ],
            "type": "heatmapgl"
           }
          ],
          "histogram": [
           {
            "marker": {
             "pattern": {
              "fillmode": "overlay",
              "size": 10,
              "solidity": 0.2
             }
            },
            "type": "histogram"
           }
          ],
          "histogram2d": [
           {
            "colorbar": {
             "outlinewidth": 0,
             "ticks": ""
            },
            "colorscale": [
             [
              0,
              "#0d0887"
             ],
             [
              0.1111111111111111,
              "#46039f"
             ],
             [
              0.2222222222222222,
              "#7201a8"
             ],
             [
              0.3333333333333333,
              "#9c179e"
             ],
             [
              0.4444444444444444,
              "#bd3786"
             ],
             [
              0.5555555555555556,
              "#d8576b"
             ],
             [
              0.6666666666666666,
              "#ed7953"
             ],
             [
              0.7777777777777778,
              "#fb9f3a"
             ],
             [
              0.8888888888888888,
              "#fdca26"
             ],
             [
              1,
              "#f0f921"
             ]
            ],
            "type": "histogram2d"
           }
          ],
          "histogram2dcontour": [
           {
            "colorbar": {
             "outlinewidth": 0,
             "ticks": ""
            },
            "colorscale": [
             [
              0,
              "#0d0887"
             ],
             [
              0.1111111111111111,
              "#46039f"
             ],
             [
              0.2222222222222222,
              "#7201a8"
             ],
             [
              0.3333333333333333,
              "#9c179e"
             ],
             [
              0.4444444444444444,
              "#bd3786"
             ],
             [
              0.5555555555555556,
              "#d8576b"
             ],
             [
              0.6666666666666666,
              "#ed7953"
             ],
             [
              0.7777777777777778,
              "#fb9f3a"
             ],
             [
              0.8888888888888888,
              "#fdca26"
             ],
             [
              1,
              "#f0f921"
             ]
            ],
            "type": "histogram2dcontour"
           }
          ],
          "mesh3d": [
           {
            "colorbar": {
             "outlinewidth": 0,
             "ticks": ""
            },
            "type": "mesh3d"
           }
          ],
          "parcoords": [
           {
            "line": {
             "colorbar": {
              "outlinewidth": 0,
              "ticks": ""
             }
            },
            "type": "parcoords"
           }
          ],
          "pie": [
           {
            "automargin": true,
            "type": "pie"
           }
          ],
          "scatter": [
           {
            "fillpattern": {
             "fillmode": "overlay",
             "size": 10,
             "solidity": 0.2
            },
            "type": "scatter"
           }
          ],
          "scatter3d": [
           {
            "line": {
             "colorbar": {
              "outlinewidth": 0,
              "ticks": ""
             }
            },
            "marker": {
             "colorbar": {
              "outlinewidth": 0,
              "ticks": ""
             }
            },
            "type": "scatter3d"
           }
          ],
          "scattercarpet": [
           {
            "marker": {
             "colorbar": {
              "outlinewidth": 0,
              "ticks": ""
             }
            },
            "type": "scattercarpet"
           }
          ],
          "scattergeo": [
           {
            "marker": {
             "colorbar": {
              "outlinewidth": 0,
              "ticks": ""
             }
            },
            "type": "scattergeo"
           }
          ],
          "scattergl": [
           {
            "marker": {
             "colorbar": {
              "outlinewidth": 0,
              "ticks": ""
             }
            },
            "type": "scattergl"
           }
          ],
          "scattermapbox": [
           {
            "marker": {
             "colorbar": {
              "outlinewidth": 0,
              "ticks": ""
             }
            },
            "type": "scattermapbox"
           }
          ],
          "scatterpolar": [
           {
            "marker": {
             "colorbar": {
              "outlinewidth": 0,
              "ticks": ""
             }
            },
            "type": "scatterpolar"
           }
          ],
          "scatterpolargl": [
           {
            "marker": {
             "colorbar": {
              "outlinewidth": 0,
              "ticks": ""
             }
            },
            "type": "scatterpolargl"
           }
          ],
          "scatterternary": [
           {
            "marker": {
             "colorbar": {
              "outlinewidth": 0,
              "ticks": ""
             }
            },
            "type": "scatterternary"
           }
          ],
          "surface": [
           {
            "colorbar": {
             "outlinewidth": 0,
             "ticks": ""
            },
            "colorscale": [
             [
              0,
              "#0d0887"
             ],
             [
              0.1111111111111111,
              "#46039f"
             ],
             [
              0.2222222222222222,
              "#7201a8"
             ],
             [
              0.3333333333333333,
              "#9c179e"
             ],
             [
              0.4444444444444444,
              "#bd3786"
             ],
             [
              0.5555555555555556,
              "#d8576b"
             ],
             [
              0.6666666666666666,
              "#ed7953"
             ],
             [
              0.7777777777777778,
              "#fb9f3a"
             ],
             [
              0.8888888888888888,
              "#fdca26"
             ],
             [
              1,
              "#f0f921"
             ]
            ],
            "type": "surface"
           }
          ],
          "table": [
           {
            "cells": {
             "fill": {
              "color": "#EBF0F8"
             },
             "line": {
              "color": "white"
             }
            },
            "header": {
             "fill": {
              "color": "#C8D4E3"
             },
             "line": {
              "color": "white"
             }
            },
            "type": "table"
           }
          ]
         },
         "layout": {
          "annotationdefaults": {
           "arrowcolor": "#2a3f5f",
           "arrowhead": 0,
           "arrowwidth": 1
          },
          "autotypenumbers": "strict",
          "coloraxis": {
           "colorbar": {
            "outlinewidth": 0,
            "ticks": ""
           }
          },
          "colorscale": {
           "diverging": [
            [
             0,
             "#8e0152"
            ],
            [
             0.1,
             "#c51b7d"
            ],
            [
             0.2,
             "#de77ae"
            ],
            [
             0.3,
             "#f1b6da"
            ],
            [
             0.4,
             "#fde0ef"
            ],
            [
             0.5,
             "#f7f7f7"
            ],
            [
             0.6,
             "#e6f5d0"
            ],
            [
             0.7,
             "#b8e186"
            ],
            [
             0.8,
             "#7fbc41"
            ],
            [
             0.9,
             "#4d9221"
            ],
            [
             1,
             "#276419"
            ]
           ],
           "sequential": [
            [
             0,
             "#0d0887"
            ],
            [
             0.1111111111111111,
             "#46039f"
            ],
            [
             0.2222222222222222,
             "#7201a8"
            ],
            [
             0.3333333333333333,
             "#9c179e"
            ],
            [
             0.4444444444444444,
             "#bd3786"
            ],
            [
             0.5555555555555556,
             "#d8576b"
            ],
            [
             0.6666666666666666,
             "#ed7953"
            ],
            [
             0.7777777777777778,
             "#fb9f3a"
            ],
            [
             0.8888888888888888,
             "#fdca26"
            ],
            [
             1,
             "#f0f921"
            ]
           ],
           "sequentialminus": [
            [
             0,
             "#0d0887"
            ],
            [
             0.1111111111111111,
             "#46039f"
            ],
            [
             0.2222222222222222,
             "#7201a8"
            ],
            [
             0.3333333333333333,
             "#9c179e"
            ],
            [
             0.4444444444444444,
             "#bd3786"
            ],
            [
             0.5555555555555556,
             "#d8576b"
            ],
            [
             0.6666666666666666,
             "#ed7953"
            ],
            [
             0.7777777777777778,
             "#fb9f3a"
            ],
            [
             0.8888888888888888,
             "#fdca26"
            ],
            [
             1,
             "#f0f921"
            ]
           ]
          },
          "colorway": [
           "#636efa",
           "#EF553B",
           "#00cc96",
           "#ab63fa",
           "#FFA15A",
           "#19d3f3",
           "#FF6692",
           "#B6E880",
           "#FF97FF",
           "#FECB52"
          ],
          "font": {
           "color": "#2a3f5f"
          },
          "geo": {
           "bgcolor": "white",
           "lakecolor": "white",
           "landcolor": "#E5ECF6",
           "showlakes": true,
           "showland": true,
           "subunitcolor": "white"
          },
          "hoverlabel": {
           "align": "left"
          },
          "hovermode": "closest",
          "mapbox": {
           "style": "light"
          },
          "paper_bgcolor": "white",
          "plot_bgcolor": "#E5ECF6",
          "polar": {
           "angularaxis": {
            "gridcolor": "white",
            "linecolor": "white",
            "ticks": ""
           },
           "bgcolor": "#E5ECF6",
           "radialaxis": {
            "gridcolor": "white",
            "linecolor": "white",
            "ticks": ""
           }
          },
          "scene": {
           "xaxis": {
            "backgroundcolor": "#E5ECF6",
            "gridcolor": "white",
            "gridwidth": 2,
            "linecolor": "white",
            "showbackground": true,
            "ticks": "",
            "zerolinecolor": "white"
           },
           "yaxis": {
            "backgroundcolor": "#E5ECF6",
            "gridcolor": "white",
            "gridwidth": 2,
            "linecolor": "white",
            "showbackground": true,
            "ticks": "",
            "zerolinecolor": "white"
           },
           "zaxis": {
            "backgroundcolor": "#E5ECF6",
            "gridcolor": "white",
            "gridwidth": 2,
            "linecolor": "white",
            "showbackground": true,
            "ticks": "",
            "zerolinecolor": "white"
           }
          },
          "shapedefaults": {
           "line": {
            "color": "#2a3f5f"
           }
          },
          "ternary": {
           "aaxis": {
            "gridcolor": "white",
            "linecolor": "white",
            "ticks": ""
           },
           "baxis": {
            "gridcolor": "white",
            "linecolor": "white",
            "ticks": ""
           },
           "bgcolor": "#E5ECF6",
           "caxis": {
            "gridcolor": "white",
            "linecolor": "white",
            "ticks": ""
           }
          },
          "title": {
           "x": 0.05
          },
          "xaxis": {
           "automargin": true,
           "gridcolor": "white",
           "linecolor": "white",
           "ticks": "",
           "title": {
            "standoff": 15
           },
           "zerolinecolor": "white",
           "zerolinewidth": 2
          },
          "yaxis": {
           "automargin": true,
           "gridcolor": "white",
           "linecolor": "white",
           "ticks": "",
           "title": {
            "standoff": 15
           },
           "zerolinecolor": "white",
           "zerolinewidth": 2
          }
         }
        }
       }
      },
      "text/html": [
       "<div>                            <div id=\"0955a7ad-1d8b-4bb6-a7c4-a921343a364f\" class=\"plotly-graph-div\" style=\"height:525px; width:100%;\"></div>            <script type=\"text/javascript\">                require([\"plotly\"], function(Plotly) {                    window.PLOTLYENV=window.PLOTLYENV || {};                                    if (document.getElementById(\"0955a7ad-1d8b-4bb6-a7c4-a921343a364f\")) {                    Plotly.newPlot(                        \"0955a7ad-1d8b-4bb6-a7c4-a921343a364f\",                        [{\"branchvalues\":\"total\",\"customdata\":[[12.14594824789098],[17.202497538732576],[11.968018045856251],[16.600637649015802],[12.399905959797813],[17.01097884413742],[12.101986594346695],[16.13714375688868],[12.647058823529411],[15.99970215934475],[12.340580932460698],[16.230260956841754],[15.679129464285714],[11.968196351616442],[16.310934022542895],[12.348025549114189],[16.42792448115933],[12.14594824789098],[17.202497538732576],[12.101986594346695],[15.947696426922722],[12.139356893363468],[16.557167247840493]],\"domain\":{\"x\":[0.0,1.0],\"y\":[0.0,1.0]},\"hovertemplate\":\"labels=%{label}<br>Count=%{value}<br>parent=%{parent}<br>id=%{id}<br>Patient_Age=%{color}<extra></extra>\",\"ids\":[\"First Dose < 15/Only 1 Dose/1 Dose\",\"First Dose > 15/Only 1 Dose/1 Dose\",\"First Dose < 15/6-12 Month(Recommended)/2 Doses\",\"First Dose > 15/6-12 Month(Recommended)/2 Doses\",\"First Dose < 15/< 6 months/2 Doses\",\"First Dose > 15/< 6 months/2 Doses\",\"First Dose < 15/Over 1 year/2 Doses\",\"First Dose > 15/Over 1 year/2 Doses\",\"First Dose < 15/6-12 Month(Recommended)/3 Doses\",\"First Dose > 15/6-12 Month(Recommended)/3 Doses\",\"First Dose < 15/< 6 months/3 Doses\",\"First Dose > 15/< 6 months/3 Doses\",\"First Dose > 15/Over 1 year/3 Doses\",\"First Dose < 15/6-12 Month(Recommended)\",\"First Dose > 15/6-12 Month(Recommended)\",\"First Dose < 15/< 6 months\",\"First Dose > 15/< 6 months\",\"First Dose < 15/Only 1 Dose\",\"First Dose > 15/Only 1 Dose\",\"First Dose < 15/Over 1 year\",\"First Dose > 15/Over 1 year\",\"First Dose < 15\",\"First Dose > 15\"],\"labels\":[\"1 Dose\",\"1 Dose\",\"2 Doses\",\"2 Doses\",\"2 Doses\",\"2 Doses\",\"2 Doses\",\"2 Doses\",\"3 Doses\",\"3 Doses\",\"3 Doses\",\"3 Doses\",\"3 Doses\",\"6-12 Month(Recommended)\",\"6-12 Month(Recommended)\",\"< 6 months\",\"< 6 months\",\"Only 1 Dose\",\"Only 1 Dose\",\"Over 1 year\",\"Over 1 year\",\"First Dose < 15\",\"First Dose > 15\"],\"marker\":{\"coloraxis\":\"coloraxis\",\"colors\":[12.14594824789098,17.202497538732576,11.968018045856251,16.600637649015802,12.399905959797813,17.01097884413742,12.101986594346695,16.13714375688868,12.647058823529411,15.99970215934475,12.340580932460698,16.230260956841754,15.679129464285714,11.968196351616442,16.310934022542895,12.348025549114189,16.42792448115933,12.14594824789098,17.202497538732576,12.101986594346695,15.947696426922722,12.139356893363468,16.557167247840493]},\"name\":\"\",\"parents\":[\"First Dose < 15/Only 1 Dose\",\"First Dose > 15/Only 1 Dose\",\"First Dose < 15/6-12 Month(Recommended)\",\"First Dose > 15/6-12 Month(Recommended)\",\"First Dose < 15/< 6 months\",\"First Dose > 15/< 6 months\",\"First Dose < 15/Over 1 year\",\"First Dose > 15/Over 1 year\",\"First Dose < 15/6-12 Month(Recommended)\",\"First Dose > 15/6-12 Month(Recommended)\",\"First Dose < 15/< 6 months\",\"First Dose > 15/< 6 months\",\"First Dose > 15/Over 1 year\",\"First Dose < 15\",\"First Dose > 15\",\"First Dose < 15\",\"First Dose > 15\",\"First Dose < 15\",\"First Dose > 15\",\"First Dose < 15\",\"First Dose > 15\",\"\",\"\"],\"values\":[49312,38598,64724,7214,8507,16213,90708,12702,17,6715,59284,47824,8960,64741,13929,67791,64037,49312,38598,90708,21662,272552,138226],\"type\":\"sunburst\"}],                        {\"template\":{\"data\":{\"histogram2dcontour\":[{\"type\":\"histogram2dcontour\",\"colorbar\":{\"outlinewidth\":0,\"ticks\":\"\"},\"colorscale\":[[0.0,\"#0d0887\"],[0.1111111111111111,\"#46039f\"],[0.2222222222222222,\"#7201a8\"],[0.3333333333333333,\"#9c179e\"],[0.4444444444444444,\"#bd3786\"],[0.5555555555555556,\"#d8576b\"],[0.6666666666666666,\"#ed7953\"],[0.7777777777777778,\"#fb9f3a\"],[0.8888888888888888,\"#fdca26\"],[1.0,\"#f0f921\"]]}],\"choropleth\":[{\"type\":\"choropleth\",\"colorbar\":{\"outlinewidth\":0,\"ticks\":\"\"}}],\"histogram2d\":[{\"type\":\"histogram2d\",\"colorbar\":{\"outlinewidth\":0,\"ticks\":\"\"},\"colorscale\":[[0.0,\"#0d0887\"],[0.1111111111111111,\"#46039f\"],[0.2222222222222222,\"#7201a8\"],[0.3333333333333333,\"#9c179e\"],[0.4444444444444444,\"#bd3786\"],[0.5555555555555556,\"#d8576b\"],[0.6666666666666666,\"#ed7953\"],[0.7777777777777778,\"#fb9f3a\"],[0.8888888888888888,\"#fdca26\"],[1.0,\"#f0f921\"]]}],\"heatmap\":[{\"type\":\"heatmap\",\"colorbar\":{\"outlinewidth\":0,\"ticks\":\"\"},\"colorscale\":[[0.0,\"#0d0887\"],[0.1111111111111111,\"#46039f\"],[0.2222222222222222,\"#7201a8\"],[0.3333333333333333,\"#9c179e\"],[0.4444444444444444,\"#bd3786\"],[0.5555555555555556,\"#d8576b\"],[0.6666666666666666,\"#ed7953\"],[0.7777777777777778,\"#fb9f3a\"],[0.8888888888888888,\"#fdca26\"],[1.0,\"#f0f921\"]]}],\"heatmapgl\":[{\"type\":\"heatmapgl\",\"colorbar\":{\"outlinewidth\":0,\"ticks\":\"\"},\"colorscale\":[[0.0,\"#0d0887\"],[0.1111111111111111,\"#46039f\"],[0.2222222222222222,\"#7201a8\"],[0.3333333333333333,\"#9c179e\"],[0.4444444444444444,\"#bd3786\"],[0.5555555555555556,\"#d8576b\"],[0.6666666666666666,\"#ed7953\"],[0.7777777777777778,\"#fb9f3a\"],[0.8888888888888888,\"#fdca26\"],[1.0,\"#f0f921\"]]}],\"contourcarpet\":[{\"type\":\"contourcarpet\",\"colorbar\":{\"outlinewidth\":0,\"ticks\":\"\"}}],\"contour\":[{\"type\":\"contour\",\"colorbar\":{\"outlinewidth\":0,\"ticks\":\"\"},\"colorscale\":[[0.0,\"#0d0887\"],[0.1111111111111111,\"#46039f\"],[0.2222222222222222,\"#7201a8\"],[0.3333333333333333,\"#9c179e\"],[0.4444444444444444,\"#bd3786\"],[0.5555555555555556,\"#d8576b\"],[0.6666666666666666,\"#ed7953\"],[0.7777777777777778,\"#fb9f3a\"],[0.8888888888888888,\"#fdca26\"],[1.0,\"#f0f921\"]]}],\"surface\":[{\"type\":\"surface\",\"colorbar\":{\"outlinewidth\":0,\"ticks\":\"\"},\"colorscale\":[[0.0,\"#0d0887\"],[0.1111111111111111,\"#46039f\"],[0.2222222222222222,\"#7201a8\"],[0.3333333333333333,\"#9c179e\"],[0.4444444444444444,\"#bd3786\"],[0.5555555555555556,\"#d8576b\"],[0.6666666666666666,\"#ed7953\"],[0.7777777777777778,\"#fb9f3a\"],[0.8888888888888888,\"#fdca26\"],[1.0,\"#f0f921\"]]}],\"mesh3d\":[{\"type\":\"mesh3d\",\"colorbar\":{\"outlinewidth\":0,\"ticks\":\"\"}}],\"scatter\":[{\"fillpattern\":{\"fillmode\":\"overlay\",\"size\":10,\"solidity\":0.2},\"type\":\"scatter\"}],\"parcoords\":[{\"type\":\"parcoords\",\"line\":{\"colorbar\":{\"outlinewidth\":0,\"ticks\":\"\"}}}],\"scatterpolargl\":[{\"type\":\"scatterpolargl\",\"marker\":{\"colorbar\":{\"outlinewidth\":0,\"ticks\":\"\"}}}],\"bar\":[{\"error_x\":{\"color\":\"#2a3f5f\"},\"error_y\":{\"color\":\"#2a3f5f\"},\"marker\":{\"line\":{\"color\":\"#E5ECF6\",\"width\":0.5},\"pattern\":{\"fillmode\":\"overlay\",\"size\":10,\"solidity\":0.2}},\"type\":\"bar\"}],\"scattergeo\":[{\"type\":\"scattergeo\",\"marker\":{\"colorbar\":{\"outlinewidth\":0,\"ticks\":\"\"}}}],\"scatterpolar\":[{\"type\":\"scatterpolar\",\"marker\":{\"colorbar\":{\"outlinewidth\":0,\"ticks\":\"\"}}}],\"histogram\":[{\"marker\":{\"pattern\":{\"fillmode\":\"overlay\",\"size\":10,\"solidity\":0.2}},\"type\":\"histogram\"}],\"scattergl\":[{\"type\":\"scattergl\",\"marker\":{\"colorbar\":{\"outlinewidth\":0,\"ticks\":\"\"}}}],\"scatter3d\":[{\"type\":\"scatter3d\",\"line\":{\"colorbar\":{\"outlinewidth\":0,\"ticks\":\"\"}},\"marker\":{\"colorbar\":{\"outlinewidth\":0,\"ticks\":\"\"}}}],\"scattermapbox\":[{\"type\":\"scattermapbox\",\"marker\":{\"colorbar\":{\"outlinewidth\":0,\"ticks\":\"\"}}}],\"scatterternary\":[{\"type\":\"scatterternary\",\"marker\":{\"colorbar\":{\"outlinewidth\":0,\"ticks\":\"\"}}}],\"scattercarpet\":[{\"type\":\"scattercarpet\",\"marker\":{\"colorbar\":{\"outlinewidth\":0,\"ticks\":\"\"}}}],\"carpet\":[{\"aaxis\":{\"endlinecolor\":\"#2a3f5f\",\"gridcolor\":\"white\",\"linecolor\":\"white\",\"minorgridcolor\":\"white\",\"startlinecolor\":\"#2a3f5f\"},\"baxis\":{\"endlinecolor\":\"#2a3f5f\",\"gridcolor\":\"white\",\"linecolor\":\"white\",\"minorgridcolor\":\"white\",\"startlinecolor\":\"#2a3f5f\"},\"type\":\"carpet\"}],\"table\":[{\"cells\":{\"fill\":{\"color\":\"#EBF0F8\"},\"line\":{\"color\":\"white\"}},\"header\":{\"fill\":{\"color\":\"#C8D4E3\"},\"line\":{\"color\":\"white\"}},\"type\":\"table\"}],\"barpolar\":[{\"marker\":{\"line\":{\"color\":\"#E5ECF6\",\"width\":0.5},\"pattern\":{\"fillmode\":\"overlay\",\"size\":10,\"solidity\":0.2}},\"type\":\"barpolar\"}],\"pie\":[{\"automargin\":true,\"type\":\"pie\"}]},\"layout\":{\"autotypenumbers\":\"strict\",\"colorway\":[\"#636efa\",\"#EF553B\",\"#00cc96\",\"#ab63fa\",\"#FFA15A\",\"#19d3f3\",\"#FF6692\",\"#B6E880\",\"#FF97FF\",\"#FECB52\"],\"font\":{\"color\":\"#2a3f5f\"},\"hovermode\":\"closest\",\"hoverlabel\":{\"align\":\"left\"},\"paper_bgcolor\":\"white\",\"plot_bgcolor\":\"#E5ECF6\",\"polar\":{\"bgcolor\":\"#E5ECF6\",\"angularaxis\":{\"gridcolor\":\"white\",\"linecolor\":\"white\",\"ticks\":\"\"},\"radialaxis\":{\"gridcolor\":\"white\",\"linecolor\":\"white\",\"ticks\":\"\"}},\"ternary\":{\"bgcolor\":\"#E5ECF6\",\"aaxis\":{\"gridcolor\":\"white\",\"linecolor\":\"white\",\"ticks\":\"\"},\"baxis\":{\"gridcolor\":\"white\",\"linecolor\":\"white\",\"ticks\":\"\"},\"caxis\":{\"gridcolor\":\"white\",\"linecolor\":\"white\",\"ticks\":\"\"}},\"coloraxis\":{\"colorbar\":{\"outlinewidth\":0,\"ticks\":\"\"}},\"colorscale\":{\"sequential\":[[0.0,\"#0d0887\"],[0.1111111111111111,\"#46039f\"],[0.2222222222222222,\"#7201a8\"],[0.3333333333333333,\"#9c179e\"],[0.4444444444444444,\"#bd3786\"],[0.5555555555555556,\"#d8576b\"],[0.6666666666666666,\"#ed7953\"],[0.7777777777777778,\"#fb9f3a\"],[0.8888888888888888,\"#fdca26\"],[1.0,\"#f0f921\"]],\"sequentialminus\":[[0.0,\"#0d0887\"],[0.1111111111111111,\"#46039f\"],[0.2222222222222222,\"#7201a8\"],[0.3333333333333333,\"#9c179e\"],[0.4444444444444444,\"#bd3786\"],[0.5555555555555556,\"#d8576b\"],[0.6666666666666666,\"#ed7953\"],[0.7777777777777778,\"#fb9f3a\"],[0.8888888888888888,\"#fdca26\"],[1.0,\"#f0f921\"]],\"diverging\":[[0,\"#8e0152\"],[0.1,\"#c51b7d\"],[0.2,\"#de77ae\"],[0.3,\"#f1b6da\"],[0.4,\"#fde0ef\"],[0.5,\"#f7f7f7\"],[0.6,\"#e6f5d0\"],[0.7,\"#b8e186\"],[0.8,\"#7fbc41\"],[0.9,\"#4d9221\"],[1,\"#276419\"]]},\"xaxis\":{\"gridcolor\":\"white\",\"linecolor\":\"white\",\"ticks\":\"\",\"title\":{\"standoff\":15},\"zerolinecolor\":\"white\",\"automargin\":true,\"zerolinewidth\":2},\"yaxis\":{\"gridcolor\":\"white\",\"linecolor\":\"white\",\"ticks\":\"\",\"title\":{\"standoff\":15},\"zerolinecolor\":\"white\",\"automargin\":true,\"zerolinewidth\":2},\"scene\":{\"xaxis\":{\"backgroundcolor\":\"#E5ECF6\",\"gridcolor\":\"white\",\"linecolor\":\"white\",\"showbackground\":true,\"ticks\":\"\",\"zerolinecolor\":\"white\",\"gridwidth\":2},\"yaxis\":{\"backgroundcolor\":\"#E5ECF6\",\"gridcolor\":\"white\",\"linecolor\":\"white\",\"showbackground\":true,\"ticks\":\"\",\"zerolinecolor\":\"white\",\"gridwidth\":2},\"zaxis\":{\"backgroundcolor\":\"#E5ECF6\",\"gridcolor\":\"white\",\"linecolor\":\"white\",\"showbackground\":true,\"ticks\":\"\",\"zerolinecolor\":\"white\",\"gridwidth\":2}},\"shapedefaults\":{\"line\":{\"color\":\"#2a3f5f\"}},\"annotationdefaults\":{\"arrowcolor\":\"#2a3f5f\",\"arrowhead\":0,\"arrowwidth\":1},\"geo\":{\"bgcolor\":\"white\",\"landcolor\":\"#E5ECF6\",\"subunitcolor\":\"white\",\"showland\":true,\"showlakes\":true,\"lakecolor\":\"white\"},\"title\":{\"x\":0.05},\"mapbox\":{\"style\":\"light\"}}},\"coloraxis\":{\"colorbar\":{\"title\":{\"text\":\"Patient_Age\"}},\"colorscale\":[[0.0,\"rgb(75, 41, 145)\"],[0.16666666666666666,\"rgb(135, 44, 162)\"],[0.3333333333333333,\"rgb(192, 54, 157)\"],[0.5,\"rgb(234, 79, 136)\"],[0.6666666666666666,\"rgb(250, 120, 118)\"],[0.8333333333333334,\"rgb(246, 169, 122)\"],[1.0,\"rgb(237, 217, 163)\"]],\"cmid\":14.49721915177912},\"legend\":{\"tracegroupgap\":0},\"margin\":{\"t\":60}},                        {\"responsive\": true}                    ).then(function(){\n",
       "                            \n",
       "var gd = document.getElementById('0955a7ad-1d8b-4bb6-a7c4-a921343a364f');\n",
       "var x = new MutationObserver(function (mutations, observer) {{\n",
       "        var display = window.getComputedStyle(gd).display;\n",
       "        if (!display || display === 'none') {{\n",
       "            console.log([gd, 'removed!']);\n",
       "            Plotly.purge(gd);\n",
       "            observer.disconnect();\n",
       "        }}\n",
       "}});\n",
       "\n",
       "// Listen for the removal of the full notebook cells\n",
       "var notebookContainer = gd.closest('#notebook-container');\n",
       "if (notebookContainer) {{\n",
       "    x.observe(notebookContainer, {childList: true});\n",
       "}}\n",
       "\n",
       "// Listen for the clearing of the current output cell\n",
       "var outputEl = gd.closest('.output');\n",
       "if (outputEl) {{\n",
       "    x.observe(outputEl, {childList: true});\n",
       "}}\n",
       "\n",
       "                        })                };                });            </script>        </div>"
      ]
     },
     "metadata": {},
     "output_type": "display_data"
    }
   ],
   "source": [
    "df = grouped_patients\n",
    "fig = px.sunburst(df, path=['firstDoseAge','gap12', 'Doses'], values='Count',\n",
    "                  names='gap12',\n",
    "                  color='Patient_Age', \n",
    "                  color_continuous_scale='Agsunset',\n",
    "                  color_continuous_midpoint=np.average(df['Patient_Age']))\n",
    "fig.show()"
   ]
  },
  {
   "cell_type": "code",
   "execution_count": 345,
   "id": "daca91cf",
   "metadata": {},
   "outputs": [],
   "source": [
    "df_hpv = df_hpv.sort_values(by=['client_id','vax_year','vax_month'],ascending=True)"
   ]
  },
  {
   "cell_type": "code",
   "execution_count": 342,
   "id": "0f404c04",
   "metadata": {},
   "outputs": [
    {
     "data": {
      "text/html": [
       "<div>\n",
       "<style scoped>\n",
       "    .dataframe tbody tr th:only-of-type {\n",
       "        vertical-align: middle;\n",
       "    }\n",
       "\n",
       "    .dataframe tbody tr th {\n",
       "        vertical-align: top;\n",
       "    }\n",
       "\n",
       "    .dataframe thead th {\n",
       "        text-align: right;\n",
       "    }\n",
       "</style>\n",
       "<table border=\"1\" class=\"dataframe\">\n",
       "  <thead>\n",
       "    <tr style=\"text-align: right;\">\n",
       "      <th></th>\n",
       "      <th>client_id</th>\n",
       "      <th>level_0</th>\n",
       "      <th>vax_month</th>\n",
       "      <th>vax_year</th>\n",
       "      <th>RACE_DESC</th>\n",
       "      <th>ETHNICITY_DESC</th>\n",
       "      <th>PatientAge</th>\n",
       "      <th>Trade_name</th>\n",
       "      <th>PatientZip</th>\n",
       "      <th>PatientCounty</th>\n",
       "      <th>ProviderCounty</th>\n",
       "      <th>GENDER</th>\n",
       "      <th>Doses</th>\n",
       "      <th>dose12gap</th>\n",
       "      <th>wholeSeriesGap</th>\n",
       "    </tr>\n",
       "  </thead>\n",
       "  <tbody>\n",
       "    <tr>\n",
       "      <th>0</th>\n",
       "      <td>9910</td>\n",
       "      <td>243042</td>\n",
       "      <td>7</td>\n",
       "      <td>2017</td>\n",
       "      <td>WHITE</td>\n",
       "      <td>NOT HISPANIC OR LATINO</td>\n",
       "      <td>24</td>\n",
       "      <td>Gardasil 9</td>\n",
       "      <td>11756.0</td>\n",
       "      <td>Nassau</td>\n",
       "      <td>Nassau</td>\n",
       "      <td>M</td>\n",
       "      <td>1</td>\n",
       "      <td>NaN</td>\n",
       "      <td>NaN</td>\n",
       "    </tr>\n",
       "    <tr>\n",
       "      <th>1</th>\n",
       "      <td>12409</td>\n",
       "      <td>321936</td>\n",
       "      <td>6</td>\n",
       "      <td>2019</td>\n",
       "      <td>OTHER</td>\n",
       "      <td>NOT HISPANIC OR LATINO</td>\n",
       "      <td>22</td>\n",
       "      <td>Gardasil</td>\n",
       "      <td>11590.0</td>\n",
       "      <td>Nassau</td>\n",
       "      <td>Nassau</td>\n",
       "      <td>M</td>\n",
       "      <td>2</td>\n",
       "      <td>2.0</td>\n",
       "      <td>2.0</td>\n",
       "    </tr>\n",
       "    <tr>\n",
       "      <th>2</th>\n",
       "      <td>21455</td>\n",
       "      <td>75954</td>\n",
       "      <td>1</td>\n",
       "      <td>2013</td>\n",
       "      <td>ASIAN</td>\n",
       "      <td>NOT HISPANIC OR LATINO</td>\n",
       "      <td>17</td>\n",
       "      <td>Gardasil</td>\n",
       "      <td>11040.0</td>\n",
       "      <td>Nassau</td>\n",
       "      <td>New York</td>\n",
       "      <td>M</td>\n",
       "      <td>1</td>\n",
       "      <td>NaN</td>\n",
       "      <td>NaN</td>\n",
       "    </tr>\n",
       "    <tr>\n",
       "      <th>3</th>\n",
       "      <td>21656</td>\n",
       "      <td>0</td>\n",
       "      <td>1</td>\n",
       "      <td>2008</td>\n",
       "      <td>BLACK OR AFRICAN-AMERICAN</td>\n",
       "      <td>NOT HISPANIC OR LATINO</td>\n",
       "      <td>15</td>\n",
       "      <td>Gardasil</td>\n",
       "      <td>11520.0</td>\n",
       "      <td>Nassau</td>\n",
       "      <td>Broome</td>\n",
       "      <td>F</td>\n",
       "      <td>2</td>\n",
       "      <td>4.0</td>\n",
       "      <td>4.0</td>\n",
       "    </tr>\n",
       "    <tr>\n",
       "      <th>4</th>\n",
       "      <td>25161</td>\n",
       "      <td>1</td>\n",
       "      <td>1</td>\n",
       "      <td>2008</td>\n",
       "      <td>WHITE</td>\n",
       "      <td>NOT HISPANIC OR LATINO</td>\n",
       "      <td>15</td>\n",
       "      <td>Gardasil</td>\n",
       "      <td>11561.0</td>\n",
       "      <td>Nassau</td>\n",
       "      <td>Cayuga</td>\n",
       "      <td>F</td>\n",
       "      <td>1</td>\n",
       "      <td>NaN</td>\n",
       "      <td>NaN</td>\n",
       "    </tr>\n",
       "    <tr>\n",
       "      <th>...</th>\n",
       "      <td>...</td>\n",
       "      <td>...</td>\n",
       "      <td>...</td>\n",
       "      <td>...</td>\n",
       "      <td>...</td>\n",
       "      <td>...</td>\n",
       "      <td>...</td>\n",
       "      <td>...</td>\n",
       "      <td>...</td>\n",
       "      <td>...</td>\n",
       "      <td>...</td>\n",
       "      <td>...</td>\n",
       "      <td>...</td>\n",
       "      <td>...</td>\n",
       "      <td>...</td>\n",
       "    </tr>\n",
       "    <tr>\n",
       "      <th>473990</th>\n",
       "      <td>25255074</td>\n",
       "      <td>445067</td>\n",
       "      <td>1</td>\n",
       "      <td>2023</td>\n",
       "      <td>OTHER</td>\n",
       "      <td>UNKNOWN</td>\n",
       "      <td>10</td>\n",
       "      <td>Gardasil 9</td>\n",
       "      <td>11933.0</td>\n",
       "      <td>Suffolk</td>\n",
       "      <td>Suffolk</td>\n",
       "      <td>F</td>\n",
       "      <td>2</td>\n",
       "      <td>7.0</td>\n",
       "      <td>7.0</td>\n",
       "    </tr>\n",
       "    <tr>\n",
       "      <th>473991</th>\n",
       "      <td>25255370</td>\n",
       "      <td>449100</td>\n",
       "      <td>3</td>\n",
       "      <td>2023</td>\n",
       "      <td>UNKNOWN</td>\n",
       "      <td>HISPANIC OR LATINO</td>\n",
       "      <td>10</td>\n",
       "      <td>Gardasil 9</td>\n",
       "      <td>11742.0</td>\n",
       "      <td>Suffolk</td>\n",
       "      <td>Suffolk</td>\n",
       "      <td>F</td>\n",
       "      <td>1</td>\n",
       "      <td>NaN</td>\n",
       "      <td>NaN</td>\n",
       "    </tr>\n",
       "    <tr>\n",
       "      <th>473992</th>\n",
       "      <td>25255470</td>\n",
       "      <td>453062</td>\n",
       "      <td>5</td>\n",
       "      <td>2023</td>\n",
       "      <td>WHITE</td>\n",
       "      <td>NOT HISPANIC OR LATINO</td>\n",
       "      <td>10</td>\n",
       "      <td>Gardasil 9</td>\n",
       "      <td>11949.0</td>\n",
       "      <td>Suffolk</td>\n",
       "      <td>Suffolk</td>\n",
       "      <td>M</td>\n",
       "      <td>2</td>\n",
       "      <td>6.0</td>\n",
       "      <td>6.0</td>\n",
       "    </tr>\n",
       "    <tr>\n",
       "      <th>473993</th>\n",
       "      <td>25257514</td>\n",
       "      <td>433030</td>\n",
       "      <td>9</td>\n",
       "      <td>2022</td>\n",
       "      <td>OTHER</td>\n",
       "      <td>HISPANIC OR LATINO</td>\n",
       "      <td>13</td>\n",
       "      <td>Gardasil 9</td>\n",
       "      <td>11580.0</td>\n",
       "      <td>Nassau</td>\n",
       "      <td>Nassau</td>\n",
       "      <td>M</td>\n",
       "      <td>2</td>\n",
       "      <td>12.0</td>\n",
       "      <td>12.0</td>\n",
       "    </tr>\n",
       "    <tr>\n",
       "      <th>473994</th>\n",
       "      <td>25258136</td>\n",
       "      <td>460987</td>\n",
       "      <td>8</td>\n",
       "      <td>2023</td>\n",
       "      <td>OTHER</td>\n",
       "      <td>UNKNOWN</td>\n",
       "      <td>17</td>\n",
       "      <td>Gardasil 9</td>\n",
       "      <td>11575.0</td>\n",
       "      <td>Nassau</td>\n",
       "      <td>Nassau</td>\n",
       "      <td>M</td>\n",
       "      <td>1</td>\n",
       "      <td>NaN</td>\n",
       "      <td>NaN</td>\n",
       "    </tr>\n",
       "  </tbody>\n",
       "</table>\n",
       "<p>473995 rows × 15 columns</p>\n",
       "</div>"
      ],
      "text/plain": [
       "        client_id  level_0  vax_month  vax_year                  RACE_DESC  \\\n",
       "0            9910   243042          7      2017                      WHITE   \n",
       "1           12409   321936          6      2019                      OTHER   \n",
       "2           21455    75954          1      2013                      ASIAN   \n",
       "3           21656        0          1      2008  BLACK OR AFRICAN-AMERICAN   \n",
       "4           25161        1          1      2008                      WHITE   \n",
       "...           ...      ...        ...       ...                        ...   \n",
       "473990   25255074   445067          1      2023                      OTHER   \n",
       "473991   25255370   449100          3      2023                    UNKNOWN   \n",
       "473992   25255470   453062          5      2023                      WHITE   \n",
       "473993   25257514   433030          9      2022                      OTHER   \n",
       "473994   25258136   460987          8      2023                      OTHER   \n",
       "\n",
       "                ETHNICITY_DESC  PatientAge  Trade_name  PatientZip  \\\n",
       "0       NOT HISPANIC OR LATINO          24  Gardasil 9     11756.0   \n",
       "1       NOT HISPANIC OR LATINO          22    Gardasil     11590.0   \n",
       "2       NOT HISPANIC OR LATINO          17    Gardasil     11040.0   \n",
       "3       NOT HISPANIC OR LATINO          15    Gardasil     11520.0   \n",
       "4       NOT HISPANIC OR LATINO          15    Gardasil     11561.0   \n",
       "...                        ...         ...         ...         ...   \n",
       "473990                 UNKNOWN          10  Gardasil 9     11933.0   \n",
       "473991      HISPANIC OR LATINO          10  Gardasil 9     11742.0   \n",
       "473992  NOT HISPANIC OR LATINO          10  Gardasil 9     11949.0   \n",
       "473993      HISPANIC OR LATINO          13  Gardasil 9     11580.0   \n",
       "473994                 UNKNOWN          17  Gardasil 9     11575.0   \n",
       "\n",
       "       PatientCounty ProviderCounty GENDER  Doses  dose12gap  wholeSeriesGap  \n",
       "0             Nassau         Nassau      M      1        NaN             NaN  \n",
       "1             Nassau         Nassau      M      2        2.0             2.0  \n",
       "2             Nassau       New York      M      1        NaN             NaN  \n",
       "3             Nassau         Broome      F      2        4.0             4.0  \n",
       "4             Nassau         Cayuga      F      1        NaN             NaN  \n",
       "...              ...            ...    ...    ...        ...             ...  \n",
       "473990       Suffolk        Suffolk      F      2        7.0             7.0  \n",
       "473991       Suffolk        Suffolk      F      1        NaN             NaN  \n",
       "473992       Suffolk        Suffolk      M      2        6.0             6.0  \n",
       "473993        Nassau         Nassau      M      2       12.0            12.0  \n",
       "473994        Nassau         Nassau      M      1        NaN             NaN  \n",
       "\n",
       "[473995 rows x 15 columns]"
      ]
     },
     "execution_count": 342,
     "metadata": {},
     "output_type": "execute_result"
    }
   ],
   "source": [
    "hpv_patients"
   ]
  },
  {
   "cell_type": "code",
   "execution_count": 371,
   "id": "4fa60716",
   "metadata": {},
   "outputs": [
    {
     "data": {
      "text/html": [
       "<div>\n",
       "<style scoped>\n",
       "    .dataframe tbody tr th:only-of-type {\n",
       "        vertical-align: middle;\n",
       "    }\n",
       "\n",
       "    .dataframe tbody tr th {\n",
       "        vertical-align: top;\n",
       "    }\n",
       "\n",
       "    .dataframe thead th {\n",
       "        text-align: right;\n",
       "    }\n",
       "</style>\n",
       "<table border=\"1\" class=\"dataframe\">\n",
       "  <thead>\n",
       "    <tr style=\"text-align: right;\">\n",
       "      <th></th>\n",
       "      <th>client_id</th>\n",
       "      <th>vax_month</th>\n",
       "      <th>vax_year</th>\n",
       "      <th>RACE_DESC</th>\n",
       "      <th>ETHNICITY_DESC</th>\n",
       "      <th>PatientAge</th>\n",
       "      <th>Trade_name</th>\n",
       "      <th>PatientZip</th>\n",
       "      <th>PatientCounty</th>\n",
       "      <th>ProviderCounty</th>\n",
       "      <th>GENDER</th>\n",
       "    </tr>\n",
       "  </thead>\n",
       "  <tbody>\n",
       "    <tr>\n",
       "      <th>258</th>\n",
       "      <td>341154</td>\n",
       "      <td>9</td>\n",
       "      <td>2021</td>\n",
       "      <td>WHITE</td>\n",
       "      <td>NOT HISPANIC OR LATINO</td>\n",
       "      <td>14</td>\n",
       "      <td>Gardasil 9</td>\n",
       "      <td>11720.0</td>\n",
       "      <td>Suffolk</td>\n",
       "      <td>Suffolk</td>\n",
       "      <td>M</td>\n",
       "    </tr>\n",
       "    <tr>\n",
       "      <th>449596</th>\n",
       "      <td>341154</td>\n",
       "      <td>8</td>\n",
       "      <td>2022</td>\n",
       "      <td>WHITE</td>\n",
       "      <td>NOT HISPANIC OR LATINO</td>\n",
       "      <td>15</td>\n",
       "      <td>Gardasil 9</td>\n",
       "      <td>11720.0</td>\n",
       "      <td>Suffolk</td>\n",
       "      <td>Suffolk</td>\n",
       "      <td>M</td>\n",
       "    </tr>\n",
       "  </tbody>\n",
       "</table>\n",
       "</div>"
      ],
      "text/plain": [
       "        client_id  vax_month  vax_year RACE_DESC          ETHNICITY_DESC  \\\n",
       "258        341154          9      2021     WHITE  NOT HISPANIC OR LATINO   \n",
       "449596     341154          8      2022     WHITE  NOT HISPANIC OR LATINO   \n",
       "\n",
       "        PatientAge  Trade_name  PatientZip PatientCounty ProviderCounty GENDER  \n",
       "258             14  Gardasil 9     11720.0       Suffolk        Suffolk      M  \n",
       "449596          15  Gardasil 9     11720.0       Suffolk        Suffolk      M  "
      ]
     },
     "execution_count": 371,
     "metadata": {},
     "output_type": "execute_result"
    }
   ],
   "source": [
    "df_hpv[df_hpv['client_id']==341154]"
   ]
  },
  {
   "cell_type": "code",
   "execution_count": 372,
   "id": "617c5aba",
   "metadata": {},
   "outputs": [
    {
     "data": {
      "text/html": [
       "<div>\n",
       "<style scoped>\n",
       "    .dataframe tbody tr th:only-of-type {\n",
       "        vertical-align: middle;\n",
       "    }\n",
       "\n",
       "    .dataframe tbody tr th {\n",
       "        vertical-align: top;\n",
       "    }\n",
       "\n",
       "    .dataframe thead th {\n",
       "        text-align: right;\n",
       "    }\n",
       "</style>\n",
       "<table border=\"1\" class=\"dataframe\">\n",
       "  <thead>\n",
       "    <tr style=\"text-align: right;\">\n",
       "      <th></th>\n",
       "      <th>client_id</th>\n",
       "      <th>level_0</th>\n",
       "      <th>vax_month</th>\n",
       "      <th>vax_year</th>\n",
       "      <th>RACE_DESC</th>\n",
       "      <th>ETHNICITY_DESC</th>\n",
       "      <th>PatientAge</th>\n",
       "      <th>Trade_name</th>\n",
       "      <th>PatientZip</th>\n",
       "      <th>PatientCounty</th>\n",
       "      <th>ProviderCounty</th>\n",
       "      <th>GENDER</th>\n",
       "      <th>Doses</th>\n",
       "      <th>dose12gap</th>\n",
       "      <th>wholeSeriesGap</th>\n",
       "    </tr>\n",
       "  </thead>\n",
       "  <tbody>\n",
       "    <tr>\n",
       "      <th>219</th>\n",
       "      <td>341154</td>\n",
       "      <td>401639</td>\n",
       "      <td>9</td>\n",
       "      <td>2021</td>\n",
       "      <td>WHITE</td>\n",
       "      <td>NOT HISPANIC OR LATINO</td>\n",
       "      <td>14</td>\n",
       "      <td>Gardasil 9</td>\n",
       "      <td>11720.0</td>\n",
       "      <td>Suffolk</td>\n",
       "      <td>Suffolk</td>\n",
       "      <td>M</td>\n",
       "      <td>2</td>\n",
       "      <td>11.0</td>\n",
       "      <td>11.0</td>\n",
       "    </tr>\n",
       "  </tbody>\n",
       "</table>\n",
       "</div>"
      ],
      "text/plain": [
       "     client_id  level_0  vax_month  vax_year RACE_DESC  \\\n",
       "219     341154   401639          9      2021     WHITE   \n",
       "\n",
       "             ETHNICITY_DESC  PatientAge  Trade_name  PatientZip PatientCounty  \\\n",
       "219  NOT HISPANIC OR LATINO          14  Gardasil 9     11720.0       Suffolk   \n",
       "\n",
       "    ProviderCounty GENDER  Doses  dose12gap  wholeSeriesGap  \n",
       "219        Suffolk      M      2       11.0            11.0  "
      ]
     },
     "execution_count": 372,
     "metadata": {},
     "output_type": "execute_result"
    }
   ],
   "source": [
    "hpv_patients[hpv_patients['client_id']==341154]"
   ]
  },
  {
   "cell_type": "code",
   "execution_count": 373,
   "id": "89797e9f",
   "metadata": {},
   "outputs": [
    {
     "data": {
      "text/html": [
       "<div>\n",
       "<style scoped>\n",
       "    .dataframe tbody tr th:only-of-type {\n",
       "        vertical-align: middle;\n",
       "    }\n",
       "\n",
       "    .dataframe tbody tr th {\n",
       "        vertical-align: top;\n",
       "    }\n",
       "\n",
       "    .dataframe thead th {\n",
       "        text-align: right;\n",
       "    }\n",
       "</style>\n",
       "<table border=\"1\" class=\"dataframe\">\n",
       "  <thead>\n",
       "    <tr style=\"text-align: right;\">\n",
       "      <th></th>\n",
       "      <th>index</th>\n",
       "      <th>client_id</th>\n",
       "      <th>vax_month</th>\n",
       "      <th>vax_year</th>\n",
       "      <th>RACE_DESC</th>\n",
       "      <th>ETHNICITY_DESC</th>\n",
       "      <th>PatientAge</th>\n",
       "      <th>Trade_name</th>\n",
       "      <th>PatientZip</th>\n",
       "      <th>PatientCounty</th>\n",
       "      <th>ProviderCounty</th>\n",
       "      <th>GENDER</th>\n",
       "    </tr>\n",
       "  </thead>\n",
       "  <tbody>\n",
       "    <tr>\n",
       "      <th>0</th>\n",
       "      <td>258</td>\n",
       "      <td>341154</td>\n",
       "      <td>9</td>\n",
       "      <td>2021</td>\n",
       "      <td>WHITE</td>\n",
       "      <td>NOT HISPANIC OR LATINO</td>\n",
       "      <td>14</td>\n",
       "      <td>Gardasil 9</td>\n",
       "      <td>11720.0</td>\n",
       "      <td>Suffolk</td>\n",
       "      <td>Suffolk</td>\n",
       "      <td>M</td>\n",
       "    </tr>\n",
       "  </tbody>\n",
       "</table>\n",
       "</div>"
      ],
      "text/plain": [
       "   index  client_id  vax_month  vax_year RACE_DESC          ETHNICITY_DESC  \\\n",
       "0    258     341154          9      2021     WHITE  NOT HISPANIC OR LATINO   \n",
       "\n",
       "   PatientAge  Trade_name  PatientZip PatientCounty ProviderCounty GENDER  \n",
       "0          14  Gardasil 9     11720.0       Suffolk        Suffolk      M  "
      ]
     },
     "execution_count": 373,
     "metadata": {},
     "output_type": "execute_result"
    }
   ],
   "source": [
    "tempdf"
   ]
  },
  {
   "cell_type": "code",
   "execution_count": 374,
   "id": "a972403c",
   "metadata": {},
   "outputs": [],
   "source": [
    "complete=[]\n",
    "for i in range(len(hpv_patients)):\n",
    "    if hpv_patients['Doses'][i]==1:\n",
    "        # incomplete schedule\n",
    "        complete.append(0)\n",
    "        continue\n",
    "    elif hpv_patients['PatientAge'][i]<15:\n",
    "        # First Age < 15 two-doses schedule\n",
    "\n",
    "        tempdf = df_hpv[df_hpv['client_id'] == hpv_patients['client_id'][i]].reset_index()\n",
    "        if len(tempdf)<2:\n",
    "            print('ERROR!')\n",
    "        complete.append(tempdf['vax_year'][1])\n",
    "    elif hpv_patients['PatientAge'][i] >=15:\n",
    "        if hpv_patients['Doses'][i]==2:\n",
    "            complete.append(0)\n",
    "        elif hpv_patients['Doses'][i] ==3:\n",
    "            tempdf = df_hpv[df_hpv['client_id'] == hpv_patients['client_id'][i]].reset_index()\n",
    "            if len(tempdf)<3:\n",
    "                print('ERROR in 3 dose!!',len(tempdf))\n",
    "#             print(len(tempdf)\n",
    "            complete.append(tempdf['vax_year'][2])\n"
   ]
  },
  {
   "cell_type": "code",
   "execution_count": 376,
   "id": "976ec026",
   "metadata": {},
   "outputs": [
    {
     "data": {
      "text/plain": [
       "True"
      ]
     },
     "execution_count": 376,
     "metadata": {},
     "output_type": "execute_result"
    }
   ],
   "source": [
    "len(hpv_patients)==len(complete)"
   ]
  },
  {
   "cell_type": "code",
   "execution_count": 377,
   "id": "9921a452",
   "metadata": {},
   "outputs": [],
   "source": [
    "hpv_patients['Completeness']=complete"
   ]
  },
  {
   "cell_type": "code",
   "execution_count": 470,
   "id": "26491caf",
   "metadata": {},
   "outputs": [],
   "source": []
  },
  {
   "cell_type": "code",
   "execution_count": 571,
   "id": "d54b7c32",
   "metadata": {},
   "outputs": [],
   "source": [
    "hpv,total,comp=[],[],[]"
   ]
  },
  {
   "cell_type": "code",
   "execution_count": 572,
   "id": "6a10558b",
   "metadata": {},
   "outputs": [
    {
     "name": "stdout",
     "output_type": "stream",
     "text": [
      "[] [] []\n"
     ]
    }
   ],
   "source": [
    "print(hpv,total,comp)"
   ]
  },
  {
   "cell_type": "code",
   "execution_count": 573,
   "id": "db29597d",
   "metadata": {},
   "outputs": [
    {
     "name": "stdout",
     "output_type": "stream",
     "text": [
      "473995 1019481 335701\n"
     ]
    }
   ],
   "source": [
    "grouped = hpv_patients.groupby(['Completeness']).size().reset_index(name='count')\n",
    "print(len(hpv_patients),len(df_age_total),len(hpv_patients)-grouped['count'][0])\n",
    "hpv.append(len(hpv_patients))\n",
    "total.append(len(df_age_total))\n",
    "comp.append(len(hpv_patients)-grouped['count'][0])"
   ]
  },
  {
   "cell_type": "code",
   "execution_count": 574,
   "id": "9429ce19",
   "metadata": {},
   "outputs": [
    {
     "name": "stdout",
     "output_type": "stream",
     "text": [
      "225007 490328 157260\n"
     ]
    }
   ],
   "source": [
    "#male\n",
    "grouped = hpv_patients[hpv_patients['GENDER']=='M'].groupby(['Completeness']).size().reset_index(name='count')\n",
    "a = len(hpv_patients[hpv_patients['GENDER']=='M'])\n",
    "b = len(df_age_total[df_age_total['GENDER']=='M'])\n",
    "c = len(hpv_patients[hpv_patients['GENDER']=='M'])-grouped['count'][0]\n",
    "\n",
    "print(a,b,c)\n",
    "\n",
    "hpv.append(a)\n",
    "total.append(b)\n",
    "comp.append(c)"
   ]
  },
  {
   "cell_type": "code",
   "execution_count": 575,
   "id": "117266d3",
   "metadata": {},
   "outputs": [
    {
     "name": "stdout",
     "output_type": "stream",
     "text": [
      "248334 527857 178118\n"
     ]
    }
   ],
   "source": [
    "#Female\n",
    "grouped = hpv_patients[hpv_patients['GENDER']=='F'].groupby(['Completeness']).size().reset_index(name='count')\n",
    "a = len(hpv_patients[hpv_patients['GENDER']=='F'])\n",
    "b = len(df_age_total[df_age_total['GENDER']=='F'])\n",
    "c = len(hpv_patients[hpv_patients['GENDER']=='F'])-grouped['count'][0]\n",
    "\n",
    "print(a,b,c)\n",
    "\n",
    "hpv.append(a)\n",
    "total.append(b)\n",
    "comp.append(c)"
   ]
  },
  {
   "cell_type": "code",
   "execution_count": 569,
   "id": "3cb6b3cb",
   "metadata": {},
   "outputs": [
    {
     "data": {
      "text/plain": [
       "[403779, 157260, 178118]"
      ]
     },
     "execution_count": 569,
     "metadata": {},
     "output_type": "execute_result"
    }
   ],
   "source": [
    "comp"
   ]
  },
  {
   "cell_type": "code",
   "execution_count": 576,
   "id": "7b77e3b3",
   "metadata": {},
   "outputs": [],
   "source": [
    "base1 = np.array(comp)/np.array(total)\n",
    "base2 = np.array(hpv)/np.array(total)-base1\n",
    "portion = 100*(np.array(comp)/np.array(hpv))"
   ]
  },
  {
   "cell_type": "code",
   "execution_count": 566,
   "id": "7f3c730a",
   "metadata": {},
   "outputs": [
    {
     "data": {
      "text/plain": [
       "array([85.18634163, 69.89115894, 71.72517658])"
      ]
     },
     "execution_count": 566,
     "metadata": {},
     "output_type": "execute_result"
    }
   ],
   "source": [
    "portion"
   ]
  },
  {
   "cell_type": "code",
   "execution_count": 567,
   "id": "4d922f0f",
   "metadata": {},
   "outputs": [
    {
     "data": {
      "text/plain": [
       "array([0.39606329, 0.32072409, 0.33743609])"
      ]
     },
     "execution_count": 567,
     "metadata": {},
     "output_type": "execute_result"
    }
   ],
   "source": [
    "base1"
   ]
  },
  {
   "cell_type": "code",
   "execution_count": 565,
   "id": "da64092c",
   "metadata": {},
   "outputs": [
    {
     "data": {
      "text/plain": [
       "array([0.46493755, 0.45889078, 0.47045696])"
      ]
     },
     "execution_count": 565,
     "metadata": {},
     "output_type": "execute_result"
    }
   ],
   "source": [
    "base1+base2"
   ]
  },
  {
   "cell_type": "code",
   "execution_count": 577,
   "id": "f832f186",
   "metadata": {},
   "outputs": [
    {
     "data": {
      "image/png": "[encoded data removed]",
      "text/plain": [
       "<Figure size 400x300 with 1 Axes>"
      ]
     },
     "metadata": {},
     "output_type": "display_data"
    }
   ],
   "source": [
    "x = np.arange(len(label))\n",
    "plt.figure(figsize=(4, 3))\n",
    "\n",
    "#base1 is the complete rate\n",
    "plt.bar(x,base1,color='w',edgecolor = 'C1',hatch='////',label = 'Complete Rate',width = 0.6,bottom=0)\n",
    "plt.bar(x,base2,color='w',edgecolor = 'C2',hatch='\\\\\\\\\\\\',label = 'Initial Rate',width = 0.6,bottom=base1)\n",
    "\n",
    "for i in range(len(label)):\n",
    "    plt.text(i, base1[i]+base2[i]+0.02,str(round(portion[i],2))+str('%') , ha='center')\n",
    "    \n",
    "\n",
    "plt.xlabel('Gender')\n",
    "plt.ylabel('Complete Rate and Initial Rate')\n",
    "# plt.title('Vaccine patient age distribution (Age 9-13)')\n",
    "plt.ylim([0,0.75])\n",
    "plt.xticks(x, label)\n",
    "plt.legend(loc='best')\n",
    "plt.grid(True,linestyle='--', color='gray', linewidth=0.5, alpha=0.5)\n",
    "plt.savefig('../Manuscript Materials/AJPM/Figures/FigureC/gender.jpg')\n",
    "plt.show()"
   ]
  },
  {
   "cell_type": "markdown",
   "id": "d1a380ca",
   "metadata": {},
   "source": [
    "### Calculate the Race Disparity"
   ]
  },
  {
   "cell_type": "code",
   "execution_count": 511,
   "id": "d11c54d8",
   "metadata": {},
   "outputs": [],
   "source": [
    "races = ['White','Black','Asian','Hispanic','Not Hispanic']\n",
    "# base2 = [0.62752636,0.49739642,0.54966887,0.78071993,0.46604202]\n",
    "# base1 = [0.6896389641202408,]"
   ]
  },
  {
   "cell_type": "code",
   "execution_count": 495,
   "id": "73b1747b",
   "metadata": {},
   "outputs": [
    {
     "data": {
      "text/plain": [
       "array(['WHITE', 'OTHER', 'ASIAN', 'BLACK OR AFRICAN-AMERICAN', 'UNKNOWN',\n",
       "       'NATIVE HAWAIIAN OR OTHER PACIFIC',\n",
       "       'AMERICAN INDIAN OR ALASKA NATIVE', 'NATIVE HAWAIIAN OR OTHER',\n",
       "       'AMERICAN INDIAN OR ALASKA'], dtype=object)"
      ]
     },
     "execution_count": 495,
     "metadata": {},
     "output_type": "execute_result"
    }
   ],
   "source": [
    "hpv_patients['RACE_DESC'].unique()"
   ]
  },
  {
   "cell_type": "code",
   "execution_count": 501,
   "id": "532235b4",
   "metadata": {},
   "outputs": [
    {
     "data": {
      "text/plain": [
       "Index(['client_id', 'level_0', 'vax_month', 'vax_year', 'RACE_DESC',\n",
       "       'ETHNICITY_DESC', 'PatientAge', 'Trade_name', 'PatientZip',\n",
       "       'PatientCounty', 'ProviderCounty', 'GENDER', 'Doses', 'dose12gap',\n",
       "       'wholeSeriesGap', 'Completeness'],\n",
       "      dtype='object')"
      ]
     },
     "execution_count": 501,
     "metadata": {},
     "output_type": "execute_result"
    }
   ],
   "source": [
    "hpv_patients.columns"
   ]
  },
  {
   "cell_type": "code",
   "execution_count": 494,
   "id": "02779480",
   "metadata": {},
   "outputs": [],
   "source": [
    "hpv,total,comp=[],[],[]"
   ]
  },
  {
   "cell_type": "code",
   "execution_count": 503,
   "id": "9dfe6b88",
   "metadata": {},
   "outputs": [
    {
     "name": "stdout",
     "output_type": "stream",
     "text": [
      "[233244, 44677, 34801] [547169, 88311, 69659] [170639, 30811, 26060]\n"
     ]
    }
   ],
   "source": [
    "print(hpv,total,comp)"
   ]
  },
  {
   "cell_type": "code",
   "execution_count": 496,
   "id": "300303ba",
   "metadata": {},
   "outputs": [
    {
     "name": "stdout",
     "output_type": "stream",
     "text": [
      "233244 547169 170639\n"
     ]
    }
   ],
   "source": [
    "#White\n",
    "grouped = hpv_patients[hpv_patients['RACE_DESC']=='WHITE'].groupby(['Completeness']).size().reset_index(name='count')\n",
    "a = len(hpv_patients[hpv_patients['RACE_DESC']=='WHITE'])\n",
    "b = len(df_age_total[df_age_total['RACE_DESC']=='WHITE'])\n",
    "c = len(hpv_patients[hpv_patients['RACE_DESC']=='WHITE'])-grouped['count'][0]\n",
    "\n",
    "print(a,b,c)\n",
    "\n",
    "hpv.append(a)\n",
    "total.append(b)\n",
    "comp.append(c)"
   ]
  },
  {
   "cell_type": "code",
   "execution_count": 498,
   "id": "5c291d7b",
   "metadata": {},
   "outputs": [
    {
     "name": "stdout",
     "output_type": "stream",
     "text": [
      "44677 88311 30811\n"
     ]
    }
   ],
   "source": [
    "#Black\n",
    "grouped = hpv_patients[hpv_patients['RACE_DESC']=='BLACK OR AFRICAN-AMERICAN'].groupby(['Completeness']).size().reset_index(name='count')\n",
    "a = len(hpv_patients[hpv_patients['RACE_DESC']=='BLACK OR AFRICAN-AMERICAN'])\n",
    "b = len(df_age_total[df_age_total['RACE_DESC']=='BLACK OR AFRICAN-AMERICAN'])\n",
    "c = len(hpv_patients[hpv_patients['RACE_DESC']=='BLACK OR AFRICAN-AMERICAN'])-grouped['count'][0]\n",
    "\n",
    "print(a,b,c)\n",
    "\n",
    "hpv.append(a)\n",
    "total.append(b)\n",
    "comp.append(c)"
   ]
  },
  {
   "cell_type": "code",
   "execution_count": 499,
   "id": "c677c815",
   "metadata": {},
   "outputs": [
    {
     "name": "stdout",
     "output_type": "stream",
     "text": [
      "34801 69659 26060\n"
     ]
    }
   ],
   "source": [
    "#Asian\n",
    "grouped = hpv_patients[hpv_patients['RACE_DESC']=='ASIAN'].groupby(['Completeness']).size().reset_index(name='count')\n",
    "a = len(hpv_patients[hpv_patients['RACE_DESC']=='ASIAN'])\n",
    "b = len(df_age_total[df_age_total['RACE_DESC']=='ASIAN'])\n",
    "c = len(hpv_patients[hpv_patients['RACE_DESC']=='ASIAN'])-grouped['count'][0]\n",
    "\n",
    "print(a,b,c)\n",
    "\n",
    "hpv.append(a)\n",
    "total.append(b)\n",
    "comp.append(c)"
   ]
  },
  {
   "cell_type": "code",
   "execution_count": 502,
   "id": "ae52b5b2",
   "metadata": {},
   "outputs": [
    {
     "data": {
      "text/plain": [
       "array(['NOT HISPANIC OR LATINO', 'UNKNOWN', 'HISPANIC OR LATINO'],\n",
       "      dtype=object)"
      ]
     },
     "execution_count": 502,
     "metadata": {},
     "output_type": "execute_result"
    }
   ],
   "source": [
    "hpv_patients['ETHNICITY_DESC'].unique()"
   ]
  },
  {
   "cell_type": "code",
   "execution_count": 504,
   "id": "858598ff",
   "metadata": {},
   "outputs": [
    {
     "name": "stdout",
     "output_type": "stream",
     "text": [
      "122192 208102 89615\n"
     ]
    }
   ],
   "source": [
    "#His\n",
    "grouped = hpv_patients[hpv_patients['ETHNICITY_DESC']=='HISPANIC OR LATINO'].groupby(['Completeness']).size().reset_index(name='count')\n",
    "a = len(hpv_patients[hpv_patients['ETHNICITY_DESC']=='HISPANIC OR LATINO'])\n",
    "b = len(df_age_total[df_age_total['ETHNICITY_DESC']=='HISPANIC OR LATINO'])\n",
    "c = len(hpv_patients[hpv_patients['ETHNICITY_DESC']=='HISPANIC OR LATINO'])-grouped['count'][0]\n",
    "\n",
    "print(a,b,c)\n",
    "\n",
    "hpv.append(a)\n",
    "total.append(b)\n",
    "comp.append(c)"
   ]
  },
  {
   "cell_type": "code",
   "execution_count": 505,
   "id": "748c19dd",
   "metadata": {},
   "outputs": [
    {
     "name": "stdout",
     "output_type": "stream",
     "text": [
      "269436 639493 195585\n"
     ]
    }
   ],
   "source": [
    "#Asian\n",
    "grouped = hpv_patients[hpv_patients['ETHNICITY_DESC']=='NOT HISPANIC OR LATINO'].groupby(['Completeness']).size().reset_index(name='count')\n",
    "a = len(hpv_patients[hpv_patients['ETHNICITY_DESC']=='NOT HISPANIC OR LATINO'])\n",
    "b = len(df_age_total[df_age_total['ETHNICITY_DESC']=='NOT HISPANIC OR LATINO'])\n",
    "c = len(hpv_patients[hpv_patients['ETHNICITY_DESC']=='NOT HISPANIC OR LATINO'])-grouped['count'][0]\n",
    "\n",
    "print(a,b,c)\n",
    "\n",
    "hpv.append(a)\n",
    "total.append(b)\n",
    "comp.append(c)"
   ]
  },
  {
   "cell_type": "code",
   "execution_count": 508,
   "id": "8c17f51c",
   "metadata": {},
   "outputs": [],
   "source": [
    "base1 = np.array(comp)/np.array(total)\n",
    "base2 = np.array(hpv)/np.array(total)-base1\n"
   ]
  },
  {
   "cell_type": "code",
   "execution_count": 534,
   "id": "140ab157",
   "metadata": {},
   "outputs": [
    {
     "data": {
      "text/plain": [
       "74.88"
      ]
     },
     "execution_count": 534,
     "metadata": {},
     "output_type": "execute_result"
    }
   ],
   "source": [
    "portion = 100*(np.array(comp)/np.array(hpv))\n",
    "round(portion[2],2)"
   ]
  },
  {
   "cell_type": "code",
   "execution_count": 536,
   "id": "47840c9a",
   "metadata": {},
   "outputs": [
    {
     "data": {
      "image/png": "[encoded data removed]",
      "text/plain": [
       "<Figure size 400x300 with 1 Axes>"
      ]
     },
     "metadata": {},
     "output_type": "display_data"
    }
   ],
   "source": [
    "x = np.arange(len(races))\n",
    "plt.figure(figsize=(4, 3))\n",
    "\n",
    "#base1 is the complete rate\n",
    "plt.bar(x,base1,color='w',edgecolor = 'C1',hatch='////',label = 'Complete Rate',width = 0.6,bottom=0)\n",
    "plt.bar(x,base2,color='w',edgecolor = 'C2',hatch='\\\\\\\\\\\\',label = 'Initial Rate',width = 0.6,bottom=base1)\n",
    "\n",
    "for i in range(len(races)):\n",
    "    plt.text(i, base1[i]+base2[i]+0.01,str(round(portion[i],2))+str('%') , ha='center')\n",
    "    \n",
    "plt.xlabel('Races')\n",
    "plt.ylabel('Complete Rate and Initial Rate')\n",
    "# plt.title('Vaccine patient age distribution (Age 9-13)')\n",
    "plt.ylim([0,0.8])\n",
    "plt.xticks(x, races,rotation =15)\n",
    "plt.legend(loc='upper left')\n",
    "plt.grid(True,linestyle='--', color='gray', linewidth=0.5, alpha=0.5)\n",
    "plt.savefig('../Manuscript Materials/AJPM/Figures/FigureC/Race.jpg')\n",
    "plt.show()"
   ]
  },
  {
   "cell_type": "code",
   "execution_count": null,
   "id": "df7e9a96",
   "metadata": {},
   "outputs": [],
   "source": []
  },
  {
   "cell_type": "code",
   "execution_count": null,
   "id": "1898eb52",
   "metadata": {},
   "outputs": [],
   "source": []
  },
  {
   "cell_type": "code",
   "execution_count": null,
   "id": "f55c3dc0",
   "metadata": {},
   "outputs": [],
   "source": []
  },
  {
   "cell_type": "code",
   "execution_count": null,
   "id": "3c00157c",
   "metadata": {},
   "outputs": [],
   "source": []
  },
  {
   "cell_type": "code",
   "execution_count": null,
   "id": "bc274fe0",
   "metadata": {},
   "outputs": [],
   "source": []
  },
  {
   "cell_type": "code",
   "execution_count": null,
   "id": "be91155f",
   "metadata": {},
   "outputs": [],
   "source": []
  },
  {
   "cell_type": "code",
   "execution_count": null,
   "id": "d8621d37",
   "metadata": {},
   "outputs": [],
   "source": []
  },
  {
   "cell_type": "code",
   "execution_count": null,
   "id": "2ca73580",
   "metadata": {},
   "outputs": [],
   "source": []
  },
  {
   "cell_type": "markdown",
   "id": "6c743e57",
   "metadata": {},
   "source": [
    "# Figure B rest calculate the race disparities"
   ]
  },
  {
   "cell_type": "code",
   "execution_count": 664,
   "id": "40abb818",
   "metadata": {},
   "outputs": [],
   "source": [
    "def mergeRacetoOthers(dose):\n",
    "    dose[4] = dose[4]+dose[0]+dose[3]\n",
    "    res = list(dose[1:3])\n",
    "    res=res+list(dose[4:])\n",
    "    return res"
   ]
  },
  {
   "cell_type": "code",
   "execution_count": 665,
   "id": "e8632912",
   "metadata": {},
   "outputs": [],
   "source": [
    "group_race = hpv_patients[hpv_patients['PatientAge']<15].groupby(['RACE_DESC','Doses']).size().reset_index(name='count')\n",
    "dose1 = np.array(group_race[group_race['Doses']==1]['count'])\n",
    "dose2 = np.array(group_race[group_race['Doses']==2]['count'])\n",
    "dose3 = np.array(group_race[group_race['Doses']==3]['count'])\n",
    "races = np.array(group_race['RACE_DESC'].unique())\n",
    "res = list(races[1:3])+list(races[4:])\n",
    "races = res\n",
    "\n",
    "dose1 = mergeRacetoOthers(dose1)\n",
    "dose2 = mergeRacetoOthers(dose2)\n",
    "dose3 = mergeRacetoOthers(dose3)"
   ]
  },
  {
   "cell_type": "code",
   "execution_count": 666,
   "id": "9853d37b",
   "metadata": {},
   "outputs": [
    {
     "name": "stdout",
     "output_type": "stream",
     "text": [
      "[213, 4466, 6764, 112, 10971, 8856, 24808]\n",
      "[1499, 16803, 21732, 799, 42733, 22072, 101292]\n",
      "[415, 5029, 5189, 11264, 7175, 30460]\n"
     ]
    }
   ],
   "source": [
    "print(dose1)\n",
    "print(dose2)\n",
    "print(dose3)"
   ]
  },
  {
   "cell_type": "code",
   "execution_count": 671,
   "id": "257c603e",
   "metadata": {},
   "outputs": [
    {
     "data": {
      "text/plain": [
       "{'BLACK OR AFRICAN-AMERICAN': array([0.20758043, 0.26224521, 0.30025208, 0.37348018, 0.43763358,\n",
       "        0.45901639, 0.49676885, 0.54142036, 0.53464314, 0.52086677,\n",
       "        0.53120089, 0.53060277]),\n",
       " 'WHITE': array([0.12442088, 0.17260953, 0.19329124, 0.23537515, 0.28587945,\n",
       "        0.32364876, 0.36657542, 0.40983328, 0.40863507, 0.38484342,\n",
       "        0.38202036, 0.38443257]),\n",
       " 'UNKNOWN': array([0.17437406, 0.21813441, 0.24622932, 0.28972163, 0.33069452,\n",
       "        0.36000248, 0.38397319, 0.40843306, 0.38655742, 0.36008188,\n",
       "        0.35154689, 0.3562609 ]),\n",
       " 'OTHER': array([0.23304016, 0.2867952 , 0.33075104, 0.38687125, 0.42924469,\n",
       "        0.46340115, 0.50289017, 0.54140744, 0.53623896, 0.52271089,\n",
       "        0.53399642, 0.54014945]),\n",
       " 'ASIAN': array([0.19780776, 0.25330168, 0.27211848, 0.33584185, 0.38809399,\n",
       "        0.41405384, 0.44943931, 0.48854353, 0.49153908, 0.48774638,\n",
       "        0.49322189, 0.50067024])}"
      ]
     },
     "execution_count": 671,
     "metadata": {},
     "output_type": "execute_result"
    }
   ],
   "source": [
    "races = np.array(hpv_race['race'])\n",
    "\n",
    "def calamountfull(df,years,start,end):\n",
    "    rate = []\n",
    "    for year in years:\n",
    "        lst = list(df[year])\n",
    "        count = 0\n",
    "        for i in range(len(lst)):\n",
    "            if lst[i]:\n",
    "                if lst[i]<=end and lst[i]>=start:\n",
    "                    count += 1\n",
    "#     print(count)\n",
    "        rate.append(count)\n",
    "    return np.array(rate)\n",
    "\n",
    "def RaceCalAmount(df,years,races,start,end):\n",
    "    race_val = {}\n",
    "    for race in races:\n",
    "        tmp_df = df[df['RACE_DESC']==race]\n",
    "        amount = calamountfull(tmp_df,years,start,end)\n",
    "        race_val[race] = np.array(amount)\n",
    "    return race_val\n",
    "\n",
    "hpv_amount = RaceCalAmount(df_age_hpv,years,races,9,13)\n",
    "total_amount = RaceCalAmount(df_age_total,years,races,9,13)\n",
    "\n",
    "hpv_amount['OTHER'] = hpv_amount['OTHER']+hpv_amount['AMERICAN INDIAN OR ALASKA NATIVE']+hpv_amount['NATIVE HAWAIIAN OR OTHER PACIFIC']\n",
    "total_amount['OTHER'] = total_amount['OTHER']+total_amount['AMERICAN INDIAN OR ALASKA NATIVE']+hpv_amount['NATIVE HAWAIIAN OR OTHER PACIFIC']\n",
    "\n",
    "rate = {}\n",
    "for race in races[:5]:\n",
    "    rate[race]=hpv_amount[race]/total_amount[race]\n",
    "rate"
   ]
  },
  {
   "cell_type": "code",
   "execution_count": 672,
   "id": "44083c69",
   "metadata": {},
   "outputs": [],
   "source": [
    "Race_rate = {}\n",
    "Race_rate['BLACK']=rate['BLACK OR AFRICAN-AMERICAN']\n",
    "Race_rate['WHITE']=rate['WHITE']\n",
    "Race_rate['ASIAN']=rate['ASIAN']"
   ]
  },
  {
   "cell_type": "code",
   "execution_count": null,
   "id": "93c240c6",
   "metadata": {},
   "outputs": [],
   "source": [
    "#Hispanic and Non-Hispanic data"
   ]
  },
  {
   "cell_type": "code",
   "execution_count": 673,
   "id": "4125d43e",
   "metadata": {},
   "outputs": [],
   "source": [
    "def ethicCalAmount(df,years,ethics,start,end):\n",
    "    ethics_val = {}\n",
    "    for ethic in ethics:\n",
    "        tmp_df = df[df['ETHNICITY_DESC']==ethic]\n",
    "        amount = calamountfull(tmp_df,years,start,end)\n",
    "        ethics_val[ethic] = np.array(amount)\n",
    "    return ethics_val\n"
   ]
  },
  {
   "cell_type": "code",
   "execution_count": 674,
   "id": "1917fd40",
   "metadata": {},
   "outputs": [],
   "source": [
    "ethics = np.array(hpv_patients['ETHNICITY_DESC'].unique())\n",
    "hpv_amount = ethicCalAmount(df_age_hpv,years,ethics,9,13)\n",
    "total_amount = ethicCalAmount(df_age_total,years,ethics,9,13)"
   ]
  },
  {
   "cell_type": "code",
   "execution_count": 675,
   "id": "e6d20e4f",
   "metadata": {},
   "outputs": [
    {
     "data": {
      "text/plain": [
       "{'NOT HISPANIC OR LATINO': array([0.12543454, 0.17311348, 0.18951442, 0.23223954, 0.2791621 ,\n",
       "        0.31234061, 0.35365208, 0.39420663, 0.39396741, 0.37027971,\n",
       "        0.3699005 , 0.36997767]),\n",
       " 'UNKNOWN': array([0.16250454, 0.20250692, 0.22503366, 0.25928412, 0.28684898,\n",
       "        0.31243061, 0.3321569 , 0.36168559, 0.33932859, 0.31386631,\n",
       "        0.3081415 , 0.31126497]),\n",
       " 'HISPANIC OR LATINO': array([0.28500992, 0.34118913, 0.39881153, 0.47297348, 0.53904979,\n",
       "        0.581859  , 0.62548714, 0.6661467 , 0.66453945, 0.65648705,\n",
       "        0.662183  , 0.66855077])}"
      ]
     },
     "execution_count": 675,
     "metadata": {},
     "output_type": "execute_result"
    }
   ],
   "source": [
    "rate = {}\n",
    "for ethic in ethics[:5]:\n",
    "    rate[ethic]=hpv_amount[ethic]/total_amount[ethic]\n",
    "rate"
   ]
  },
  {
   "cell_type": "code",
   "execution_count": 676,
   "id": "d218125f",
   "metadata": {},
   "outputs": [],
   "source": [
    "Race_rate['HISPANIC'] = rate['HISPANIC OR LATINO']\n",
    "Race_rate['NON-HISPANIC']=rate['NOT HISPANIC OR LATINO']"
   ]
  },
  {
   "cell_type": "code",
   "execution_count": 681,
   "id": "954205e5",
   "metadata": {},
   "outputs": [
    {
     "data": {
      "image/png": "[encoded data removed]",
      "text/plain": [
       "<Figure size 400x300 with 1 Axes>"
      ]
     },
     "metadata": {},
     "output_type": "display_data"
    }
   ],
   "source": [
    "plt.figure(figsize=(4, 3))\n",
    "# blue_pink_plate = ['#4e8bc4','#96cbfc','#c2e1fc','#ffc2d9','#ff99be']\n",
    "colors = ['C1','C2','C3','C4','C5']\n",
    "i=0\n",
    "for k,v in Race_rate.items():\n",
    "    plt.plot(years,v,'o-',color=colors[i],label = k )\n",
    "    i+=1\n",
    "    \n",
    "plt.xlabel('Years')\n",
    "plt.ylabel('Rate')\n",
    "# plt.title('HPV Vaccination Rate Changed by Races (Age 9-13)')\n",
    "\n",
    "plt.xticks(years,rotation = 35)\n",
    "plt.legend(loc='best',prop={'size':9})\n",
    "\n",
    "plt.tight_layout()\n",
    "plt.grid(True,linestyle='--', color='gray', linewidth=0.5, alpha=0.5)\n",
    "plt.savefig('../Manuscript Materials/AJPM/Figures/FigureB/Race.jpg')\n",
    "\n",
    "plt.show()"
   ]
  },
  {
   "cell_type": "markdown",
   "id": "113d1693",
   "metadata": {},
   "source": [
    "## Figure A： Age Distribution"
   ]
  },
  {
   "cell_type": "code",
   "execution_count": 620,
   "id": "8fdb9cca",
   "metadata": {},
   "outputs": [
    {
     "data": {
      "image/png": "[encoded data removed]",
      "text/plain": [
       "<Figure size 400x300 with 1 Axes>"
      ]
     },
     "metadata": {},
     "output_type": "display_data"
    }
   ],
   "source": [
    "# demographic: age\n",
    "\n",
    "# Sample data\n",
    "x_pos = np.arange(3,29,2)\n",
    "x = np.arange(0,30)\n",
    "data = np.array(hpv_patients['PatientAge'])\n",
    "\n",
    "# Plot histogram\n",
    "plt.figure(figsize=(4, 3))\n",
    "plt.hist(data,bins=20,alpha = 0.5,align = 'right',label='Male',edgecolor='C2',color='w',hatch='oo')\n",
    "\n",
    "# Add labels and title\n",
    "plt.xlabel('Initialize Vaccination Age')\n",
    "plt.ylabel('Populations')\n",
    "plt.xticks(x_pos, x_pos)\n",
    "# plt.title('All patients initialized the HPV vaccination')\n",
    "# plt.grid(which='major',linestyle='-', color='gray', linewidth=1, alpha=0.5)\n",
    "# ax.minorticks_on()\n",
    "# plt.grid(which='minor',linestyle='--', color='gray', linewidth=0.5, alpha=0.5)\n",
    "plt.grid(True,linestyle='--', color='gray', linewidth=0.5, alpha=0.5)\n",
    "plt.tight_layout()\n",
    "plt.savefig('../Manuscript Materials/AJPM/Figures/FigureA/Overall.jpg')\n",
    "# Show plot\n",
    "plt.show()"
   ]
  },
  {
   "cell_type": "code",
   "execution_count": 621,
   "id": "53c6e4f1",
   "metadata": {},
   "outputs": [
    {
     "data": {
      "image/png": "[encoded data removed]",
      "text/plain": [
       "<Figure size 400x300 with 1 Axes>"
      ]
     },
     "metadata": {},
     "output_type": "display_data"
    }
   ],
   "source": [
    "# demographic: age and gender\n",
    "\n",
    "hpv_patients_male = hpv_patients[hpv_patients['GENDER']=='M']\n",
    "hpv_patients_female = hpv_patients[hpv_patients['GENDER']=='F']\n",
    "\n",
    "# Sample data\n",
    "x_pos = np.arange(3,29,2)\n",
    "x = np.arange(0,30)\n",
    "data = np.array(hpv_patients_male['PatientAge'])\n",
    "data1 = np.array(hpv_patients_female['PatientAge'])\n",
    "\n",
    "# Plot histogram\n",
    "plt.figure(figsize=(4, 3))\n",
    "plt.hist(data, bins=20,alpha = 0.5,align = 'right',label='Male',edgecolor='C1',color='w',hatch='\\\\\\\\\\\\')\n",
    "# plt.hist(data1, bins=10,alpha = 0.5,label='Female',edgecolor='C2',color='w',hatch='/////')\n",
    "\n",
    "# Add labels and title\n",
    "plt.xlabel('Initialize Vaccination Age')\n",
    "plt.ylabel('Populations')\n",
    "plt.xticks(x_pos, x_pos)\n",
    "plt.legend()\n",
    "plt.tight_layout()\n",
    "# plt.title('Age distribution of all HPV patients')\n",
    "plt.grid(True,linestyle='--', color='gray', linewidth=0.5, alpha=0.5)\n",
    "plt.savefig('../Manuscript Materials/AJPM/Figures/FigureA/Male.jpg')\n",
    "\n",
    "# Show plot\n",
    "plt.show()"
   ]
  },
  {
   "cell_type": "code",
   "execution_count": 623,
   "id": "8776703b",
   "metadata": {},
   "outputs": [
    {
     "data": {
      "image/png": "[encoded data removed]",
      "text/plain": [
       "<Figure size 400x300 with 1 Axes>"
      ]
     },
     "metadata": {},
     "output_type": "display_data"
    }
   ],
   "source": [
    "# demographic: age and gender\n",
    "\n",
    "hpv_patients_male = hpv_patients[hpv_patients['GENDER']=='M']\n",
    "hpv_patients_female = hpv_patients[hpv_patients['GENDER']=='F']\n",
    "\n",
    "# Sample data\n",
    "x_pos = np.arange(3,29,2)\n",
    "x = np.arange(0,30)\n",
    "data = np.array(hpv_patients_male['PatientAge'])\n",
    "data1 = np.array(hpv_patients_female['PatientAge'])\n",
    "\n",
    "# Plot histogram\n",
    "plt.figure(figsize=(4, 3))\n",
    "# plt.hist(data, bins=10,alpha = 0.5,label='Male',edgecolor='C1',color='w',hatch='\\\\\\\\\\\\')\n",
    "plt.hist(data1, bins=20,alpha = 0.5,align = 'right',label='Female',edgecolor='C2',color='w',hatch='/////')\n",
    "\n",
    "# Add labels and title\n",
    "plt.xlabel('Initialize Vaccination Age')\n",
    "plt.ylabel('Populations')\n",
    "plt.xticks(x_pos, x_pos)\n",
    "plt.legend()\n",
    "# plt.title('Age distribution of all HPV patients')\n",
    "plt.grid(True,linestyle='--', color='gray', linewidth=0.5, alpha=0.5)\n",
    "plt.tight_layout()\n",
    "# plt.savefig('/Users/zihanding/Desktop/research/HpvVaccine/AJPM/Figures/Barplot/HPV_Dose_patients_age_gender_dist_f.jpg')\n",
    "# Show plot\n",
    "plt.savefig('../Manuscript Materials/AJPM/Figures/FigureA/Female.jpg')\n",
    "plt.show()"
   ]
  },
  {
   "cell_type": "code",
   "execution_count": 624,
   "id": "fd26d39a",
   "metadata": {},
   "outputs": [
    {
     "data": {
      "image/png": "[encoded data removed]",
      "text/plain": [
       "<Figure size 400x300 with 1 Axes>"
      ]
     },
     "metadata": {},
     "output_type": "display_data"
    }
   ],
   "source": [
    "# demographic: Race and ethntics\n",
    "\n",
    "hpv_patients_male = hpv_patients[hpv_patients['ETHNICITY_DESC']=='NOT HISPANIC OR LATINO']\n",
    "hpv_patients_female = hpv_patients[hpv_patients['ETHNICITY_DESC']=='HISPANIC OR LATINO']\n",
    "\n",
    "# Sample data\n",
    "x_pos = np.arange(3,29,2)\n",
    "x = np.arange(0,30)\n",
    "data = np.array(hpv_patients_male['PatientAge'])\n",
    "data1 = np.array(hpv_patients_female['PatientAge'])\n",
    "\n",
    "# Plot histogram\n",
    "plt.figure(figsize=(4, 3))\n",
    "plt.hist(data, bins=20,alpha = 0.5,align='right',label='Non-Hispanic',edgecolor='C1',color='w',hatch='\\\\\\\\\\\\')\n",
    "# plt.hist(data1, bins=10,alpha = 0.5,label='Hispanic',edgecolor='C2',color='w',hatch='/////')\n",
    "\n",
    "# Add labels and title\n",
    "plt.xlabel('Initialize Vaccination Age')\n",
    "plt.ylabel('Populations')\n",
    "plt.xticks(x_pos, x_pos)\n",
    "plt.legend()\n",
    "# plt.title('Age distribution of all HPV patients')\n",
    "plt.grid(True,linestyle='--', color='gray', linewidth=0.5, alpha=0.5)\n",
    "# plt.savefig('/Users/zihanding/Desktop/research/HpvVaccine/AJPM/Figures/Barplot/HPV_Dose_patients_age_ethnic_dist.jpg')\n",
    "# Show plot\n",
    "plt.tight_layout()\n",
    "plt.savefig('../Manuscript Materials/AJPM/Figures/FigureA/Non-His.jpg')\n",
    "plt.show()"
   ]
  },
  {
   "cell_type": "code",
   "execution_count": 625,
   "id": "21c2efa4",
   "metadata": {},
   "outputs": [
    {
     "data": {
      "image/png": "[encoded data removed]",
      "text/plain": [
       "<Figure size 400x300 with 1 Axes>"
      ]
     },
     "metadata": {},
     "output_type": "display_data"
    }
   ],
   "source": [
    "\n",
    "\n",
    "# demographic: Race and ethntics\n",
    "\n",
    "hpv_patients_male = hpv_patients[hpv_patients['ETHNICITY_DESC']=='NOT HISPANIC OR LATINO']\n",
    "hpv_patients_female = hpv_patients[hpv_patients['ETHNICITY_DESC']=='HISPANIC OR LATINO']\n",
    "\n",
    "# Sample data\n",
    "x_pos = np.arange(3,29,2)\n",
    "x = np.arange(0,30)\n",
    "data = np.array(hpv_patients_male['PatientAge'])\n",
    "data1 = np.array(hpv_patients_female['PatientAge'])\n",
    "\n",
    "# Plot histogram\n",
    "plt.figure(figsize=(4, 3))\n",
    "# plt.hist(data, bins=10,alpha = 0.5,label='Non-Hispanic',edgecolor='C1',color='w',hatch='\\\\\\\\\\\\')\n",
    "plt.hist(data1, bins=20,alpha = 0.5,align='right',label='Hispanic',edgecolor='C2',color='w',hatch='/////')\n",
    "\n",
    "# Add labels and title\n",
    "plt.xlabel('Initialize Vaccination Age')\n",
    "plt.ylabel('Populations')\n",
    "plt.xticks(x_pos, x_pos)\n",
    "plt.legend()\n",
    "# plt.title('Age distribution of all HPV patients')\n",
    "plt.grid(True,linestyle='--', color='gray', linewidth=0.5, alpha=0.5)\n",
    "# plt.savefig('/Users/zihanding/Desktop/research/HpvVaccine/AJPM/Figures/Barplot/HPV_Dose_patients_age_ethnic_dist.jpg')\n",
    "# Show plot\n",
    "plt.tight_layout()\n",
    "plt.savefig('../Manuscript Materials/AJPM/Figures/FigureA/Hispanic.jpg')\n",
    "plt.show()"
   ]
  },
  {
   "cell_type": "code",
   "execution_count": 627,
   "id": "2632788e",
   "metadata": {},
   "outputs": [
    {
     "data": {
      "image/png": "[encoded data removed]",
      "text/plain": [
       "<Figure size 400x300 with 1 Axes>"
      ]
     },
     "metadata": {},
     "output_type": "display_data"
    }
   ],
   "source": [
    "# demographic: age and gender\n",
    "\n",
    "hpv_patients_male = hpv_patients[hpv_patients['RACE_DESC']=='WHITE']\n",
    "hpv_patients_female = hpv_patients[hpv_patients['RACE_DESC']=='BLACK OR AFRICAN-AMERICAN']\n",
    "\n",
    "# Sample data\n",
    "x_pos = np.arange(3,29,2)\n",
    "x = np.arange(0,30)\n",
    "data = np.array(hpv_patients_male['PatientAge'])\n",
    "data1 = np.array(hpv_patients_female['PatientAge'])\n",
    "\n",
    "# Plot histogram\n",
    "plt.figure(figsize=(4, 3))\n",
    "plt.hist(data, bins=20,alpha = 0.5,align='right',label='White',edgecolor='C1',color='w',hatch='\\\\\\\\\\\\')\n",
    "# plt.hist(data1, bins=10,alpha = 0.5,label='Black',edgecolor='C2',color='w',hatch='/////')\n",
    "\n",
    "# Add labels and title\n",
    "plt.xlabel('Initialize Vaccination Age')\n",
    "plt.ylabel('Populations')\n",
    "plt.xticks(x_pos, x_pos)\n",
    "plt.legend()\n",
    "# plt.title('Age distribution of all HPV patients')\n",
    "plt.grid(True,linestyle='--', color='gray', linewidth=0.5, alpha=0.5)\n",
    "# plt.savefig('/Users/zihanding/Desktop/research/HpvVaccine/AJPM/Figures/Barplot/HPV_Dose_patients_age_ethnic_dist.jpg')\n",
    "# Show plot\n",
    "plt.tight_layout()\n",
    "plt.savefig('../Manuscript Materials/AJPM/Figures/FigureA/White.jpg')\n",
    "plt.show()"
   ]
  },
  {
   "cell_type": "code",
   "execution_count": 628,
   "id": "29202956",
   "metadata": {},
   "outputs": [
    {
     "data": {
      "image/png": "[encoded data removed]",
      "text/plain": [
       "<Figure size 400x300 with 1 Axes>"
      ]
     },
     "metadata": {},
     "output_type": "display_data"
    }
   ],
   "source": [
    "# demographic: age and gender\n",
    "\n",
    "hpv_patients_male = hpv_patients[hpv_patients['RACE_DESC']=='WHITE']\n",
    "hpv_patients_female = hpv_patients[hpv_patients['RACE_DESC']=='BLACK OR AFRICAN-AMERICAN']\n",
    "\n",
    "# Sample data\n",
    "x_pos = np.arange(3,29,2)\n",
    "x = np.arange(0,30)\n",
    "data = np.array(hpv_patients_male['PatientAge'])\n",
    "data1 = np.array(hpv_patients_female['PatientAge'])\n",
    "\n",
    "# Plot histogram\n",
    "plt.figure(figsize=(4, 3))\n",
    "# plt.hist(data, bins=10,alpha = 0.5,label='White',edgecolor='C1',color='w',hatch='\\\\\\\\\\\\')\n",
    "plt.hist(data1, bins=20,alpha = 0.5,align='right',label='Black',edgecolor='C2',color='w',hatch='/////')\n",
    "\n",
    "# Add labels and title\n",
    "plt.xlabel('Initialize Vaccination Age')\n",
    "plt.ylabel('Populations')\n",
    "plt.xticks(x_pos, x_pos)\n",
    "plt.legend()\n",
    "# plt.title('Age distribution of all HPV patients')\n",
    "plt.grid(True,linestyle='--', color='gray', linewidth=0.5, alpha=0.5)\n",
    "# plt.savefig('/Users/zihanding/Desktop/research/HpvVaccine/AJPM/Figures/Barplot/HPV_Dose_patients_age_ethnic_dist.jpg')\n",
    "# Show plot\n",
    "plt.tight_layout()\n",
    "plt.savefig('../Manuscript Materials/AJPM/Figures/FigureA/Black.jpg')\n",
    "plt.show()"
   ]
  },
  {
   "cell_type": "code",
   "execution_count": 629,
   "id": "779cea84",
   "metadata": {},
   "outputs": [
    {
     "data": {
      "image/png": "[encoded data removed]",
      "text/plain": [
       "<Figure size 400x300 with 1 Axes>"
      ]
     },
     "metadata": {},
     "output_type": "display_data"
    }
   ],
   "source": [
    "# demographic: age and gender\n",
    "\n",
    "hpv_patients_male = hpv_patients[hpv_patients['RACE_DESC']=='WHITE']\n",
    "hpv_patients_female = hpv_patients[hpv_patients['RACE_DESC']=='ASIAN']\n",
    "\n",
    "# Sample data\n",
    "x_pos = np.arange(3,29,2)\n",
    "x = np.arange(0,30)\n",
    "data = np.array(hpv_patients_male['PatientAge'])\n",
    "data1 = np.array(hpv_patients_female['PatientAge'])\n",
    "\n",
    "# Plot histogram\n",
    "plt.figure(figsize=(4, 3))\n",
    "plt.hist(data, bins=20,alpha = 0.5,align='right',label='Asian',edgecolor='C0',color='w',hatch='oo')\n",
    "# plt.hist(data1, bins=10,alpha = 0.5,label='Black',edgecolor='C2',color='w',hatch='/////')\n",
    "\n",
    "# Add labels and title\n",
    "plt.xlabel('Initialize Vaccination Age')\n",
    "plt.ylabel('Populations')\n",
    "plt.xticks(x_pos, x_pos)\n",
    "plt.legend()\n",
    "# plt.title('Age distribution of all HPV patients')\n",
    "plt.grid(True,linestyle='--', color='gray', linewidth=0.5, alpha=0.5)\n",
    "# plt.savefig('/Users/zihanding/Desktop/research/HpvVaccine/AJPM/Figures/Barplot/HPV_Dose_patients_age_ethnic_dist.jpg')\n",
    "# Show plot\n",
    "plt.tight_layout()\n",
    "plt.savefig('../Manuscript Materials/AJPM/Figures/FigureA/Asian.jpg')\n",
    "plt.show()"
   ]
  },
  {
   "cell_type": "markdown",
   "id": "b252d844",
   "metadata": {},
   "source": [
    "## Table A Data Calculation"
   ]
  },
  {
   "cell_type": "markdown",
   "id": "1aa94fb0",
   "metadata": {},
   "source": [
    " p values are based on logistic regression. For overall, F tests were used for testing overall differences among 7 years. For linear trend, contrast F tests were used to test whether the change over 7 years followed a linear trend.  "
   ]
  },
  {
   "cell_type": "code",
   "execution_count": 110,
   "id": "ce13c4bb",
   "metadata": {},
   "outputs": [],
   "source": [
    "group = hpv_patients.groupby(['vax_year']).size().reset_index(name='count')"
   ]
  },
  {
   "cell_type": "code",
   "execution_count": 111,
   "id": "49de781f",
   "metadata": {
    "scrolled": true
   },
   "outputs": [
    {
     "data": {
      "text/html": [
       "<div>\n",
       "<style scoped>\n",
       "    .dataframe tbody tr th:only-of-type {\n",
       "        vertical-align: middle;\n",
       "    }\n",
       "\n",
       "    .dataframe tbody tr th {\n",
       "        vertical-align: top;\n",
       "    }\n",
       "\n",
       "    .dataframe thead th {\n",
       "        text-align: right;\n",
       "    }\n",
       "</style>\n",
       "<table border=\"1\" class=\"dataframe\">\n",
       "  <thead>\n",
       "    <tr style=\"text-align: right;\">\n",
       "      <th></th>\n",
       "      <th>vax_year</th>\n",
       "      <th>count</th>\n",
       "    </tr>\n",
       "  </thead>\n",
       "  <tbody>\n",
       "    <tr>\n",
       "      <th>0</th>\n",
       "      <td>2008</td>\n",
       "      <td>16856</td>\n",
       "    </tr>\n",
       "    <tr>\n",
       "      <th>1</th>\n",
       "      <td>2009</td>\n",
       "      <td>8650</td>\n",
       "    </tr>\n",
       "    <tr>\n",
       "      <th>2</th>\n",
       "      <td>2010</td>\n",
       "      <td>10849</td>\n",
       "    </tr>\n",
       "    <tr>\n",
       "      <th>3</th>\n",
       "      <td>2011</td>\n",
       "      <td>15346</td>\n",
       "    </tr>\n",
       "    <tr>\n",
       "      <th>4</th>\n",
       "      <td>2012</td>\n",
       "      <td>24253</td>\n",
       "    </tr>\n",
       "    <tr>\n",
       "      <th>5</th>\n",
       "      <td>2013</td>\n",
       "      <td>33586</td>\n",
       "    </tr>\n",
       "    <tr>\n",
       "      <th>6</th>\n",
       "      <td>2014</td>\n",
       "      <td>34268</td>\n",
       "    </tr>\n",
       "    <tr>\n",
       "      <th>7</th>\n",
       "      <td>2015</td>\n",
       "      <td>39943</td>\n",
       "    </tr>\n",
       "    <tr>\n",
       "      <th>8</th>\n",
       "      <td>2016</td>\n",
       "      <td>43553</td>\n",
       "    </tr>\n",
       "    <tr>\n",
       "      <th>9</th>\n",
       "      <td>2017</td>\n",
       "      <td>40964</td>\n",
       "    </tr>\n",
       "    <tr>\n",
       "      <th>10</th>\n",
       "      <td>2018</td>\n",
       "      <td>41804</td>\n",
       "    </tr>\n",
       "    <tr>\n",
       "      <th>11</th>\n",
       "      <td>2019</td>\n",
       "      <td>41267</td>\n",
       "    </tr>\n",
       "    <tr>\n",
       "      <th>12</th>\n",
       "      <td>2020</td>\n",
       "      <td>30659</td>\n",
       "    </tr>\n",
       "    <tr>\n",
       "      <th>13</th>\n",
       "      <td>2021</td>\n",
       "      <td>28775</td>\n",
       "    </tr>\n",
       "    <tr>\n",
       "      <th>14</th>\n",
       "      <td>2022</td>\n",
       "      <td>32348</td>\n",
       "    </tr>\n",
       "    <tr>\n",
       "      <th>15</th>\n",
       "      <td>2023</td>\n",
       "      <td>30874</td>\n",
       "    </tr>\n",
       "  </tbody>\n",
       "</table>\n",
       "</div>"
      ],
      "text/plain": [
       "    vax_year  count\n",
       "0       2008  16856\n",
       "1       2009   8650\n",
       "2       2010  10849\n",
       "3       2011  15346\n",
       "4       2012  24253\n",
       "5       2013  33586\n",
       "6       2014  34268\n",
       "7       2015  39943\n",
       "8       2016  43553\n",
       "9       2017  40964\n",
       "10      2018  41804\n",
       "11      2019  41267\n",
       "12      2020  30659\n",
       "13      2021  28775\n",
       "14      2022  32348\n",
       "15      2023  30874"
      ]
     },
     "execution_count": 111,
     "metadata": {},
     "output_type": "execute_result"
    }
   ],
   "source": [
    "group"
   ]
  },
  {
   "cell_type": "code",
   "execution_count": 113,
   "id": "4f7c655a",
   "metadata": {},
   "outputs": [
    {
     "data": {
      "text/plain": [
       "True"
      ]
     },
     "execution_count": 113,
     "metadata": {},
     "output_type": "execute_result"
    }
   ],
   "source": [
    "sum(group['count'])==len(hpv_patients)"
   ]
  },
  {
   "cell_type": "code",
   "execution_count": 122,
   "id": "cd8d865e",
   "metadata": {},
   "outputs": [],
   "source": [
    "def calyearnumber(lst):\n",
    "    s = 0\n",
    "    res = []\n",
    "    for i in range(len(lst)):\n",
    "        s+= lst[i]\n",
    "        res.append(s)\n",
    "    return res\n"
   ]
  },
  {
   "cell_type": "code",
   "execution_count": 123,
   "id": "60150dc3",
   "metadata": {},
   "outputs": [
    {
     "name": "stdout",
     "output_type": "stream",
     "text": [
      "the total number of patients in each year is : [16856, 25506, 36355, 51701, 75954, 109540, 143808, 183751, 227304, 268268, 310072, 351339, 381998, 410773, 443121, 473995]\n"
     ]
    }
   ],
   "source": [
    "print('the total number of patients in each year is :',calyearnumber(list(group['count'])))"
   ]
  },
  {
   "cell_type": "code",
   "execution_count": 125,
   "id": "29a2f1c7",
   "metadata": {
    "scrolled": true
   },
   "outputs": [
    {
     "data": {
      "text/html": [
       "<div>\n",
       "<style scoped>\n",
       "    .dataframe tbody tr th:only-of-type {\n",
       "        vertical-align: middle;\n",
       "    }\n",
       "\n",
       "    .dataframe tbody tr th {\n",
       "        vertical-align: top;\n",
       "    }\n",
       "\n",
       "    .dataframe thead th {\n",
       "        text-align: right;\n",
       "    }\n",
       "</style>\n",
       "<table border=\"1\" class=\"dataframe\">\n",
       "  <thead>\n",
       "    <tr style=\"text-align: right;\">\n",
       "      <th></th>\n",
       "      <th>GENDER</th>\n",
       "      <th>vax_year</th>\n",
       "      <th>count</th>\n",
       "    </tr>\n",
       "  </thead>\n",
       "  <tbody>\n",
       "    <tr>\n",
       "      <th>0</th>\n",
       "      <td>F</td>\n",
       "      <td>2008</td>\n",
       "      <td>16684</td>\n",
       "    </tr>\n",
       "    <tr>\n",
       "      <th>1</th>\n",
       "      <td>F</td>\n",
       "      <td>2009</td>\n",
       "      <td>8534</td>\n",
       "    </tr>\n",
       "    <tr>\n",
       "      <th>2</th>\n",
       "      <td>F</td>\n",
       "      <td>2010</td>\n",
       "      <td>8351</td>\n",
       "    </tr>\n",
       "    <tr>\n",
       "      <th>3</th>\n",
       "      <td>F</td>\n",
       "      <td>2011</td>\n",
       "      <td>10164</td>\n",
       "    </tr>\n",
       "    <tr>\n",
       "      <th>4</th>\n",
       "      <td>F</td>\n",
       "      <td>2012</td>\n",
       "      <td>11488</td>\n",
       "    </tr>\n",
       "    <tr>\n",
       "      <th>5</th>\n",
       "      <td>F</td>\n",
       "      <td>2013</td>\n",
       "      <td>15602</td>\n",
       "    </tr>\n",
       "    <tr>\n",
       "      <th>6</th>\n",
       "      <td>F</td>\n",
       "      <td>2014</td>\n",
       "      <td>15979</td>\n",
       "    </tr>\n",
       "    <tr>\n",
       "      <th>7</th>\n",
       "      <td>F</td>\n",
       "      <td>2015</td>\n",
       "      <td>19233</td>\n",
       "    </tr>\n",
       "    <tr>\n",
       "      <th>8</th>\n",
       "      <td>F</td>\n",
       "      <td>2016</td>\n",
       "      <td>20923</td>\n",
       "    </tr>\n",
       "    <tr>\n",
       "      <th>9</th>\n",
       "      <td>F</td>\n",
       "      <td>2017</td>\n",
       "      <td>19915</td>\n",
       "    </tr>\n",
       "    <tr>\n",
       "      <th>10</th>\n",
       "      <td>F</td>\n",
       "      <td>2018</td>\n",
       "      <td>20075</td>\n",
       "    </tr>\n",
       "    <tr>\n",
       "      <th>11</th>\n",
       "      <td>F</td>\n",
       "      <td>2019</td>\n",
       "      <td>20096</td>\n",
       "    </tr>\n",
       "    <tr>\n",
       "      <th>12</th>\n",
       "      <td>F</td>\n",
       "      <td>2020</td>\n",
       "      <td>15295</td>\n",
       "    </tr>\n",
       "    <tr>\n",
       "      <th>13</th>\n",
       "      <td>F</td>\n",
       "      <td>2021</td>\n",
       "      <td>14325</td>\n",
       "    </tr>\n",
       "    <tr>\n",
       "      <th>14</th>\n",
       "      <td>F</td>\n",
       "      <td>2022</td>\n",
       "      <td>16195</td>\n",
       "    </tr>\n",
       "    <tr>\n",
       "      <th>15</th>\n",
       "      <td>F</td>\n",
       "      <td>2023</td>\n",
       "      <td>15475</td>\n",
       "    </tr>\n",
       "    <tr>\n",
       "      <th>16</th>\n",
       "      <td>M</td>\n",
       "      <td>2008</td>\n",
       "      <td>122</td>\n",
       "    </tr>\n",
       "    <tr>\n",
       "      <th>17</th>\n",
       "      <td>M</td>\n",
       "      <td>2009</td>\n",
       "      <td>101</td>\n",
       "    </tr>\n",
       "    <tr>\n",
       "      <th>18</th>\n",
       "      <td>M</td>\n",
       "      <td>2010</td>\n",
       "      <td>2470</td>\n",
       "    </tr>\n",
       "    <tr>\n",
       "      <th>19</th>\n",
       "      <td>M</td>\n",
       "      <td>2011</td>\n",
       "      <td>5156</td>\n",
       "    </tr>\n",
       "    <tr>\n",
       "      <th>20</th>\n",
       "      <td>M</td>\n",
       "      <td>2012</td>\n",
       "      <td>12725</td>\n",
       "    </tr>\n",
       "    <tr>\n",
       "      <th>21</th>\n",
       "      <td>M</td>\n",
       "      <td>2013</td>\n",
       "      <td>17919</td>\n",
       "    </tr>\n",
       "    <tr>\n",
       "      <th>22</th>\n",
       "      <td>M</td>\n",
       "      <td>2014</td>\n",
       "      <td>18218</td>\n",
       "    </tr>\n",
       "    <tr>\n",
       "      <th>23</th>\n",
       "      <td>M</td>\n",
       "      <td>2015</td>\n",
       "      <td>20656</td>\n",
       "    </tr>\n",
       "    <tr>\n",
       "      <th>24</th>\n",
       "      <td>M</td>\n",
       "      <td>2016</td>\n",
       "      <td>22579</td>\n",
       "    </tr>\n",
       "    <tr>\n",
       "      <th>25</th>\n",
       "      <td>M</td>\n",
       "      <td>2017</td>\n",
       "      <td>21005</td>\n",
       "    </tr>\n",
       "    <tr>\n",
       "      <th>26</th>\n",
       "      <td>M</td>\n",
       "      <td>2018</td>\n",
       "      <td>21699</td>\n",
       "    </tr>\n",
       "    <tr>\n",
       "      <th>27</th>\n",
       "      <td>M</td>\n",
       "      <td>2019</td>\n",
       "      <td>21138</td>\n",
       "    </tr>\n",
       "    <tr>\n",
       "      <th>28</th>\n",
       "      <td>M</td>\n",
       "      <td>2020</td>\n",
       "      <td>15347</td>\n",
       "    </tr>\n",
       "    <tr>\n",
       "      <th>29</th>\n",
       "      <td>M</td>\n",
       "      <td>2021</td>\n",
       "      <td>14420</td>\n",
       "    </tr>\n",
       "    <tr>\n",
       "      <th>30</th>\n",
       "      <td>M</td>\n",
       "      <td>2022</td>\n",
       "      <td>16099</td>\n",
       "    </tr>\n",
       "    <tr>\n",
       "      <th>31</th>\n",
       "      <td>M</td>\n",
       "      <td>2023</td>\n",
       "      <td>15353</td>\n",
       "    </tr>\n",
       "    <tr>\n",
       "      <th>32</th>\n",
       "      <td>O</td>\n",
       "      <td>2023</td>\n",
       "      <td>1</td>\n",
       "    </tr>\n",
       "    <tr>\n",
       "      <th>33</th>\n",
       "      <td>U</td>\n",
       "      <td>2008</td>\n",
       "      <td>50</td>\n",
       "    </tr>\n",
       "    <tr>\n",
       "      <th>34</th>\n",
       "      <td>U</td>\n",
       "      <td>2009</td>\n",
       "      <td>15</td>\n",
       "    </tr>\n",
       "    <tr>\n",
       "      <th>35</th>\n",
       "      <td>U</td>\n",
       "      <td>2010</td>\n",
       "      <td>28</td>\n",
       "    </tr>\n",
       "    <tr>\n",
       "      <th>36</th>\n",
       "      <td>U</td>\n",
       "      <td>2011</td>\n",
       "      <td>26</td>\n",
       "    </tr>\n",
       "    <tr>\n",
       "      <th>37</th>\n",
       "      <td>U</td>\n",
       "      <td>2012</td>\n",
       "      <td>40</td>\n",
       "    </tr>\n",
       "    <tr>\n",
       "      <th>38</th>\n",
       "      <td>U</td>\n",
       "      <td>2013</td>\n",
       "      <td>65</td>\n",
       "    </tr>\n",
       "    <tr>\n",
       "      <th>39</th>\n",
       "      <td>U</td>\n",
       "      <td>2014</td>\n",
       "      <td>71</td>\n",
       "    </tr>\n",
       "    <tr>\n",
       "      <th>40</th>\n",
       "      <td>U</td>\n",
       "      <td>2015</td>\n",
       "      <td>54</td>\n",
       "    </tr>\n",
       "    <tr>\n",
       "      <th>41</th>\n",
       "      <td>U</td>\n",
       "      <td>2016</td>\n",
       "      <td>51</td>\n",
       "    </tr>\n",
       "    <tr>\n",
       "      <th>42</th>\n",
       "      <td>U</td>\n",
       "      <td>2017</td>\n",
       "      <td>44</td>\n",
       "    </tr>\n",
       "    <tr>\n",
       "      <th>43</th>\n",
       "      <td>U</td>\n",
       "      <td>2018</td>\n",
       "      <td>30</td>\n",
       "    </tr>\n",
       "    <tr>\n",
       "      <th>44</th>\n",
       "      <td>U</td>\n",
       "      <td>2019</td>\n",
       "      <td>33</td>\n",
       "    </tr>\n",
       "    <tr>\n",
       "      <th>45</th>\n",
       "      <td>U</td>\n",
       "      <td>2020</td>\n",
       "      <td>17</td>\n",
       "    </tr>\n",
       "    <tr>\n",
       "      <th>46</th>\n",
       "      <td>U</td>\n",
       "      <td>2021</td>\n",
       "      <td>30</td>\n",
       "    </tr>\n",
       "    <tr>\n",
       "      <th>47</th>\n",
       "      <td>U</td>\n",
       "      <td>2022</td>\n",
       "      <td>54</td>\n",
       "    </tr>\n",
       "    <tr>\n",
       "      <th>48</th>\n",
       "      <td>U</td>\n",
       "      <td>2023</td>\n",
       "      <td>45</td>\n",
       "    </tr>\n",
       "  </tbody>\n",
       "</table>\n",
       "</div>"
      ],
      "text/plain": [
       "   GENDER  vax_year  count\n",
       "0       F      2008  16684\n",
       "1       F      2009   8534\n",
       "2       F      2010   8351\n",
       "3       F      2011  10164\n",
       "4       F      2012  11488\n",
       "5       F      2013  15602\n",
       "6       F      2014  15979\n",
       "7       F      2015  19233\n",
       "8       F      2016  20923\n",
       "9       F      2017  19915\n",
       "10      F      2018  20075\n",
       "11      F      2019  20096\n",
       "12      F      2020  15295\n",
       "13      F      2021  14325\n",
       "14      F      2022  16195\n",
       "15      F      2023  15475\n",
       "16      M      2008    122\n",
       "17      M      2009    101\n",
       "18      M      2010   2470\n",
       "19      M      2011   5156\n",
       "20      M      2012  12725\n",
       "21      M      2013  17919\n",
       "22      M      2014  18218\n",
       "23      M      2015  20656\n",
       "24      M      2016  22579\n",
       "25      M      2017  21005\n",
       "26      M      2018  21699\n",
       "27      M      2019  21138\n",
       "28      M      2020  15347\n",
       "29      M      2021  14420\n",
       "30      M      2022  16099\n",
       "31      M      2023  15353\n",
       "32      O      2023      1\n",
       "33      U      2008     50\n",
       "34      U      2009     15\n",
       "35      U      2010     28\n",
       "36      U      2011     26\n",
       "37      U      2012     40\n",
       "38      U      2013     65\n",
       "39      U      2014     71\n",
       "40      U      2015     54\n",
       "41      U      2016     51\n",
       "42      U      2017     44\n",
       "43      U      2018     30\n",
       "44      U      2019     33\n",
       "45      U      2020     17\n",
       "46      U      2021     30\n",
       "47      U      2022     54\n",
       "48      U      2023     45"
      ]
     },
     "execution_count": 125,
     "metadata": {},
     "output_type": "execute_result"
    }
   ],
   "source": [
    "group = hpv_patients.groupby(['GENDER','vax_year']).size().reset_index(name='count')"
   ]
  },
  {
   "cell_type": "code",
   "execution_count": 128,
   "id": "b1edd685",
   "metadata": {},
   "outputs": [
    {
     "name": "stdout",
     "output_type": "stream",
     "text": [
      "the total number of female patients in each year is : [16684, 25218, 33569, 43733, 55221, 70823, 86802, 106035, 126958, 146873, 166948, 187044, 202339, 216664, 232859, 248334]\n"
     ]
    }
   ],
   "source": [
    "print('the total number of female patients in each year is :',calyearnumber(list(group['count'])[0:16]))"
   ]
  },
  {
   "cell_type": "code",
   "execution_count": 130,
   "id": "a2b91ade",
   "metadata": {},
   "outputs": [
    {
     "name": "stdout",
     "output_type": "stream",
     "text": [
      "the total number of male patients in each year is : [122, 223, 2693, 7849, 20574, 38493, 56711, 77367, 99946, 120951, 142650, 163788, 179135, 193555, 209654, 225007]\n"
     ]
    }
   ],
   "source": [
    "print('the total number of male patients in each year is :',calyearnumber(list(group['count'])[16:32]))"
   ]
  },
  {
   "cell_type": "code",
   "execution_count": 137,
   "id": "9b86bd2c",
   "metadata": {},
   "outputs": [],
   "source": [
    "group = hpv_patients.groupby(['ETHNICITY_DESC','vax_year']).size().reset_index(name='count')"
   ]
  },
  {
   "cell_type": "code",
   "execution_count": 133,
   "id": "ee285b84",
   "metadata": {
    "scrolled": true
   },
   "outputs": [
    {
     "data": {
      "text/html": [
       "<div>\n",
       "<style scoped>\n",
       "    .dataframe tbody tr th:only-of-type {\n",
       "        vertical-align: middle;\n",
       "    }\n",
       "\n",
       "    .dataframe tbody tr th {\n",
       "        vertical-align: top;\n",
       "    }\n",
       "\n",
       "    .dataframe thead th {\n",
       "        text-align: right;\n",
       "    }\n",
       "</style>\n",
       "<table border=\"1\" class=\"dataframe\">\n",
       "  <thead>\n",
       "    <tr style=\"text-align: right;\">\n",
       "      <th></th>\n",
       "      <th>ETHNICITY_DESC</th>\n",
       "      <th>vax_year</th>\n",
       "      <th>count</th>\n",
       "    </tr>\n",
       "  </thead>\n",
       "  <tbody>\n",
       "    <tr>\n",
       "      <th>0</th>\n",
       "      <td>HISPANIC OR LATINO</td>\n",
       "      <td>2008</td>\n",
       "      <td>2468</td>\n",
       "    </tr>\n",
       "    <tr>\n",
       "      <th>1</th>\n",
       "      <td>HISPANIC OR LATINO</td>\n",
       "      <td>2009</td>\n",
       "      <td>1609</td>\n",
       "    </tr>\n",
       "    <tr>\n",
       "      <th>2</th>\n",
       "      <td>HISPANIC OR LATINO</td>\n",
       "      <td>2010</td>\n",
       "      <td>2336</td>\n",
       "    </tr>\n",
       "    <tr>\n",
       "      <th>3</th>\n",
       "      <td>HISPANIC OR LATINO</td>\n",
       "      <td>2011</td>\n",
       "      <td>3411</td>\n",
       "    </tr>\n",
       "    <tr>\n",
       "      <th>4</th>\n",
       "      <td>HISPANIC OR LATINO</td>\n",
       "      <td>2012</td>\n",
       "      <td>4505</td>\n",
       "    </tr>\n",
       "    <tr>\n",
       "      <th>5</th>\n",
       "      <td>HISPANIC OR LATINO</td>\n",
       "      <td>2013</td>\n",
       "      <td>6714</td>\n",
       "    </tr>\n",
       "    <tr>\n",
       "      <th>6</th>\n",
       "      <td>HISPANIC OR LATINO</td>\n",
       "      <td>2014</td>\n",
       "      <td>8588</td>\n",
       "    </tr>\n",
       "    <tr>\n",
       "      <th>7</th>\n",
       "      <td>HISPANIC OR LATINO</td>\n",
       "      <td>2015</td>\n",
       "      <td>10215</td>\n",
       "    </tr>\n",
       "    <tr>\n",
       "      <th>8</th>\n",
       "      <td>HISPANIC OR LATINO</td>\n",
       "      <td>2016</td>\n",
       "      <td>11748</td>\n",
       "    </tr>\n",
       "    <tr>\n",
       "      <th>9</th>\n",
       "      <td>HISPANIC OR LATINO</td>\n",
       "      <td>2017</td>\n",
       "      <td>10261</td>\n",
       "    </tr>\n",
       "    <tr>\n",
       "      <th>10</th>\n",
       "      <td>HISPANIC OR LATINO</td>\n",
       "      <td>2018</td>\n",
       "      <td>10713</td>\n",
       "    </tr>\n",
       "    <tr>\n",
       "      <th>11</th>\n",
       "      <td>HISPANIC OR LATINO</td>\n",
       "      <td>2019</td>\n",
       "      <td>11694</td>\n",
       "    </tr>\n",
       "    <tr>\n",
       "      <th>12</th>\n",
       "      <td>HISPANIC OR LATINO</td>\n",
       "      <td>2020</td>\n",
       "      <td>8131</td>\n",
       "    </tr>\n",
       "    <tr>\n",
       "      <th>13</th>\n",
       "      <td>HISPANIC OR LATINO</td>\n",
       "      <td>2021</td>\n",
       "      <td>9218</td>\n",
       "    </tr>\n",
       "    <tr>\n",
       "      <th>14</th>\n",
       "      <td>HISPANIC OR LATINO</td>\n",
       "      <td>2022</td>\n",
       "      <td>10544</td>\n",
       "    </tr>\n",
       "    <tr>\n",
       "      <th>15</th>\n",
       "      <td>HISPANIC OR LATINO</td>\n",
       "      <td>2023</td>\n",
       "      <td>10037</td>\n",
       "    </tr>\n",
       "    <tr>\n",
       "      <th>16</th>\n",
       "      <td>NOT HISPANIC OR LATINO</td>\n",
       "      <td>2008</td>\n",
       "      <td>7891</td>\n",
       "    </tr>\n",
       "    <tr>\n",
       "      <th>17</th>\n",
       "      <td>NOT HISPANIC OR LATINO</td>\n",
       "      <td>2009</td>\n",
       "      <td>4062</td>\n",
       "    </tr>\n",
       "    <tr>\n",
       "      <th>18</th>\n",
       "      <td>NOT HISPANIC OR LATINO</td>\n",
       "      <td>2010</td>\n",
       "      <td>5034</td>\n",
       "    </tr>\n",
       "    <tr>\n",
       "      <th>19</th>\n",
       "      <td>NOT HISPANIC OR LATINO</td>\n",
       "      <td>2011</td>\n",
       "      <td>7723</td>\n",
       "    </tr>\n",
       "    <tr>\n",
       "      <th>20</th>\n",
       "      <td>NOT HISPANIC OR LATINO</td>\n",
       "      <td>2012</td>\n",
       "      <td>13888</td>\n",
       "    </tr>\n",
       "    <tr>\n",
       "      <th>21</th>\n",
       "      <td>NOT HISPANIC OR LATINO</td>\n",
       "      <td>2013</td>\n",
       "      <td>19917</td>\n",
       "    </tr>\n",
       "    <tr>\n",
       "      <th>22</th>\n",
       "      <td>NOT HISPANIC OR LATINO</td>\n",
       "      <td>2014</td>\n",
       "      <td>19511</td>\n",
       "    </tr>\n",
       "    <tr>\n",
       "      <th>23</th>\n",
       "      <td>NOT HISPANIC OR LATINO</td>\n",
       "      <td>2015</td>\n",
       "      <td>23706</td>\n",
       "    </tr>\n",
       "    <tr>\n",
       "      <th>24</th>\n",
       "      <td>NOT HISPANIC OR LATINO</td>\n",
       "      <td>2016</td>\n",
       "      <td>25739</td>\n",
       "    </tr>\n",
       "    <tr>\n",
       "      <th>25</th>\n",
       "      <td>NOT HISPANIC OR LATINO</td>\n",
       "      <td>2017</td>\n",
       "      <td>25012</td>\n",
       "    </tr>\n",
       "    <tr>\n",
       "      <th>26</th>\n",
       "      <td>NOT HISPANIC OR LATINO</td>\n",
       "      <td>2018</td>\n",
       "      <td>25174</td>\n",
       "    </tr>\n",
       "    <tr>\n",
       "      <th>27</th>\n",
       "      <td>NOT HISPANIC OR LATINO</td>\n",
       "      <td>2019</td>\n",
       "      <td>23531</td>\n",
       "    </tr>\n",
       "    <tr>\n",
       "      <th>28</th>\n",
       "      <td>NOT HISPANIC OR LATINO</td>\n",
       "      <td>2020</td>\n",
       "      <td>18183</td>\n",
       "    </tr>\n",
       "    <tr>\n",
       "      <th>29</th>\n",
       "      <td>NOT HISPANIC OR LATINO</td>\n",
       "      <td>2021</td>\n",
       "      <td>15482</td>\n",
       "    </tr>\n",
       "    <tr>\n",
       "      <th>30</th>\n",
       "      <td>NOT HISPANIC OR LATINO</td>\n",
       "      <td>2022</td>\n",
       "      <td>17789</td>\n",
       "    </tr>\n",
       "    <tr>\n",
       "      <th>31</th>\n",
       "      <td>NOT HISPANIC OR LATINO</td>\n",
       "      <td>2023</td>\n",
       "      <td>16794</td>\n",
       "    </tr>\n",
       "    <tr>\n",
       "      <th>32</th>\n",
       "      <td>UNKNOWN</td>\n",
       "      <td>2008</td>\n",
       "      <td>6497</td>\n",
       "    </tr>\n",
       "    <tr>\n",
       "      <th>33</th>\n",
       "      <td>UNKNOWN</td>\n",
       "      <td>2009</td>\n",
       "      <td>2979</td>\n",
       "    </tr>\n",
       "    <tr>\n",
       "      <th>34</th>\n",
       "      <td>UNKNOWN</td>\n",
       "      <td>2010</td>\n",
       "      <td>3479</td>\n",
       "    </tr>\n",
       "    <tr>\n",
       "      <th>35</th>\n",
       "      <td>UNKNOWN</td>\n",
       "      <td>2011</td>\n",
       "      <td>4212</td>\n",
       "    </tr>\n",
       "    <tr>\n",
       "      <th>36</th>\n",
       "      <td>UNKNOWN</td>\n",
       "      <td>2012</td>\n",
       "      <td>5860</td>\n",
       "    </tr>\n",
       "    <tr>\n",
       "      <th>37</th>\n",
       "      <td>UNKNOWN</td>\n",
       "      <td>2013</td>\n",
       "      <td>6955</td>\n",
       "    </tr>\n",
       "    <tr>\n",
       "      <th>38</th>\n",
       "      <td>UNKNOWN</td>\n",
       "      <td>2014</td>\n",
       "      <td>6169</td>\n",
       "    </tr>\n",
       "    <tr>\n",
       "      <th>39</th>\n",
       "      <td>UNKNOWN</td>\n",
       "      <td>2015</td>\n",
       "      <td>6022</td>\n",
       "    </tr>\n",
       "    <tr>\n",
       "      <th>40</th>\n",
       "      <td>UNKNOWN</td>\n",
       "      <td>2016</td>\n",
       "      <td>6066</td>\n",
       "    </tr>\n",
       "    <tr>\n",
       "      <th>41</th>\n",
       "      <td>UNKNOWN</td>\n",
       "      <td>2017</td>\n",
       "      <td>5691</td>\n",
       "    </tr>\n",
       "    <tr>\n",
       "      <th>42</th>\n",
       "      <td>UNKNOWN</td>\n",
       "      <td>2018</td>\n",
       "      <td>5917</td>\n",
       "    </tr>\n",
       "    <tr>\n",
       "      <th>43</th>\n",
       "      <td>UNKNOWN</td>\n",
       "      <td>2019</td>\n",
       "      <td>6042</td>\n",
       "    </tr>\n",
       "    <tr>\n",
       "      <th>44</th>\n",
       "      <td>UNKNOWN</td>\n",
       "      <td>2020</td>\n",
       "      <td>4345</td>\n",
       "    </tr>\n",
       "    <tr>\n",
       "      <th>45</th>\n",
       "      <td>UNKNOWN</td>\n",
       "      <td>2021</td>\n",
       "      <td>4075</td>\n",
       "    </tr>\n",
       "    <tr>\n",
       "      <th>46</th>\n",
       "      <td>UNKNOWN</td>\n",
       "      <td>2022</td>\n",
       "      <td>4015</td>\n",
       "    </tr>\n",
       "    <tr>\n",
       "      <th>47</th>\n",
       "      <td>UNKNOWN</td>\n",
       "      <td>2023</td>\n",
       "      <td>4043</td>\n",
       "    </tr>\n",
       "  </tbody>\n",
       "</table>\n",
       "</div>"
      ],
      "text/plain": [
       "            ETHNICITY_DESC  vax_year  count\n",
       "0       HISPANIC OR LATINO      2008   2468\n",
       "1       HISPANIC OR LATINO      2009   1609\n",
       "2       HISPANIC OR LATINO      2010   2336\n",
       "3       HISPANIC OR LATINO      2011   3411\n",
       "4       HISPANIC OR LATINO      2012   4505\n",
       "5       HISPANIC OR LATINO      2013   6714\n",
       "6       HISPANIC OR LATINO      2014   8588\n",
       "7       HISPANIC OR LATINO      2015  10215\n",
       "8       HISPANIC OR LATINO      2016  11748\n",
       "9       HISPANIC OR LATINO      2017  10261\n",
       "10      HISPANIC OR LATINO      2018  10713\n",
       "11      HISPANIC OR LATINO      2019  11694\n",
       "12      HISPANIC OR LATINO      2020   8131\n",
       "13      HISPANIC OR LATINO      2021   9218\n",
       "14      HISPANIC OR LATINO      2022  10544\n",
       "15      HISPANIC OR LATINO      2023  10037\n",
       "16  NOT HISPANIC OR LATINO      2008   7891\n",
       "17  NOT HISPANIC OR LATINO      2009   4062\n",
       "18  NOT HISPANIC OR LATINO      2010   5034\n",
       "19  NOT HISPANIC OR LATINO      2011   7723\n",
       "20  NOT HISPANIC OR LATINO      2012  13888\n",
       "21  NOT HISPANIC OR LATINO      2013  19917\n",
       "22  NOT HISPANIC OR LATINO      2014  19511\n",
       "23  NOT HISPANIC OR LATINO      2015  23706\n",
       "24  NOT HISPANIC OR LATINO      2016  25739\n",
       "25  NOT HISPANIC OR LATINO      2017  25012\n",
       "26  NOT HISPANIC OR LATINO      2018  25174\n",
       "27  NOT HISPANIC OR LATINO      2019  23531\n",
       "28  NOT HISPANIC OR LATINO      2020  18183\n",
       "29  NOT HISPANIC OR LATINO      2021  15482\n",
       "30  NOT HISPANIC OR LATINO      2022  17789\n",
       "31  NOT HISPANIC OR LATINO      2023  16794\n",
       "32                 UNKNOWN      2008   6497\n",
       "33                 UNKNOWN      2009   2979\n",
       "34                 UNKNOWN      2010   3479\n",
       "35                 UNKNOWN      2011   4212\n",
       "36                 UNKNOWN      2012   5860\n",
       "37                 UNKNOWN      2013   6955\n",
       "38                 UNKNOWN      2014   6169\n",
       "39                 UNKNOWN      2015   6022\n",
       "40                 UNKNOWN      2016   6066\n",
       "41                 UNKNOWN      2017   5691\n",
       "42                 UNKNOWN      2018   5917\n",
       "43                 UNKNOWN      2019   6042\n",
       "44                 UNKNOWN      2020   4345\n",
       "45                 UNKNOWN      2021   4075\n",
       "46                 UNKNOWN      2022   4015\n",
       "47                 UNKNOWN      2023   4043"
      ]
     },
     "execution_count": 133,
     "metadata": {},
     "output_type": "execute_result"
    }
   ],
   "source": [
    "group"
   ]
  },
  {
   "cell_type": "code",
   "execution_count": 134,
   "id": "74769434",
   "metadata": {},
   "outputs": [
    {
     "name": "stdout",
     "output_type": "stream",
     "text": [
      "the total number of Hispanic patients in each year is : [2468, 4077, 6413, 9824, 14329, 21043, 29631, 39846, 51594, 61855, 72568, 84262, 92393, 101611, 112155, 122192]\n"
     ]
    }
   ],
   "source": [
    "print('the total number of Hispanic patients in each year is :',calyearnumber(list(group['count'])[0:16]))"
   ]
  },
  {
   "cell_type": "code",
   "execution_count": 136,
   "id": "e22609b3",
   "metadata": {},
   "outputs": [
    {
     "name": "stdout",
     "output_type": "stream",
     "text": [
      "the total number of NON-Hispanic patients in each year is : [7891, 11953, 16987, 24710, 38598, 58515, 78026, 101732, 127471, 152483, 177657, 201188, 219371, 234853, 252642, 269436]\n"
     ]
    }
   ],
   "source": [
    "print('the total number of NON-Hispanic patients in each year is :',calyearnumber(list(group['count'])[16:32]))"
   ]
  },
  {
   "cell_type": "code",
   "execution_count": 138,
   "id": "a3d257a2",
   "metadata": {},
   "outputs": [
    {
     "data": {
      "text/html": [
       "<div>\n",
       "<style scoped>\n",
       "    .dataframe tbody tr th:only-of-type {\n",
       "        vertical-align: middle;\n",
       "    }\n",
       "\n",
       "    .dataframe tbody tr th {\n",
       "        vertical-align: top;\n",
       "    }\n",
       "\n",
       "    .dataframe thead th {\n",
       "        text-align: right;\n",
       "    }\n",
       "</style>\n",
       "<table border=\"1\" class=\"dataframe\">\n",
       "  <thead>\n",
       "    <tr style=\"text-align: right;\">\n",
       "      <th></th>\n",
       "      <th>RACE_DESC</th>\n",
       "      <th>vax_year</th>\n",
       "      <th>count</th>\n",
       "    </tr>\n",
       "  </thead>\n",
       "  <tbody>\n",
       "    <tr>\n",
       "      <th>0</th>\n",
       "      <td>AMERICAN INDIAN OR ALASKA</td>\n",
       "      <td>2022</td>\n",
       "      <td>441</td>\n",
       "    </tr>\n",
       "    <tr>\n",
       "      <th>1</th>\n",
       "      <td>AMERICAN INDIAN OR ALASKA</td>\n",
       "      <td>2023</td>\n",
       "      <td>436</td>\n",
       "    </tr>\n",
       "    <tr>\n",
       "      <th>2</th>\n",
       "      <td>AMERICAN INDIAN OR ALASKA NATIVE</td>\n",
       "      <td>2008</td>\n",
       "      <td>75</td>\n",
       "    </tr>\n",
       "    <tr>\n",
       "      <th>3</th>\n",
       "      <td>AMERICAN INDIAN OR ALASKA NATIVE</td>\n",
       "      <td>2009</td>\n",
       "      <td>57</td>\n",
       "    </tr>\n",
       "    <tr>\n",
       "      <th>4</th>\n",
       "      <td>AMERICAN INDIAN OR ALASKA NATIVE</td>\n",
       "      <td>2010</td>\n",
       "      <td>97</td>\n",
       "    </tr>\n",
       "    <tr>\n",
       "      <th>...</th>\n",
       "      <td>...</td>\n",
       "      <td>...</td>\n",
       "      <td>...</td>\n",
       "    </tr>\n",
       "    <tr>\n",
       "      <th>107</th>\n",
       "      <td>WHITE</td>\n",
       "      <td>2019</td>\n",
       "      <td>21075</td>\n",
       "    </tr>\n",
       "    <tr>\n",
       "      <th>108</th>\n",
       "      <td>WHITE</td>\n",
       "      <td>2020</td>\n",
       "      <td>15981</td>\n",
       "    </tr>\n",
       "    <tr>\n",
       "      <th>109</th>\n",
       "      <td>WHITE</td>\n",
       "      <td>2021</td>\n",
       "      <td>13663</td>\n",
       "    </tr>\n",
       "    <tr>\n",
       "      <th>110</th>\n",
       "      <td>WHITE</td>\n",
       "      <td>2022</td>\n",
       "      <td>15242</td>\n",
       "    </tr>\n",
       "    <tr>\n",
       "      <th>111</th>\n",
       "      <td>WHITE</td>\n",
       "      <td>2023</td>\n",
       "      <td>14288</td>\n",
       "    </tr>\n",
       "  </tbody>\n",
       "</table>\n",
       "<p>112 rows × 3 columns</p>\n",
       "</div>"
      ],
      "text/plain": [
       "                            RACE_DESC  vax_year  count\n",
       "0           AMERICAN INDIAN OR ALASKA      2022    441\n",
       "1           AMERICAN INDIAN OR ALASKA      2023    436\n",
       "2    AMERICAN INDIAN OR ALASKA NATIVE      2008     75\n",
       "3    AMERICAN INDIAN OR ALASKA NATIVE      2009     57\n",
       "4    AMERICAN INDIAN OR ALASKA NATIVE      2010     97\n",
       "..                                ...       ...    ...\n",
       "107                             WHITE      2019  21075\n",
       "108                             WHITE      2020  15981\n",
       "109                             WHITE      2021  13663\n",
       "110                             WHITE      2022  15242\n",
       "111                             WHITE      2023  14288\n",
       "\n",
       "[112 rows x 3 columns]"
      ]
     },
     "execution_count": 138,
     "metadata": {},
     "output_type": "execute_result"
    }
   ],
   "source": [
    "group = hpv_patients.groupby(['RACE_DESC','vax_year']).size().reset_index(name='count')\n",
    "group"
   ]
  },
  {
   "cell_type": "code",
   "execution_count": 140,
   "id": "3fa3ef3a",
   "metadata": {},
   "outputs": [
    {
     "name": "stdout",
     "output_type": "stream",
     "text": [
      "the total number of WHite patients in each year is : [6829, 10171, 14403, 20927, 32635, 49774, 66838, 86873, 109218, 130939, 152995, 174070, 190051, 203714, 218956, 233244]\n"
     ]
    }
   ],
   "source": [
    "print('the total number of WHite patients in each year is :',\n",
    "      calyearnumber(list(group[group['RACE_DESC']=='WHITE']['count'])))"
   ]
  },
  {
   "cell_type": "code",
   "execution_count": 142,
   "id": "a5622443",
   "metadata": {},
   "outputs": [
    {
     "name": "stdout",
     "output_type": "stream",
     "text": [
      "the total number of Asian patients in each year is : [727, 1187, 1763, 2589, 3990, 5803, 7830, 10642, 13637, 16675, 20017, 23285, 25957, 28451, 31613, 34801]\n"
     ]
    }
   ],
   "source": [
    "print('the total number of Asian patients in each year is :',\n",
    "      calyearnumber(list(group[group['RACE_DESC']=='ASIAN']['count'])))"
   ]
  },
  {
   "cell_type": "code",
   "execution_count": 145,
   "id": "6485e778",
   "metadata": {},
   "outputs": [
    {
     "name": "stdout",
     "output_type": "stream",
     "text": [
      "the total number of Black patients in each year is : [1203, 2023, 3021, 4449, 6643, 9529, 12635, 16727, 21117, 25031, 28954, 32860, 35569, 38436, 41532, 44677]\n"
     ]
    }
   ],
   "source": [
    "print('the total number of Black patients in each year is :',\n",
    "      calyearnumber(list(group[group['RACE_DESC']=='BLACK OR AFRICAN-AMERICAN']['count'])))"
   ]
  },
  {
   "cell_type": "code",
   "execution_count": 143,
   "id": "4c2600e6",
   "metadata": {},
   "outputs": [
    {
     "data": {
      "text/plain": [
       "array(['AMERICAN INDIAN OR ALASKA', 'AMERICAN INDIAN OR ALASKA NATIVE',\n",
       "       'ASIAN', 'BLACK OR AFRICAN-AMERICAN', 'NATIVE HAWAIIAN OR OTHER',\n",
       "       'NATIVE HAWAIIAN OR OTHER PACIFIC', 'OTHER', 'UNKNOWN', 'WHITE'],\n",
       "      dtype=object)"
      ]
     },
     "execution_count": 143,
     "metadata": {},
     "output_type": "execute_result"
    }
   ],
   "source": [
    "group['RACE_DESC'].unique()"
   ]
  },
  {
   "cell_type": "markdown",
   "id": "1e2023a7",
   "metadata": {},
   "source": [
    "### Age populations\n"
   ]
  },
  {
   "cell_type": "code",
   "execution_count": 7,
   "id": "7f51cd7e",
   "metadata": {},
   "outputs": [
    {
     "data": {
      "text/html": [
       "<div>\n",
       "<style scoped>\n",
       "    .dataframe tbody tr th:only-of-type {\n",
       "        vertical-align: middle;\n",
       "    }\n",
       "\n",
       "    .dataframe tbody tr th {\n",
       "        vertical-align: top;\n",
       "    }\n",
       "\n",
       "    .dataframe thead th {\n",
       "        text-align: right;\n",
       "    }\n",
       "</style>\n",
       "<table border=\"1\" class=\"dataframe\">\n",
       "  <thead>\n",
       "    <tr style=\"text-align: right;\">\n",
       "      <th></th>\n",
       "      <th>client_id</th>\n",
       "      <th>RACE_DESC</th>\n",
       "      <th>ETHNICITY_DESC</th>\n",
       "      <th>PatientZip</th>\n",
       "      <th>PatientCounty</th>\n",
       "      <th>GENDER</th>\n",
       "      <th>2008</th>\n",
       "      <th>2009</th>\n",
       "      <th>2010</th>\n",
       "      <th>2011</th>\n",
       "      <th>...</th>\n",
       "      <th>2014</th>\n",
       "      <th>2015</th>\n",
       "      <th>2016</th>\n",
       "      <th>2017</th>\n",
       "      <th>2018</th>\n",
       "      <th>2019</th>\n",
       "      <th>2020</th>\n",
       "      <th>2021</th>\n",
       "      <th>2022</th>\n",
       "      <th>2023</th>\n",
       "    </tr>\n",
       "  </thead>\n",
       "  <tbody>\n",
       "    <tr>\n",
       "      <th>0</th>\n",
       "      <td>21656</td>\n",
       "      <td>BLACK OR AFRICAN-AMERICAN</td>\n",
       "      <td>NOT HISPANIC OR LATINO</td>\n",
       "      <td>11520.0</td>\n",
       "      <td>Nassau</td>\n",
       "      <td>F</td>\n",
       "      <td>15.0</td>\n",
       "      <td>16.0</td>\n",
       "      <td>17.0</td>\n",
       "      <td>18.0</td>\n",
       "      <td>...</td>\n",
       "      <td>21.0</td>\n",
       "      <td>22.0</td>\n",
       "      <td>23.0</td>\n",
       "      <td>24.0</td>\n",
       "      <td>25.0</td>\n",
       "      <td>26.0</td>\n",
       "      <td>27.0</td>\n",
       "      <td>28.0</td>\n",
       "      <td>29.0</td>\n",
       "      <td>30</td>\n",
       "    </tr>\n",
       "    <tr>\n",
       "      <th>1</th>\n",
       "      <td>25161</td>\n",
       "      <td>WHITE</td>\n",
       "      <td>NOT HISPANIC OR LATINO</td>\n",
       "      <td>11561.0</td>\n",
       "      <td>Nassau</td>\n",
       "      <td>F</td>\n",
       "      <td>15.0</td>\n",
       "      <td>16.0</td>\n",
       "      <td>17.0</td>\n",
       "      <td>18.0</td>\n",
       "      <td>...</td>\n",
       "      <td>21.0</td>\n",
       "      <td>22.0</td>\n",
       "      <td>23.0</td>\n",
       "      <td>24.0</td>\n",
       "      <td>25.0</td>\n",
       "      <td>26.0</td>\n",
       "      <td>27.0</td>\n",
       "      <td>28.0</td>\n",
       "      <td>29.0</td>\n",
       "      <td>30</td>\n",
       "    </tr>\n",
       "    <tr>\n",
       "      <th>2</th>\n",
       "      <td>85387</td>\n",
       "      <td>WHITE</td>\n",
       "      <td>NOT HISPANIC OR LATINO</td>\n",
       "      <td>11758.0</td>\n",
       "      <td>Nassau</td>\n",
       "      <td>F</td>\n",
       "      <td>16.0</td>\n",
       "      <td>17.0</td>\n",
       "      <td>18.0</td>\n",
       "      <td>19.0</td>\n",
       "      <td>...</td>\n",
       "      <td>22.0</td>\n",
       "      <td>23.0</td>\n",
       "      <td>24.0</td>\n",
       "      <td>25.0</td>\n",
       "      <td>26.0</td>\n",
       "      <td>27.0</td>\n",
       "      <td>28.0</td>\n",
       "      <td>29.0</td>\n",
       "      <td>30.0</td>\n",
       "      <td>31</td>\n",
       "    </tr>\n",
       "    <tr>\n",
       "      <th>3</th>\n",
       "      <td>240100</td>\n",
       "      <td>WHITE</td>\n",
       "      <td>NOT HISPANIC OR LATINO</td>\n",
       "      <td>11530.0</td>\n",
       "      <td>Nassau</td>\n",
       "      <td>F</td>\n",
       "      <td>15.0</td>\n",
       "      <td>16.0</td>\n",
       "      <td>17.0</td>\n",
       "      <td>18.0</td>\n",
       "      <td>...</td>\n",
       "      <td>21.0</td>\n",
       "      <td>22.0</td>\n",
       "      <td>23.0</td>\n",
       "      <td>24.0</td>\n",
       "      <td>25.0</td>\n",
       "      <td>26.0</td>\n",
       "      <td>27.0</td>\n",
       "      <td>28.0</td>\n",
       "      <td>29.0</td>\n",
       "      <td>30</td>\n",
       "    </tr>\n",
       "    <tr>\n",
       "      <th>4</th>\n",
       "      <td>289434</td>\n",
       "      <td>WHITE</td>\n",
       "      <td>UNKNOWN</td>\n",
       "      <td>11803.0</td>\n",
       "      <td>Nassau</td>\n",
       "      <td>F</td>\n",
       "      <td>13.0</td>\n",
       "      <td>14.0</td>\n",
       "      <td>15.0</td>\n",
       "      <td>16.0</td>\n",
       "      <td>...</td>\n",
       "      <td>19.0</td>\n",
       "      <td>20.0</td>\n",
       "      <td>21.0</td>\n",
       "      <td>22.0</td>\n",
       "      <td>23.0</td>\n",
       "      <td>24.0</td>\n",
       "      <td>25.0</td>\n",
       "      <td>26.0</td>\n",
       "      <td>27.0</td>\n",
       "      <td>28</td>\n",
       "    </tr>\n",
       "    <tr>\n",
       "      <th>...</th>\n",
       "      <td>...</td>\n",
       "      <td>...</td>\n",
       "      <td>...</td>\n",
       "      <td>...</td>\n",
       "      <td>...</td>\n",
       "      <td>...</td>\n",
       "      <td>...</td>\n",
       "      <td>...</td>\n",
       "      <td>...</td>\n",
       "      <td>...</td>\n",
       "      <td>...</td>\n",
       "      <td>...</td>\n",
       "      <td>...</td>\n",
       "      <td>...</td>\n",
       "      <td>...</td>\n",
       "      <td>...</td>\n",
       "      <td>...</td>\n",
       "      <td>...</td>\n",
       "      <td>...</td>\n",
       "      <td>...</td>\n",
       "      <td>...</td>\n",
       "    </tr>\n",
       "    <tr>\n",
       "      <th>473995</th>\n",
       "      <td>25213555</td>\n",
       "      <td>WHITE</td>\n",
       "      <td>HISPANIC OR LATINO</td>\n",
       "      <td>11776.0</td>\n",
       "      <td>Suffolk</td>\n",
       "      <td>M</td>\n",
       "      <td>NaN</td>\n",
       "      <td>NaN</td>\n",
       "      <td>NaN</td>\n",
       "      <td>NaN</td>\n",
       "      <td>...</td>\n",
       "      <td>NaN</td>\n",
       "      <td>NaN</td>\n",
       "      <td>NaN</td>\n",
       "      <td>NaN</td>\n",
       "      <td>NaN</td>\n",
       "      <td>NaN</td>\n",
       "      <td>NaN</td>\n",
       "      <td>NaN</td>\n",
       "      <td>NaN</td>\n",
       "      <td>17</td>\n",
       "    </tr>\n",
       "    <tr>\n",
       "      <th>473996</th>\n",
       "      <td>25225292</td>\n",
       "      <td>WHITE</td>\n",
       "      <td>HISPANIC OR LATINO</td>\n",
       "      <td>11717.0</td>\n",
       "      <td>Suffolk</td>\n",
       "      <td>F</td>\n",
       "      <td>NaN</td>\n",
       "      <td>NaN</td>\n",
       "      <td>NaN</td>\n",
       "      <td>NaN</td>\n",
       "      <td>...</td>\n",
       "      <td>NaN</td>\n",
       "      <td>NaN</td>\n",
       "      <td>NaN</td>\n",
       "      <td>NaN</td>\n",
       "      <td>NaN</td>\n",
       "      <td>NaN</td>\n",
       "      <td>NaN</td>\n",
       "      <td>NaN</td>\n",
       "      <td>NaN</td>\n",
       "      <td>15</td>\n",
       "    </tr>\n",
       "    <tr>\n",
       "      <th>473997</th>\n",
       "      <td>25231473</td>\n",
       "      <td>WHITE</td>\n",
       "      <td>HISPANIC OR LATINO</td>\n",
       "      <td>11779.0</td>\n",
       "      <td>Suffolk</td>\n",
       "      <td>F</td>\n",
       "      <td>NaN</td>\n",
       "      <td>NaN</td>\n",
       "      <td>NaN</td>\n",
       "      <td>NaN</td>\n",
       "      <td>...</td>\n",
       "      <td>NaN</td>\n",
       "      <td>NaN</td>\n",
       "      <td>NaN</td>\n",
       "      <td>NaN</td>\n",
       "      <td>NaN</td>\n",
       "      <td>NaN</td>\n",
       "      <td>NaN</td>\n",
       "      <td>NaN</td>\n",
       "      <td>NaN</td>\n",
       "      <td>16</td>\n",
       "    </tr>\n",
       "    <tr>\n",
       "      <th>473998</th>\n",
       "      <td>25235058</td>\n",
       "      <td>WHITE</td>\n",
       "      <td>HISPANIC OR LATINO</td>\n",
       "      <td>11967.0</td>\n",
       "      <td>Suffolk</td>\n",
       "      <td>F</td>\n",
       "      <td>NaN</td>\n",
       "      <td>NaN</td>\n",
       "      <td>NaN</td>\n",
       "      <td>NaN</td>\n",
       "      <td>...</td>\n",
       "      <td>NaN</td>\n",
       "      <td>NaN</td>\n",
       "      <td>NaN</td>\n",
       "      <td>NaN</td>\n",
       "      <td>NaN</td>\n",
       "      <td>NaN</td>\n",
       "      <td>NaN</td>\n",
       "      <td>NaN</td>\n",
       "      <td>NaN</td>\n",
       "      <td>16</td>\n",
       "    </tr>\n",
       "    <tr>\n",
       "      <th>473999</th>\n",
       "      <td>25244325</td>\n",
       "      <td>UNKNOWN</td>\n",
       "      <td>UNKNOWN</td>\n",
       "      <td>11717.0</td>\n",
       "      <td>Suffolk</td>\n",
       "      <td>F</td>\n",
       "      <td>NaN</td>\n",
       "      <td>NaN</td>\n",
       "      <td>NaN</td>\n",
       "      <td>NaN</td>\n",
       "      <td>...</td>\n",
       "      <td>NaN</td>\n",
       "      <td>NaN</td>\n",
       "      <td>NaN</td>\n",
       "      <td>NaN</td>\n",
       "      <td>NaN</td>\n",
       "      <td>NaN</td>\n",
       "      <td>NaN</td>\n",
       "      <td>NaN</td>\n",
       "      <td>NaN</td>\n",
       "      <td>15</td>\n",
       "    </tr>\n",
       "  </tbody>\n",
       "</table>\n",
       "<p>474000 rows × 22 columns</p>\n",
       "</div>"
      ],
      "text/plain": [
       "        client_id                  RACE_DESC          ETHNICITY_DESC  \\\n",
       "0           21656  BLACK OR AFRICAN-AMERICAN  NOT HISPANIC OR LATINO   \n",
       "1           25161                      WHITE  NOT HISPANIC OR LATINO   \n",
       "2           85387                      WHITE  NOT HISPANIC OR LATINO   \n",
       "3          240100                      WHITE  NOT HISPANIC OR LATINO   \n",
       "4          289434                      WHITE                 UNKNOWN   \n",
       "...           ...                        ...                     ...   \n",
       "473995   25213555                      WHITE      HISPANIC OR LATINO   \n",
       "473996   25225292                      WHITE      HISPANIC OR LATINO   \n",
       "473997   25231473                      WHITE      HISPANIC OR LATINO   \n",
       "473998   25235058                      WHITE      HISPANIC OR LATINO   \n",
       "473999   25244325                    UNKNOWN                 UNKNOWN   \n",
       "\n",
       "        PatientZip PatientCounty GENDER  2008  2009  2010  2011  ...  2014  \\\n",
       "0          11520.0        Nassau      F  15.0  16.0  17.0  18.0  ...  21.0   \n",
       "1          11561.0        Nassau      F  15.0  16.0  17.0  18.0  ...  21.0   \n",
       "2          11758.0        Nassau      F  16.0  17.0  18.0  19.0  ...  22.0   \n",
       "3          11530.0        Nassau      F  15.0  16.0  17.0  18.0  ...  21.0   \n",
       "4          11803.0        Nassau      F  13.0  14.0  15.0  16.0  ...  19.0   \n",
       "...            ...           ...    ...   ...   ...   ...   ...  ...   ...   \n",
       "473995     11776.0       Suffolk      M   NaN   NaN   NaN   NaN  ...   NaN   \n",
       "473996     11717.0       Suffolk      F   NaN   NaN   NaN   NaN  ...   NaN   \n",
       "473997     11779.0       Suffolk      F   NaN   NaN   NaN   NaN  ...   NaN   \n",
       "473998     11967.0       Suffolk      F   NaN   NaN   NaN   NaN  ...   NaN   \n",
       "473999     11717.0       Suffolk      F   NaN   NaN   NaN   NaN  ...   NaN   \n",
       "\n",
       "        2015  2016  2017  2018  2019  2020  2021  2022  2023  \n",
       "0       22.0  23.0  24.0  25.0  26.0  27.0  28.0  29.0    30  \n",
       "1       22.0  23.0  24.0  25.0  26.0  27.0  28.0  29.0    30  \n",
       "2       23.0  24.0  25.0  26.0  27.0  28.0  29.0  30.0    31  \n",
       "3       22.0  23.0  24.0  25.0  26.0  27.0  28.0  29.0    30  \n",
       "4       20.0  21.0  22.0  23.0  24.0  25.0  26.0  27.0    28  \n",
       "...      ...   ...   ...   ...   ...   ...   ...   ...   ...  \n",
       "473995   NaN   NaN   NaN   NaN   NaN   NaN   NaN   NaN    17  \n",
       "473996   NaN   NaN   NaN   NaN   NaN   NaN   NaN   NaN    15  \n",
       "473997   NaN   NaN   NaN   NaN   NaN   NaN   NaN   NaN    16  \n",
       "473998   NaN   NaN   NaN   NaN   NaN   NaN   NaN   NaN    16  \n",
       "473999   NaN   NaN   NaN   NaN   NaN   NaN   NaN   NaN    15  \n",
       "\n",
       "[474000 rows x 22 columns]"
      ]
     },
     "execution_count": 7,
     "metadata": {},
     "output_type": "execute_result"
    }
   ],
   "source": [
    "df_age_hpv"
   ]
  },
  {
   "cell_type": "code",
   "execution_count": 20,
   "id": "54db1686-001f-4c65-a98a-5a69b3a72f07",
   "metadata": {},
   "outputs": [],
   "source": [
    "if np.isnan(df_age_hpv.loc[1934]['2008']):\n",
    "    print('exist')"
   ]
  },
  {
   "cell_type": "code",
   "execution_count": 21,
   "id": "69ae4ccb",
   "metadata": {},
   "outputs": [],
   "source": [
    "def calAgeYear(year,df):\n",
    "    res = [0,0,0,0]\n",
    "    a= df[year]\n",
    "    for i in range(len(a)):\n",
    "        ng = a[i]\n",
    "        if not np.isnan(ng):\n",
    "            if ng<9:\n",
    "                res[0]+=1\n",
    "            elif ng<14:\n",
    "                res[1]+=1\n",
    "            elif ng <26:\n",
    "                res[2]+=1\n",
    "            else:\n",
    "                res[3]+=1\n",
    "    return res"
   ]
  },
  {
   "cell_type": "code",
   "execution_count": null,
   "id": "fee30bd5-8993-4cb7-966d-527c407978da",
   "metadata": {},
   "outputs": [],
   "source": []
  },
  {
   "cell_type": "code",
   "execution_count": 24,
   "id": "8a85eac2-a8f7-4367-a664-21ab8ab0961b",
   "metadata": {},
   "outputs": [
    {
     "data": {
      "text/plain": [
       "[[3, 16458, 59331, 162],\n",
       " [1, 23004, 86296, 239],\n",
       " [0, 28215, 115183, 410],\n",
       " [0, 36383, 146644, 725],\n",
       " [1, 44374, 181202, 1728],\n",
       " [1, 49557, 214563, 4148],\n",
       " [0, 54729, 246876, 8468],\n",
       " [2, 58983, 277885, 14473],\n",
       " [0, 56735, 302238, 23030],\n",
       " [0, 52808, 322171, 35799],\n",
       " [2, 51848, 338127, 53149]]"
      ]
     },
     "execution_count": 24,
     "metadata": {},
     "output_type": "execute_result"
    }
   ],
   "source": [
    "years = np.arange(2012,2023)\n",
    "more26 = []\n",
    "for year in years:\n",
    "    more26.append(calAgeYear(str(year),df_age_hpv))\n",
    "more26"
   ]
  },
  {
   "cell_type": "code",
   "execution_count": 26,
   "id": "30513c96",
   "metadata": {},
   "outputs": [
    {
     "data": {
      "text/plain": [
       "[1, 51522, 348376, 74101]"
      ]
     },
     "execution_count": 26,
     "metadata": {},
     "output_type": "execute_result"
    }
   ],
   "source": [
    "calAgeYear('2023',df_age_hpv)"
   ]
  },
  {
   "cell_type": "code",
   "execution_count": 150,
   "id": "45af2397",
   "metadata": {},
   "outputs": [
    {
     "data": {
      "text/html": [
       "<div>\n",
       "<style scoped>\n",
       "    .dataframe tbody tr th:only-of-type {\n",
       "        vertical-align: middle;\n",
       "    }\n",
       "\n",
       "    .dataframe tbody tr th {\n",
       "        vertical-align: top;\n",
       "    }\n",
       "\n",
       "    .dataframe thead th {\n",
       "        text-align: right;\n",
       "    }\n",
       "</style>\n",
       "<table border=\"1\" class=\"dataframe\">\n",
       "  <thead>\n",
       "    <tr style=\"text-align: right;\">\n",
       "      <th></th>\n",
       "      <th>PatientAge</th>\n",
       "      <th>vax_year</th>\n",
       "      <th>count</th>\n",
       "    </tr>\n",
       "  </thead>\n",
       "  <tbody>\n",
       "    <tr>\n",
       "      <th>0</th>\n",
       "      <td>8</td>\n",
       "      <td>2010</td>\n",
       "      <td>1</td>\n",
       "    </tr>\n",
       "    <tr>\n",
       "      <th>1</th>\n",
       "      <td>8</td>\n",
       "      <td>2012</td>\n",
       "      <td>3</td>\n",
       "    </tr>\n",
       "    <tr>\n",
       "      <th>2</th>\n",
       "      <td>8</td>\n",
       "      <td>2013</td>\n",
       "      <td>1</td>\n",
       "    </tr>\n",
       "    <tr>\n",
       "      <th>3</th>\n",
       "      <td>8</td>\n",
       "      <td>2016</td>\n",
       "      <td>1</td>\n",
       "    </tr>\n",
       "    <tr>\n",
       "      <th>4</th>\n",
       "      <td>8</td>\n",
       "      <td>2017</td>\n",
       "      <td>1</td>\n",
       "    </tr>\n",
       "    <tr>\n",
       "      <th>...</th>\n",
       "      <td>...</td>\n",
       "      <td>...</td>\n",
       "      <td>...</td>\n",
       "    </tr>\n",
       "    <tr>\n",
       "      <th>306</th>\n",
       "      <td>28</td>\n",
       "      <td>2023</td>\n",
       "      <td>2</td>\n",
       "    </tr>\n",
       "    <tr>\n",
       "      <th>307</th>\n",
       "      <td>29</td>\n",
       "      <td>2019</td>\n",
       "      <td>2</td>\n",
       "    </tr>\n",
       "    <tr>\n",
       "      <th>308</th>\n",
       "      <td>29</td>\n",
       "      <td>2021</td>\n",
       "      <td>1</td>\n",
       "    </tr>\n",
       "    <tr>\n",
       "      <th>309</th>\n",
       "      <td>29</td>\n",
       "      <td>2022</td>\n",
       "      <td>1</td>\n",
       "    </tr>\n",
       "    <tr>\n",
       "      <th>310</th>\n",
       "      <td>29</td>\n",
       "      <td>2023</td>\n",
       "      <td>1</td>\n",
       "    </tr>\n",
       "  </tbody>\n",
       "</table>\n",
       "<p>311 rows × 3 columns</p>\n",
       "</div>"
      ],
      "text/plain": [
       "     PatientAge  vax_year  count\n",
       "0             8      2010      1\n",
       "1             8      2012      3\n",
       "2             8      2013      1\n",
       "3             8      2016      1\n",
       "4             8      2017      1\n",
       "..          ...       ...    ...\n",
       "306          28      2023      2\n",
       "307          29      2019      2\n",
       "308          29      2021      1\n",
       "309          29      2022      1\n",
       "310          29      2023      1\n",
       "\n",
       "[311 rows x 3 columns]"
      ]
     },
     "execution_count": 150,
     "metadata": {},
     "output_type": "execute_result"
    }
   ],
   "source": [
    "group = hpv_patients.groupby(['PatientAge','vax_year']).size().reset_index(name='count')\n",
    "group"
   ]
  },
  {
   "cell_type": "code",
   "execution_count": 156,
   "id": "e02cc1cf",
   "metadata": {},
   "outputs": [
    {
     "data": {
      "text/html": [
       "<div>\n",
       "<style scoped>\n",
       "    .dataframe tbody tr th:only-of-type {\n",
       "        vertical-align: middle;\n",
       "    }\n",
       "\n",
       "    .dataframe tbody tr th {\n",
       "        vertical-align: top;\n",
       "    }\n",
       "\n",
       "    .dataframe thead th {\n",
       "        text-align: right;\n",
       "    }\n",
       "</style>\n",
       "<table border=\"1\" class=\"dataframe\">\n",
       "  <thead>\n",
       "    <tr style=\"text-align: right;\">\n",
       "      <th></th>\n",
       "      <th>PatientAge</th>\n",
       "      <th>vax_year</th>\n",
       "      <th>count</th>\n",
       "    </tr>\n",
       "  </thead>\n",
       "  <tbody>\n",
       "    <tr>\n",
       "      <th>0</th>\n",
       "      <td>8</td>\n",
       "      <td>2010</td>\n",
       "      <td>1</td>\n",
       "    </tr>\n",
       "    <tr>\n",
       "      <th>1</th>\n",
       "      <td>8</td>\n",
       "      <td>2012</td>\n",
       "      <td>3</td>\n",
       "    </tr>\n",
       "    <tr>\n",
       "      <th>2</th>\n",
       "      <td>8</td>\n",
       "      <td>2013</td>\n",
       "      <td>1</td>\n",
       "    </tr>\n",
       "    <tr>\n",
       "      <th>3</th>\n",
       "      <td>8</td>\n",
       "      <td>2016</td>\n",
       "      <td>1</td>\n",
       "    </tr>\n",
       "    <tr>\n",
       "      <th>4</th>\n",
       "      <td>8</td>\n",
       "      <td>2017</td>\n",
       "      <td>1</td>\n",
       "    </tr>\n",
       "    <tr>\n",
       "      <th>5</th>\n",
       "      <td>8</td>\n",
       "      <td>2019</td>\n",
       "      <td>2</td>\n",
       "    </tr>\n",
       "    <tr>\n",
       "      <th>6</th>\n",
       "      <td>8</td>\n",
       "      <td>2022</td>\n",
       "      <td>2</td>\n",
       "    </tr>\n",
       "    <tr>\n",
       "      <th>7</th>\n",
       "      <td>8</td>\n",
       "      <td>2023</td>\n",
       "      <td>1</td>\n",
       "    </tr>\n",
       "    <tr>\n",
       "      <th>8</th>\n",
       "      <td>9</td>\n",
       "      <td>2008</td>\n",
       "      <td>181</td>\n",
       "    </tr>\n",
       "    <tr>\n",
       "      <th>9</th>\n",
       "      <td>9</td>\n",
       "      <td>2009</td>\n",
       "      <td>124</td>\n",
       "    </tr>\n",
       "  </tbody>\n",
       "</table>\n",
       "</div>"
      ],
      "text/plain": [
       "   PatientAge  vax_year  count\n",
       "0           8      2010      1\n",
       "1           8      2012      3\n",
       "2           8      2013      1\n",
       "3           8      2016      1\n",
       "4           8      2017      1\n",
       "5           8      2019      2\n",
       "6           8      2022      2\n",
       "7           8      2023      1\n",
       "8           9      2008    181\n",
       "9           9      2009    124"
      ]
     },
     "execution_count": 156,
     "metadata": {},
     "output_type": "execute_result"
    }
   ],
   "source": [
    "group.iloc[:10]"
   ]
  },
  {
   "cell_type": "code",
   "execution_count": 153,
   "id": "b663e954",
   "metadata": {},
   "outputs": [
    {
     "name": "stdout",
     "output_type": "stream",
     "text": [
      "the total number of <9 patients in each year is : [1, 4, 5, 6, 7, 9, 11, 12]\n"
     ]
    }
   ],
   "source": [
    "print('the total number of <9 patients in each year is :',\n",
    "      calyearnumber(list(group[group['PatientAge']==8]['count'])))"
   ]
  },
  {
   "cell_type": "code",
   "execution_count": 189,
   "id": "dd7d2fdd",
   "metadata": {},
   "outputs": [],
   "source": [
    "con0 = group['PatientAge']>= 9\n",
    "con1 = group['PatientAge']<=13\n",
    "con3 = group['PatientAge']>26\n",
    "newgroup = group[con3]"
   ]
  },
  {
   "cell_type": "code",
   "execution_count": 191,
   "id": "aca31caf",
   "metadata": {},
   "outputs": [
    {
     "data": {
      "text/html": [
       "<div>\n",
       "<style scoped>\n",
       "    .dataframe tbody tr th:only-of-type {\n",
       "        vertical-align: middle;\n",
       "    }\n",
       "\n",
       "    .dataframe tbody tr th {\n",
       "        vertical-align: top;\n",
       "    }\n",
       "\n",
       "    .dataframe thead th {\n",
       "        text-align: right;\n",
       "    }\n",
       "</style>\n",
       "<table border=\"1\" class=\"dataframe\">\n",
       "  <thead>\n",
       "    <tr style=\"text-align: right;\">\n",
       "      <th></th>\n",
       "      <th>PatientAge</th>\n",
       "      <th>count</th>\n",
       "    </tr>\n",
       "    <tr>\n",
       "      <th>vax_year</th>\n",
       "      <th></th>\n",
       "      <th></th>\n",
       "    </tr>\n",
       "  </thead>\n",
       "  <tbody>\n",
       "    <tr>\n",
       "      <th>2008</th>\n",
       "      <td>55</td>\n",
       "      <td>2</td>\n",
       "    </tr>\n",
       "    <tr>\n",
       "      <th>2009</th>\n",
       "      <td>27</td>\n",
       "      <td>1</td>\n",
       "    </tr>\n",
       "    <tr>\n",
       "      <th>2011</th>\n",
       "      <td>28</td>\n",
       "      <td>2</td>\n",
       "    </tr>\n",
       "    <tr>\n",
       "      <th>2017</th>\n",
       "      <td>28</td>\n",
       "      <td>1</td>\n",
       "    </tr>\n",
       "    <tr>\n",
       "      <th>2019</th>\n",
       "      <td>56</td>\n",
       "      <td>3</td>\n",
       "    </tr>\n",
       "    <tr>\n",
       "      <th>2020</th>\n",
       "      <td>27</td>\n",
       "      <td>1</td>\n",
       "    </tr>\n",
       "    <tr>\n",
       "      <th>2021</th>\n",
       "      <td>57</td>\n",
       "      <td>3</td>\n",
       "    </tr>\n",
       "    <tr>\n",
       "      <th>2022</th>\n",
       "      <td>56</td>\n",
       "      <td>3</td>\n",
       "    </tr>\n",
       "    <tr>\n",
       "      <th>2023</th>\n",
       "      <td>84</td>\n",
       "      <td>6</td>\n",
       "    </tr>\n",
       "  </tbody>\n",
       "</table>\n",
       "</div>"
      ],
      "text/plain": [
       "          PatientAge  count\n",
       "vax_year                   \n",
       "2008              55      2\n",
       "2009              27      1\n",
       "2011              28      2\n",
       "2017              28      1\n",
       "2019              56      3\n",
       "2020              27      1\n",
       "2021              57      3\n",
       "2022              56      3\n",
       "2023              84      6"
      ]
     },
     "execution_count": 191,
     "metadata": {},
     "output_type": "execute_result"
    }
   ],
   "source": [
    "grouped = newgroup.groupby(['vax_year']).sum()\n",
    "grouped"
   ]
  },
  {
   "cell_type": "code",
   "execution_count": 169,
   "id": "78f637da",
   "metadata": {},
   "outputs": [],
   "source": [
    "grouped = newgroup.groupby(['vax_year']).sum()\n",
    "grouped"
   ]
  },
  {
   "cell_type": "code",
   "execution_count": 164,
   "id": "4824a779",
   "metadata": {},
   "outputs": [
    {
     "name": "stdout",
     "output_type": "stream",
     "text": [
      "the total number of 9-14 patients in each year is : 80\n"
     ]
    }
   ],
   "source": [
    "con0 = group['PatientAge']>= 9\n",
    "con1 = group['PatientAge']<=13\n",
    "print('the total number of 9-14 patients in each year is :',\n",
    "      len(calyearnumber(list(group[con0 & con1]['count']))))\n"
   ]
  },
  {
   "cell_type": "code",
   "execution_count": 188,
   "id": "2f5e8e5a",
   "metadata": {},
   "outputs": [
    {
     "data": {
      "text/html": [
       "<div>\n",
       "<style scoped>\n",
       "    .dataframe tbody tr th:only-of-type {\n",
       "        vertical-align: middle;\n",
       "    }\n",
       "\n",
       "    .dataframe tbody tr th {\n",
       "        vertical-align: top;\n",
       "    }\n",
       "\n",
       "    .dataframe thead th {\n",
       "        text-align: right;\n",
       "    }\n",
       "</style>\n",
       "<table border=\"1\" class=\"dataframe\">\n",
       "  <thead>\n",
       "    <tr style=\"text-align: right;\">\n",
       "      <th></th>\n",
       "      <th>client_id</th>\n",
       "      <th>level_0</th>\n",
       "      <th>vax_month</th>\n",
       "      <th>vax_year</th>\n",
       "      <th>RACE_DESC</th>\n",
       "      <th>ETHNICITY_DESC</th>\n",
       "      <th>PatientAge</th>\n",
       "      <th>Trade_name</th>\n",
       "      <th>PatientZip</th>\n",
       "      <th>PatientCounty</th>\n",
       "      <th>ProviderCounty</th>\n",
       "      <th>GENDER</th>\n",
       "      <th>Doses</th>\n",
       "      <th>dose12gap</th>\n",
       "      <th>wholeSeriesGap</th>\n",
       "    </tr>\n",
       "  </thead>\n",
       "  <tbody>\n",
       "    <tr>\n",
       "      <th>0</th>\n",
       "      <td>9910</td>\n",
       "      <td>243042</td>\n",
       "      <td>7</td>\n",
       "      <td>2017</td>\n",
       "      <td>WHITE</td>\n",
       "      <td>NOT HISPANIC OR LATINO</td>\n",
       "      <td>24</td>\n",
       "      <td>Gardasil 9</td>\n",
       "      <td>11756.0</td>\n",
       "      <td>Nassau</td>\n",
       "      <td>Nassau</td>\n",
       "      <td>M</td>\n",
       "      <td>1</td>\n",
       "      <td>NaN</td>\n",
       "      <td>NaN</td>\n",
       "    </tr>\n",
       "    <tr>\n",
       "      <th>1</th>\n",
       "      <td>12409</td>\n",
       "      <td>321936</td>\n",
       "      <td>6</td>\n",
       "      <td>2019</td>\n",
       "      <td>OTHER</td>\n",
       "      <td>NOT HISPANIC OR LATINO</td>\n",
       "      <td>22</td>\n",
       "      <td>Gardasil</td>\n",
       "      <td>11590.0</td>\n",
       "      <td>Nassau</td>\n",
       "      <td>Nassau</td>\n",
       "      <td>M</td>\n",
       "      <td>2</td>\n",
       "      <td>2.0</td>\n",
       "      <td>2.0</td>\n",
       "    </tr>\n",
       "    <tr>\n",
       "      <th>2</th>\n",
       "      <td>21455</td>\n",
       "      <td>75954</td>\n",
       "      <td>1</td>\n",
       "      <td>2013</td>\n",
       "      <td>ASIAN</td>\n",
       "      <td>NOT HISPANIC OR LATINO</td>\n",
       "      <td>17</td>\n",
       "      <td>Gardasil</td>\n",
       "      <td>11040.0</td>\n",
       "      <td>Nassau</td>\n",
       "      <td>New York</td>\n",
       "      <td>M</td>\n",
       "      <td>1</td>\n",
       "      <td>NaN</td>\n",
       "      <td>NaN</td>\n",
       "    </tr>\n",
       "    <tr>\n",
       "      <th>3</th>\n",
       "      <td>21656</td>\n",
       "      <td>0</td>\n",
       "      <td>1</td>\n",
       "      <td>2008</td>\n",
       "      <td>BLACK OR AFRICAN-AMERICAN</td>\n",
       "      <td>NOT HISPANIC OR LATINO</td>\n",
       "      <td>15</td>\n",
       "      <td>Gardasil</td>\n",
       "      <td>11520.0</td>\n",
       "      <td>Nassau</td>\n",
       "      <td>Broome</td>\n",
       "      <td>F</td>\n",
       "      <td>2</td>\n",
       "      <td>4.0</td>\n",
       "      <td>4.0</td>\n",
       "    </tr>\n",
       "    <tr>\n",
       "      <th>4</th>\n",
       "      <td>25161</td>\n",
       "      <td>1</td>\n",
       "      <td>1</td>\n",
       "      <td>2008</td>\n",
       "      <td>WHITE</td>\n",
       "      <td>NOT HISPANIC OR LATINO</td>\n",
       "      <td>15</td>\n",
       "      <td>Gardasil</td>\n",
       "      <td>11561.0</td>\n",
       "      <td>Nassau</td>\n",
       "      <td>Cayuga</td>\n",
       "      <td>F</td>\n",
       "      <td>1</td>\n",
       "      <td>NaN</td>\n",
       "      <td>NaN</td>\n",
       "    </tr>\n",
       "    <tr>\n",
       "      <th>...</th>\n",
       "      <td>...</td>\n",
       "      <td>...</td>\n",
       "      <td>...</td>\n",
       "      <td>...</td>\n",
       "      <td>...</td>\n",
       "      <td>...</td>\n",
       "      <td>...</td>\n",
       "      <td>...</td>\n",
       "      <td>...</td>\n",
       "      <td>...</td>\n",
       "      <td>...</td>\n",
       "      <td>...</td>\n",
       "      <td>...</td>\n",
       "      <td>...</td>\n",
       "      <td>...</td>\n",
       "    </tr>\n",
       "    <tr>\n",
       "      <th>473990</th>\n",
       "      <td>25255074</td>\n",
       "      <td>445067</td>\n",
       "      <td>1</td>\n",
       "      <td>2023</td>\n",
       "      <td>OTHER</td>\n",
       "      <td>UNKNOWN</td>\n",
       "      <td>10</td>\n",
       "      <td>Gardasil 9</td>\n",
       "      <td>11933.0</td>\n",
       "      <td>Suffolk</td>\n",
       "      <td>Suffolk</td>\n",
       "      <td>F</td>\n",
       "      <td>2</td>\n",
       "      <td>7.0</td>\n",
       "      <td>7.0</td>\n",
       "    </tr>\n",
       "    <tr>\n",
       "      <th>473991</th>\n",
       "      <td>25255370</td>\n",
       "      <td>449100</td>\n",
       "      <td>3</td>\n",
       "      <td>2023</td>\n",
       "      <td>UNKNOWN</td>\n",
       "      <td>HISPANIC OR LATINO</td>\n",
       "      <td>10</td>\n",
       "      <td>Gardasil 9</td>\n",
       "      <td>11742.0</td>\n",
       "      <td>Suffolk</td>\n",
       "      <td>Suffolk</td>\n",
       "      <td>F</td>\n",
       "      <td>1</td>\n",
       "      <td>NaN</td>\n",
       "      <td>NaN</td>\n",
       "    </tr>\n",
       "    <tr>\n",
       "      <th>473992</th>\n",
       "      <td>25255470</td>\n",
       "      <td>453062</td>\n",
       "      <td>5</td>\n",
       "      <td>2023</td>\n",
       "      <td>WHITE</td>\n",
       "      <td>NOT HISPANIC OR LATINO</td>\n",
       "      <td>10</td>\n",
       "      <td>Gardasil 9</td>\n",
       "      <td>11949.0</td>\n",
       "      <td>Suffolk</td>\n",
       "      <td>Suffolk</td>\n",
       "      <td>M</td>\n",
       "      <td>2</td>\n",
       "      <td>6.0</td>\n",
       "      <td>6.0</td>\n",
       "    </tr>\n",
       "    <tr>\n",
       "      <th>473993</th>\n",
       "      <td>25257514</td>\n",
       "      <td>433030</td>\n",
       "      <td>9</td>\n",
       "      <td>2022</td>\n",
       "      <td>OTHER</td>\n",
       "      <td>HISPANIC OR LATINO</td>\n",
       "      <td>13</td>\n",
       "      <td>Gardasil 9</td>\n",
       "      <td>11580.0</td>\n",
       "      <td>Nassau</td>\n",
       "      <td>Nassau</td>\n",
       "      <td>M</td>\n",
       "      <td>2</td>\n",
       "      <td>12.0</td>\n",
       "      <td>12.0</td>\n",
       "    </tr>\n",
       "    <tr>\n",
       "      <th>473994</th>\n",
       "      <td>25258136</td>\n",
       "      <td>460987</td>\n",
       "      <td>8</td>\n",
       "      <td>2023</td>\n",
       "      <td>OTHER</td>\n",
       "      <td>UNKNOWN</td>\n",
       "      <td>17</td>\n",
       "      <td>Gardasil 9</td>\n",
       "      <td>11575.0</td>\n",
       "      <td>Nassau</td>\n",
       "      <td>Nassau</td>\n",
       "      <td>M</td>\n",
       "      <td>1</td>\n",
       "      <td>NaN</td>\n",
       "      <td>NaN</td>\n",
       "    </tr>\n",
       "  </tbody>\n",
       "</table>\n",
       "<p>473995 rows × 15 columns</p>\n",
       "</div>"
      ],
      "text/plain": [
       "        client_id  level_0  vax_month  vax_year                  RACE_DESC  \\\n",
       "0            9910   243042          7      2017                      WHITE   \n",
       "1           12409   321936          6      2019                      OTHER   \n",
       "2           21455    75954          1      2013                      ASIAN   \n",
       "3           21656        0          1      2008  BLACK OR AFRICAN-AMERICAN   \n",
       "4           25161        1          1      2008                      WHITE   \n",
       "...           ...      ...        ...       ...                        ...   \n",
       "473990   25255074   445067          1      2023                      OTHER   \n",
       "473991   25255370   449100          3      2023                    UNKNOWN   \n",
       "473992   25255470   453062          5      2023                      WHITE   \n",
       "473993   25257514   433030          9      2022                      OTHER   \n",
       "473994   25258136   460987          8      2023                      OTHER   \n",
       "\n",
       "                ETHNICITY_DESC  PatientAge  Trade_name  PatientZip  \\\n",
       "0       NOT HISPANIC OR LATINO          24  Gardasil 9     11756.0   \n",
       "1       NOT HISPANIC OR LATINO          22    Gardasil     11590.0   \n",
       "2       NOT HISPANIC OR LATINO          17    Gardasil     11040.0   \n",
       "3       NOT HISPANIC OR LATINO          15    Gardasil     11520.0   \n",
       "4       NOT HISPANIC OR LATINO          15    Gardasil     11561.0   \n",
       "...                        ...         ...         ...         ...   \n",
       "473990                 UNKNOWN          10  Gardasil 9     11933.0   \n",
       "473991      HISPANIC OR LATINO          10  Gardasil 9     11742.0   \n",
       "473992  NOT HISPANIC OR LATINO          10  Gardasil 9     11949.0   \n",
       "473993      HISPANIC OR LATINO          13  Gardasil 9     11580.0   \n",
       "473994                 UNKNOWN          17  Gardasil 9     11575.0   \n",
       "\n",
       "       PatientCounty ProviderCounty GENDER  Doses  dose12gap  wholeSeriesGap  \n",
       "0             Nassau         Nassau      M      1        NaN             NaN  \n",
       "1             Nassau         Nassau      M      2        2.0             2.0  \n",
       "2             Nassau       New York      M      1        NaN             NaN  \n",
       "3             Nassau         Broome      F      2        4.0             4.0  \n",
       "4             Nassau         Cayuga      F      1        NaN             NaN  \n",
       "...              ...            ...    ...    ...        ...             ...  \n",
       "473990       Suffolk        Suffolk      F      2        7.0             7.0  \n",
       "473991       Suffolk        Suffolk      F      1        NaN             NaN  \n",
       "473992       Suffolk        Suffolk      M      2        6.0             6.0  \n",
       "473993        Nassau         Nassau      M      2       12.0            12.0  \n",
       "473994        Nassau         Nassau      M      1        NaN             NaN  \n",
       "\n",
       "[473995 rows x 15 columns]"
      ]
     },
     "execution_count": 188,
     "metadata": {},
     "output_type": "execute_result"
    }
   ],
   "source": []
  },
  {
   "cell_type": "markdown",
   "id": "12f52ad6",
   "metadata": {},
   "source": [
    "## Table B Series complete rate"
   ]
  },
  {
   "cell_type": "code",
   "execution_count": 176,
   "id": "8d7a5523",
   "metadata": {},
   "outputs": [
    {
     "name": "stdout",
     "output_type": "stream",
     "text": [
      "0.3650487611313167\n"
     ]
    }
   ],
   "source": [
    "#calculate rigously follow the recommend rules percentages. (2 dose in 6 - 12 month)\n",
    "# def calclulate_completion_rate:\n",
    "complete=[]\n",
    "for i in range(len(hpv_patients)):\n",
    "    obj = hpv_patients.iloc[i]\n",
    "    compl=0\n",
    "    if obj['PatientAge']<15:\n",
    "        if obj['Doses']==2:\n",
    "            if obj['dose12gap']<=12 and obj['dose12gap']>=6:\n",
    "                compl=1\n",
    "        elif obj['Doses']==3:\n",
    "            if obj['dose12gap']<3 and obj['wholeSeriesGap']>=5 and obj['wholeSeriesGap']-obj['dose12gap']>=3 :\n",
    "                compl=1\n",
    "    elif obj['PatientAge']>=15:\n",
    "        if obj['Doses']==3:\n",
    "            if obj['dose12gap']<=2 and obj['dose12gap']>=1 and obj['wholeSeriesGap']>6:\n",
    "                compl=1\n",
    "    complete.append(compl)\n",
    "\n",
    "    # print(complete)\n",
    "\n",
    "print(sum(complete)/len(hpv_patients))"
   ]
  },
  {
   "cell_type": "code",
   "execution_count": 177,
   "id": "d64df3db",
   "metadata": {},
   "outputs": [],
   "source": [
    "hpv_patients['rigiously_complete']=complete\n",
    "# note: rigously complete means \n",
    "# if first dose <15:\n",
    "# follows the [0,6-12] schedule\n",
    "# if first dose after 15:\n",
    "# follows the [0,1-2,6-~] schedule"
   ]
  },
  {
   "cell_type": "code",
   "execution_count": 179,
   "id": "e97e72ce",
   "metadata": {},
   "outputs": [],
   "source": [
    "appr_complete=[]\n",
    "for i in range(len(hpv_patients)):\n",
    "    obj = hpv_patients.iloc[i]\n",
    "    compl=0\n",
    "    if obj['PatientAge']<15:\n",
    "        if obj['Doses']==1:\n",
    "            compl=0\n",
    "        else:\n",
    "            if obj['dose12gap']<6:\n",
    "                if obj['Doses']==3:\n",
    "                    compl=1\n",
    "            else:\n",
    "                if obj['Doses']>=2:\n",
    "                    compl=1\n",
    "            \n",
    "    elif obj['PatientAge']>=15:\n",
    "        if obj['Doses']==3:\n",
    "            compl=1\n",
    "    appr_complete.append(compl)\n",
    "                "
   ]
  },
  {
   "cell_type": "code",
   "execution_count": 218,
   "id": "7e6c7ad5",
   "metadata": {},
   "outputs": [
    {
     "data": {
      "text/plain": [
       "410778"
      ]
     },
     "execution_count": 218,
     "metadata": {},
     "output_type": "execute_result"
    }
   ],
   "source": [
    "len(hpv_patients)"
   ]
  },
  {
   "cell_type": "code",
   "execution_count": 181,
   "id": "0ddee3a3",
   "metadata": {},
   "outputs": [
    {
     "name": "stdout",
     "output_type": "stream",
     "text": [
      "0.6773293603844412\n"
     ]
    }
   ],
   "source": [
    "print(sum(appr_complete)/len(hpv_patients))\n",
    "hpv_patients['appro_complete']=appr_complete\n",
    "#note: approximetely complete means:\n",
    "# if first dose <15:\n",
    "# follow[0,6-~] or [0,1-5,6-~]\n",
    "# if first dose >15:\n",
    "# follow 3 doses schedule no matter the schedule"
   ]
  },
  {
   "cell_type": "code",
   "execution_count": 209,
   "id": "6cd716c0",
   "metadata": {},
   "outputs": [
    {
     "data": {
      "text/html": [
       "<div>\n",
       "<style scoped>\n",
       "    .dataframe tbody tr th:only-of-type {\n",
       "        vertical-align: middle;\n",
       "    }\n",
       "\n",
       "    .dataframe tbody tr th {\n",
       "        vertical-align: top;\n",
       "    }\n",
       "\n",
       "    .dataframe thead th {\n",
       "        text-align: right;\n",
       "    }\n",
       "</style>\n",
       "<table border=\"1\" class=\"dataframe\">\n",
       "  <thead>\n",
       "    <tr style=\"text-align: right;\">\n",
       "      <th></th>\n",
       "      <th>client_id</th>\n",
       "      <th>vax_month</th>\n",
       "      <th>vax_year</th>\n",
       "      <th>RACE_DESC</th>\n",
       "      <th>ETHNICITY_DESC</th>\n",
       "      <th>PatientAge</th>\n",
       "      <th>Trade_name</th>\n",
       "      <th>PatientZip</th>\n",
       "      <th>PatientCounty</th>\n",
       "      <th>ProviderCounty</th>\n",
       "      <th>GENDER</th>\n",
       "      <th>Doses</th>\n",
       "      <th>dose12gap</th>\n",
       "      <th>wholeSeriesGap</th>\n",
       "      <th>rigiously_complete</th>\n",
       "      <th>appro_complete</th>\n",
       "    </tr>\n",
       "  </thead>\n",
       "  <tbody>\n",
       "    <tr>\n",
       "      <th>0</th>\n",
       "      <td>9910</td>\n",
       "      <td>7</td>\n",
       "      <td>2017</td>\n",
       "      <td>WHITE</td>\n",
       "      <td>NOT HISPANIC OR LATINO</td>\n",
       "      <td>24</td>\n",
       "      <td>Gardasil 9</td>\n",
       "      <td>11756.0</td>\n",
       "      <td>Nassau</td>\n",
       "      <td>Nassau</td>\n",
       "      <td>M</td>\n",
       "      <td>1</td>\n",
       "      <td>NaN</td>\n",
       "      <td>NaN</td>\n",
       "      <td>0</td>\n",
       "      <td>0</td>\n",
       "    </tr>\n",
       "    <tr>\n",
       "      <th>1</th>\n",
       "      <td>12409</td>\n",
       "      <td>6</td>\n",
       "      <td>2019</td>\n",
       "      <td>OTHER</td>\n",
       "      <td>NOT HISPANIC OR LATINO</td>\n",
       "      <td>22</td>\n",
       "      <td>Gardasil</td>\n",
       "      <td>11590.0</td>\n",
       "      <td>Nassau</td>\n",
       "      <td>Nassau</td>\n",
       "      <td>M</td>\n",
       "      <td>2</td>\n",
       "      <td>2.0</td>\n",
       "      <td>2.0</td>\n",
       "      <td>0</td>\n",
       "      <td>0</td>\n",
       "    </tr>\n",
       "    <tr>\n",
       "      <th>2</th>\n",
       "      <td>21455</td>\n",
       "      <td>1</td>\n",
       "      <td>2013</td>\n",
       "      <td>ASIAN</td>\n",
       "      <td>NOT HISPANIC OR LATINO</td>\n",
       "      <td>17</td>\n",
       "      <td>Gardasil</td>\n",
       "      <td>11040.0</td>\n",
       "      <td>Nassau</td>\n",
       "      <td>New York</td>\n",
       "      <td>M</td>\n",
       "      <td>1</td>\n",
       "      <td>NaN</td>\n",
       "      <td>NaN</td>\n",
       "      <td>0</td>\n",
       "      <td>0</td>\n",
       "    </tr>\n",
       "    <tr>\n",
       "      <th>3</th>\n",
       "      <td>21656</td>\n",
       "      <td>1</td>\n",
       "      <td>2008</td>\n",
       "      <td>BLACK OR AFRICAN-AMERICAN</td>\n",
       "      <td>NOT HISPANIC OR LATINO</td>\n",
       "      <td>15</td>\n",
       "      <td>Gardasil</td>\n",
       "      <td>11520.0</td>\n",
       "      <td>Nassau</td>\n",
       "      <td>Broome</td>\n",
       "      <td>F</td>\n",
       "      <td>2</td>\n",
       "      <td>4.0</td>\n",
       "      <td>4.0</td>\n",
       "      <td>0</td>\n",
       "      <td>0</td>\n",
       "    </tr>\n",
       "    <tr>\n",
       "      <th>4</th>\n",
       "      <td>25161</td>\n",
       "      <td>1</td>\n",
       "      <td>2008</td>\n",
       "      <td>WHITE</td>\n",
       "      <td>NOT HISPANIC OR LATINO</td>\n",
       "      <td>15</td>\n",
       "      <td>Gardasil</td>\n",
       "      <td>11561.0</td>\n",
       "      <td>Nassau</td>\n",
       "      <td>Cayuga</td>\n",
       "      <td>F</td>\n",
       "      <td>1</td>\n",
       "      <td>NaN</td>\n",
       "      <td>NaN</td>\n",
       "      <td>0</td>\n",
       "      <td>0</td>\n",
       "    </tr>\n",
       "    <tr>\n",
       "      <th>...</th>\n",
       "      <td>...</td>\n",
       "      <td>...</td>\n",
       "      <td>...</td>\n",
       "      <td>...</td>\n",
       "      <td>...</td>\n",
       "      <td>...</td>\n",
       "      <td>...</td>\n",
       "      <td>...</td>\n",
       "      <td>...</td>\n",
       "      <td>...</td>\n",
       "      <td>...</td>\n",
       "      <td>...</td>\n",
       "      <td>...</td>\n",
       "      <td>...</td>\n",
       "      <td>...</td>\n",
       "      <td>...</td>\n",
       "    </tr>\n",
       "    <tr>\n",
       "      <th>410773</th>\n",
       "      <td>23573852</td>\n",
       "      <td>8</td>\n",
       "      <td>2016</td>\n",
       "      <td>NATIVE HAWAIIAN OR OTHER PACIFIC</td>\n",
       "      <td>UNKNOWN</td>\n",
       "      <td>12</td>\n",
       "      <td>Gardasil</td>\n",
       "      <td>11790.0</td>\n",
       "      <td>Suffolk</td>\n",
       "      <td>Suffolk</td>\n",
       "      <td>F</td>\n",
       "      <td>2</td>\n",
       "      <td>61.0</td>\n",
       "      <td>61.0</td>\n",
       "      <td>0</td>\n",
       "      <td>1</td>\n",
       "    </tr>\n",
       "    <tr>\n",
       "      <th>410774</th>\n",
       "      <td>23574078</td>\n",
       "      <td>7</td>\n",
       "      <td>2018</td>\n",
       "      <td>WHITE</td>\n",
       "      <td>HISPANIC OR LATINO</td>\n",
       "      <td>14</td>\n",
       "      <td>Gardasil 9</td>\n",
       "      <td>11786.0</td>\n",
       "      <td>Suffolk</td>\n",
       "      <td>Suffolk</td>\n",
       "      <td>M</td>\n",
       "      <td>2</td>\n",
       "      <td>12.0</td>\n",
       "      <td>12.0</td>\n",
       "      <td>1</td>\n",
       "      <td>1</td>\n",
       "    </tr>\n",
       "    <tr>\n",
       "      <th>410775</th>\n",
       "      <td>23574745</td>\n",
       "      <td>7</td>\n",
       "      <td>2017</td>\n",
       "      <td>UNKNOWN</td>\n",
       "      <td>UNKNOWN</td>\n",
       "      <td>12</td>\n",
       "      <td>Gardasil 9</td>\n",
       "      <td>11510.0</td>\n",
       "      <td>Nassau</td>\n",
       "      <td>Nassau</td>\n",
       "      <td>F</td>\n",
       "      <td>2</td>\n",
       "      <td>13.0</td>\n",
       "      <td>13.0</td>\n",
       "      <td>0</td>\n",
       "      <td>1</td>\n",
       "    </tr>\n",
       "    <tr>\n",
       "      <th>410776</th>\n",
       "      <td>23577049</td>\n",
       "      <td>12</td>\n",
       "      <td>2019</td>\n",
       "      <td>WHITE</td>\n",
       "      <td>NOT HISPANIC OR LATINO</td>\n",
       "      <td>12</td>\n",
       "      <td>Unspecified</td>\n",
       "      <td>11791.0</td>\n",
       "      <td>Nassau</td>\n",
       "      <td>Nassau</td>\n",
       "      <td>F</td>\n",
       "      <td>2</td>\n",
       "      <td>6.0</td>\n",
       "      <td>6.0</td>\n",
       "      <td>1</td>\n",
       "      <td>1</td>\n",
       "    </tr>\n",
       "    <tr>\n",
       "      <th>410777</th>\n",
       "      <td>23577071</td>\n",
       "      <td>6</td>\n",
       "      <td>2019</td>\n",
       "      <td>ASIAN</td>\n",
       "      <td>NOT HISPANIC OR LATINO</td>\n",
       "      <td>12</td>\n",
       "      <td>Gardasil 9</td>\n",
       "      <td>11753.0</td>\n",
       "      <td>Nassau</td>\n",
       "      <td>New York</td>\n",
       "      <td>M</td>\n",
       "      <td>2</td>\n",
       "      <td>7.0</td>\n",
       "      <td>7.0</td>\n",
       "      <td>1</td>\n",
       "      <td>1</td>\n",
       "    </tr>\n",
       "  </tbody>\n",
       "</table>\n",
       "<p>410778 rows × 16 columns</p>\n",
       "</div>"
      ],
      "text/plain": [
       "        client_id  vax_month  vax_year                         RACE_DESC  \\\n",
       "0            9910          7      2017                             WHITE   \n",
       "1           12409          6      2019                             OTHER   \n",
       "2           21455          1      2013                             ASIAN   \n",
       "3           21656          1      2008         BLACK OR AFRICAN-AMERICAN   \n",
       "4           25161          1      2008                             WHITE   \n",
       "...           ...        ...       ...                               ...   \n",
       "410773   23573852          8      2016  NATIVE HAWAIIAN OR OTHER PACIFIC   \n",
       "410774   23574078          7      2018                             WHITE   \n",
       "410775   23574745          7      2017                           UNKNOWN   \n",
       "410776   23577049         12      2019                             WHITE   \n",
       "410777   23577071          6      2019                             ASIAN   \n",
       "\n",
       "                ETHNICITY_DESC  PatientAge   Trade_name  PatientZip  \\\n",
       "0       NOT HISPANIC OR LATINO          24   Gardasil 9     11756.0   \n",
       "1       NOT HISPANIC OR LATINO          22     Gardasil     11590.0   \n",
       "2       NOT HISPANIC OR LATINO          17     Gardasil     11040.0   \n",
       "3       NOT HISPANIC OR LATINO          15     Gardasil     11520.0   \n",
       "4       NOT HISPANIC OR LATINO          15     Gardasil     11561.0   \n",
       "...                        ...         ...          ...         ...   \n",
       "410773                 UNKNOWN          12     Gardasil     11790.0   \n",
       "410774      HISPANIC OR LATINO          14   Gardasil 9     11786.0   \n",
       "410775                 UNKNOWN          12   Gardasil 9     11510.0   \n",
       "410776  NOT HISPANIC OR LATINO          12  Unspecified     11791.0   \n",
       "410777  NOT HISPANIC OR LATINO          12   Gardasil 9     11753.0   \n",
       "\n",
       "       PatientCounty ProviderCounty GENDER  Doses  dose12gap  wholeSeriesGap  \\\n",
       "0             Nassau         Nassau      M      1        NaN             NaN   \n",
       "1             Nassau         Nassau      M      2        2.0             2.0   \n",
       "2             Nassau       New York      M      1        NaN             NaN   \n",
       "3             Nassau         Broome      F      2        4.0             4.0   \n",
       "4             Nassau         Cayuga      F      1        NaN             NaN   \n",
       "...              ...            ...    ...    ...        ...             ...   \n",
       "410773       Suffolk        Suffolk      F      2       61.0            61.0   \n",
       "410774       Suffolk        Suffolk      M      2       12.0            12.0   \n",
       "410775        Nassau         Nassau      F      2       13.0            13.0   \n",
       "410776        Nassau         Nassau      F      2        6.0             6.0   \n",
       "410777        Nassau       New York      M      2        7.0             7.0   \n",
       "\n",
       "        rigiously_complete  appro_complete  \n",
       "0                        0               0  \n",
       "1                        0               0  \n",
       "2                        0               0  \n",
       "3                        0               0  \n",
       "4                        0               0  \n",
       "...                    ...             ...  \n",
       "410773                   0               1  \n",
       "410774                   1               1  \n",
       "410775                   0               1  \n",
       "410776                   1               1  \n",
       "410777                   1               1  \n",
       "\n",
       "[410778 rows x 16 columns]"
      ]
     },
     "execution_count": 209,
     "metadata": {},
     "output_type": "execute_result"
    }
   ],
   "source": [
    "hpv_patients"
   ]
  },
  {
   "cell_type": "code",
   "execution_count": 210,
   "id": "faf42742",
   "metadata": {},
   "outputs": [],
   "source": [
    "complete_patients = hpv_patients[hpv_patients['rigiously_complete']==1]\n",
    "avg_time = sum(complete_patients['wholeSeriesGap'])/len(complete_patients)"
   ]
  },
  {
   "cell_type": "code",
   "execution_count": 212,
   "id": "b8bc16a9",
   "metadata": {},
   "outputs": [
    {
     "name": "stdout",
     "output_type": "stream",
     "text": [
      "9.442292041727294\n"
     ]
    }
   ],
   "source": [
    "female_com = complete_patients[complete_patients['GENDER']=='F']\n",
    "avg_time = sum(female_com['wholeSeriesGap'])/len(female_com)\n",
    "print(avg_time)"
   ]
  },
  {
   "cell_type": "code",
   "execution_count": 213,
   "id": "f98041ba",
   "metadata": {},
   "outputs": [
    {
     "name": "stdout",
     "output_type": "stream",
     "text": [
      "9.615509942830542\n"
     ]
    }
   ],
   "source": [
    "male_com = complete_patients[complete_patients['GENDER']=='M']\n",
    "avg_time = sum(male_com['wholeSeriesGap'])/len(male_com)\n",
    "print(avg_time)"
   ]
  },
  {
   "cell_type": "code",
   "execution_count": 189,
   "id": "8a1801ba",
   "metadata": {},
   "outputs": [
    {
     "name": "stdout",
     "output_type": "stream",
     "text": [
      "0.4887214182981596 0.7878606651207843 0.12119282913489503 0.45938535441957373\n"
     ]
    }
   ],
   "source": [
    "hpv_patients_u15 = hpv_patients[hpv_patients['PatientAge']<15]\n",
    "hpv_patients_o15 = hpv_patients[hpv_patients['PatientAge']>=15]\n",
    "u15_rate_r = sum(hpv_patients_u15['rigiously_complete'])/len(hpv_patients_u15)\n",
    "u15_rate_a = sum(hpv_patients_u15['appro_complete'])/len(hpv_patients_u15)\n",
    "o15_rate_r = sum(hpv_patients_o15['rigiously_complete'])/len(hpv_patients_o15)\n",
    "o15_rate_a = sum(hpv_patients_o15['appro_complete'])/len(hpv_patients_o15)\n",
    "print(u15_rate_r,u15_rate_a,o15_rate_r,o15_rate_a)"
   ]
  },
  {
   "cell_type": "code",
   "execution_count": 186,
   "id": "784cb937",
   "metadata": {},
   "outputs": [
    {
     "name": "stdout",
     "output_type": "stream",
     "text": [
      "0.3551581971109136 0.6689950195292319 0.3742961581774881 0.6852419369726955\n"
     ]
    }
   ],
   "source": [
    "hpv_patients_male = hpv_patients[hpv_patients['GENDER']=='M']\n",
    "hpv_patients_female = hpv_patients[hpv_patients['GENDER']=='F']\n",
    "male_rate_r = sum(hpv_patients_male['rigiously_complete'])/len(hpv_patients_male)\n",
    "male_rate_a = sum(hpv_patients_male['appro_complete'])/len(hpv_patients_male)\n",
    "female_rate_r = sum(hpv_patients_female['rigiously_complete'])/len(hpv_patients_female)\n",
    "female_rate_a = sum(hpv_patients_female['appro_complete'])/len(hpv_patients_female)\n",
    "print(male_rate_r,male_rate_a,female_rate_r,female_rate_a)"
   ]
  },
  {
   "cell_type": "code",
   "execution_count": 190,
   "id": "9a881394",
   "metadata": {},
   "outputs": [
    {
     "name": "stdout",
     "output_type": "stream",
     "text": [
      "0.4879945429740791 0.7907471310488725 0.11507556638528704 0.4489455515911003\n"
     ]
    }
   ],
   "source": [
    "#male:\n",
    "hpv_patients_u15 = hpv_patients_male[hpv_patients_male['PatientAge']<15]\n",
    "hpv_patients_o15 = hpv_patients_male[hpv_patients_male['PatientAge']>=15]\n",
    "u15_rate_r = sum(hpv_patients_u15['rigiously_complete'])/len(hpv_patients_u15)\n",
    "u15_rate_a = sum(hpv_patients_u15['appro_complete'])/len(hpv_patients_u15)\n",
    "o15_rate_r = sum(hpv_patients_o15['rigiously_complete'])/len(hpv_patients_o15)\n",
    "o15_rate_a = sum(hpv_patients_o15['appro_complete'])/len(hpv_patients_o15)\n",
    "print(u15_rate_r,u15_rate_a,o15_rate_r,o15_rate_a)"
   ]
  },
  {
   "cell_type": "code",
   "execution_count": 191,
   "id": "424e14e3",
   "metadata": {},
   "outputs": [
    {
     "name": "stdout",
     "output_type": "stream",
     "text": [
      "0.48952649181482133 0.7856349775906192 0.1274905020156028 0.4702154809895305\n"
     ]
    }
   ],
   "source": [
    "# female\n",
    "hpv_patients_u15 = hpv_patients_female[hpv_patients_female['PatientAge']<15]\n",
    "hpv_patients_o15 = hpv_patients_female[hpv_patients_female['PatientAge']>=15]\n",
    "u15_rate_r = sum(hpv_patients_u15['rigiously_complete'])/len(hpv_patients_u15)\n",
    "u15_rate_a = sum(hpv_patients_u15['appro_complete'])/len(hpv_patients_u15)\n",
    "o15_rate_r = sum(hpv_patients_o15['rigiously_complete'])/len(hpv_patients_o15)\n",
    "o15_rate_a = sum(hpv_patients_o15['appro_complete'])/len(hpv_patients_o15)\n",
    "print(u15_rate_r,u15_rate_a,o15_rate_r,o15_rate_a)"
   ]
  },
  {
   "cell_type": "code",
   "execution_count": 197,
   "id": "bd76fa13",
   "metadata": {},
   "outputs": [
    {
     "name": "stdout",
     "output_type": "stream",
     "text": [
      "0.3777650039386004 0.698371335504886 0.3953884307280493 0.7049028677150786\n"
     ]
    }
   ],
   "source": [
    "# Hispanic or not \n",
    "hpv_patients_male = hpv_patients[hpv_patients['ETHNICITY_DESC']=='NOT HISPANIC OR LATINO']\n",
    "hpv_patients_female = hpv_patients[hpv_patients['ETHNICITY_DESC']=='HISPANIC OR LATINO']\n",
    "male_rate_r = sum(hpv_patients_male['rigiously_complete'])/len(hpv_patients_male)\n",
    "male_rate_a = sum(hpv_patients_male['appro_complete'])/len(hpv_patients_male)\n",
    "female_rate_r = sum(hpv_patients_female['rigiously_complete'])/len(hpv_patients_female)\n",
    "female_rate_a = sum(hpv_patients_female['appro_complete'])/len(hpv_patients_female)\n",
    "print(male_rate_r,male_rate_a,female_rate_r,female_rate_a)"
   ]
  },
  {
   "cell_type": "code",
   "execution_count": 215,
   "id": "b9955911",
   "metadata": {},
   "outputs": [
    {
     "name": "stdout",
     "output_type": "stream",
     "text": [
      "9.610896781740797\n"
     ]
    }
   ],
   "source": [
    "male_com = complete_patients[complete_patients['ETHNICITY_DESC']=='HISPANIC OR LATINO']\n",
    "avg_time = sum(male_com['wholeSeriesGap'])/len(male_com)\n",
    "print(avg_time)"
   ]
  },
  {
   "cell_type": "code",
   "execution_count": 195,
   "id": "7e0f4704",
   "metadata": {},
   "outputs": [
    {
     "name": "stdout",
     "output_type": "stream",
     "text": [
      "0.5077141762999214 0.803468620794849 0.12994504134277368 0.4979452393919889\n"
     ]
    }
   ],
   "source": [
    "# male,nonhis:\n",
    "hpv_patients_u15 = hpv_patients_male[hpv_patients_male['PatientAge']<15]\n",
    "hpv_patients_o15 = hpv_patients_male[hpv_patients_male['PatientAge']>=15]\n",
    "u15_rate_r = sum(hpv_patients_u15['rigiously_complete'])/len(hpv_patients_u15)\n",
    "u15_rate_a = sum(hpv_patients_u15['appro_complete'])/len(hpv_patients_u15)\n",
    "o15_rate_r = sum(hpv_patients_o15['rigiously_complete'])/len(hpv_patients_o15)\n",
    "o15_rate_a = sum(hpv_patients_o15['appro_complete'])/len(hpv_patients_o15)\n",
    "print(u15_rate_r,u15_rate_a,o15_rate_r,o15_rate_a)"
   ]
  },
  {
   "cell_type": "code",
   "execution_count": 196,
   "id": "93c95c29",
   "metadata": {},
   "outputs": [
    {
     "name": "stdout",
     "output_type": "stream",
     "text": [
      "0.48891746827469457 0.7977716827863152 0.11494117184118365 0.42643528902530203\n"
     ]
    }
   ],
   "source": [
    "# female\n",
    "hpv_patients_u15 = hpv_patients_female[hpv_patients_female['PatientAge']<15]\n",
    "hpv_patients_o15 = hpv_patients_female[hpv_patients_female['PatientAge']>=15]\n",
    "u15_rate_r = sum(hpv_patients_u15['rigiously_complete'])/len(hpv_patients_u15)\n",
    "u15_rate_a = sum(hpv_patients_u15['appro_complete'])/len(hpv_patients_u15)\n",
    "o15_rate_r = sum(hpv_patients_o15['rigiously_complete'])/len(hpv_patients_o15)\n",
    "o15_rate_a = sum(hpv_patients_o15['appro_complete'])/len(hpv_patients_o15)\n",
    "print(u15_rate_r,u15_rate_a,o15_rate_r,o15_rate_a)"
   ]
  },
  {
   "cell_type": "code",
   "execution_count": 578,
   "id": "2846ef75",
   "metadata": {},
   "outputs": [
    {
     "data": {
      "text/plain": [
       "array([0.15968099, 0.20932137, 0.23643525, 0.2864307 , 0.33735764,\n",
       "       0.37287536, 0.41321746, 0.45418354, 0.44994568, 0.43125822,\n",
       "       0.48500949, 0.53976302])"
      ]
     },
     "execution_count": 578,
     "metadata": {},
     "output_type": "execute_result"
    }
   ],
   "source": [
    "hpv_Rate"
   ]
  },
  {
   "cell_type": "code",
   "execution_count": null,
   "id": "888e5cae",
   "metadata": {},
   "outputs": [],
   "source": []
  },
  {
   "cell_type": "code",
   "execution_count": 581,
   "id": "332d70d2",
   "metadata": {},
   "outputs": [
    {
     "name": "stdout",
     "output_type": "stream",
     "text": [
      "                            OLS Regression Results                            \n",
      "==============================================================================\n",
      "Dep. Variable:                   Data   R-squared:                       0.951\n",
      "Model:                            OLS   Adj. R-squared:                  0.946\n",
      "Method:                 Least Squares   F-statistic:                     194.3\n",
      "Date:                Tue, 02 Apr 2024   Prob (F-statistic):           7.05e-08\n",
      "Time:                        10:28:45   Log-Likelihood:                 27.104\n",
      "No. Observations:                  12   AIC:                            -50.21\n",
      "Df Residuals:                      10   BIC:                            -49.24\n",
      "Df Model:                           1                                         \n",
      "Covariance Type:            nonrobust                                         \n",
      "==============================================================================\n",
      "                 coef    std err          t      P>|t|      [0.025      0.975]\n",
      "------------------------------------------------------------------------------\n",
      "Constant     -64.7756      4.673    -13.862      0.000     -75.187     -54.364\n",
      "Year           0.0323      0.002     13.940      0.000       0.027       0.037\n",
      "==============================================================================\n",
      "Omnibus:                        0.303   Durbin-Watson:                   0.787\n",
      "Prob(Omnibus):                  0.859   Jarque-Bera (JB):                0.439\n",
      "Skew:                          -0.063   Prob(JB):                        0.803\n",
      "Kurtosis:                       2.071   Cond. No.                     1.18e+06\n",
      "==============================================================================\n",
      "\n",
      "Notes:\n",
      "[1] Standard Errors assume that the covariance matrix of the errors is correctly specified.\n",
      "[2] The condition number is large, 1.18e+06. This might indicate that there are\n",
      "strong multicollinearity or other numerical problems.\n",
      "P<0.05 Linear, 时间系数显著不为零，存在线性趋势\n"
     ]
    },
    {
     "name": "stderr",
     "output_type": "stream",
     "text": [
      "/Users/zihanding/opt/anaconda3/lib/python3.9/site-packages/scipy/stats/stats.py:1541: UserWarning:\n",
      "\n",
      "kurtosistest only valid for n>=20 ... continuing anyway, n=12\n",
      "\n"
     ]
    }
   ],
   "source": [
    "import numpy as np\n",
    "import pandas as pd\n",
    "import statsmodels.api as sm\n",
    "\n",
    "years = np.arange(2012, 2024)\n",
    "data = np.array([0.15968099, 0.20932137, 0.23643525, 0.2864307 , 0.33735764,\n",
    "       0.37287536, 0.41321746, 0.45418354, 0.44994568, 0.43125822,\n",
    "       0.48500949, 0.53976302]) \n",
    "df = pd.DataFrame({'Year': years, 'Data': data})\n",
    "\n",
    "df['Constant'] = 1\n",
    "\n",
    "model = sm.OLS(df['Data'], df[['Constant', 'Year']])\n",
    "result = model.fit()\n",
    "\n",
    "\n",
    "print(result.summary())\n",
    "\n",
    "\n",
    "p_value = result.pvalues['Year']\n",
    "if p_value < 0.05:  \n",
    "    print(\"P<0.05 Linear, 时间系数显著不为零，存在线性趋势\")\n",
    "else:\n",
    "    print(\"Non Linear 时间系数不显著，无法确定是否存在线性趋势\")\n"
   ]
  },
  {
   "cell_type": "code",
   "execution_count": 582,
   "id": "ca06eb8f",
   "metadata": {},
   "outputs": [
    {
     "data": {
      "text/plain": [
       "7.054834367681424e-08"
      ]
     },
     "execution_count": 582,
     "metadata": {},
     "output_type": "execute_result"
    }
   ],
   "source": [
    "p_value"
   ]
  },
  {
   "cell_type": "code",
   "execution_count": 224,
   "id": "dbc48290",
   "metadata": {},
   "outputs": [
    {
     "name": "stdout",
     "output_type": "stream",
     "text": [
      "                            OLS Regression Results                            \n",
      "==============================================================================\n",
      "Dep. Variable:                   Data   R-squared:                       0.919\n",
      "Model:                            OLS   Adj. R-squared:                  0.909\n",
      "Method:                 Least Squares   F-statistic:                     90.66\n",
      "Date:                Fri, 08 Mar 2024   Prob (F-statistic):           1.22e-05\n",
      "Time:                        13:36:14   Log-Likelihood:                 20.015\n",
      "No. Observations:                  10   AIC:                            -36.03\n",
      "Df Residuals:                       8   BIC:                            -35.42\n",
      "Df Model:                           1                                         \n",
      "Covariance Type:            nonrobust                                         \n",
      "==============================================================================\n",
      "                 coef    std err          t      P>|t|      [0.025      0.975]\n",
      "------------------------------------------------------------------------------\n",
      "Constant     -76.8669      8.116     -9.471      0.000     -95.583     -58.150\n",
      "Year           0.0383      0.004      9.522      0.000       0.029       0.048\n",
      "==============================================================================\n",
      "Omnibus:                        0.768   Durbin-Watson:                   0.676\n",
      "Prob(Omnibus):                  0.681   Jarque-Bera (JB):                0.661\n",
      "Skew:                          -0.478   Prob(JB):                        0.719\n",
      "Kurtosis:                       2.181   Cond. No.                     1.42e+06\n",
      "==============================================================================\n",
      "\n",
      "Notes:\n",
      "[1] Standard Errors assume that the covariance matrix of the errors is correctly specified.\n",
      "[2] The condition number is large, 1.42e+06. This might indicate that there are\n",
      "strong multicollinearity or other numerical problems.\n",
      "t统计量: 9.521507874138916\n",
      "t检验p值: 1.2225466572618478e-05\n",
      "时间系数显著不为零，存在线性趋势\n",
      "F统计量: 90.65911219728417\n",
      "F检验p值: 1.2225466572621076e-05\n",
      "模型整体显著\n"
     ]
    },
    {
     "name": "stderr",
     "output_type": "stream",
     "text": [
      "/Users/zihanding/opt/anaconda3/lib/python3.9/site-packages/scipy/stats/stats.py:1541: UserWarning:\n",
      "\n",
      "kurtosistest only valid for n>=20 ... continuing anyway, n=10\n",
      "\n"
     ]
    }
   ],
   "source": [
    "# import numpy as np\n",
    "# import pandas as pd\n",
    "# import statsmodels.api as sm\n",
    "\n",
    "# # 创建示例数据\n",
    "# years = np.arange(2012, 2022)\n",
    "# data = np.random.randn(10)  # 这里假设数据为随机生成的，您应该使用您自己的数据\n",
    "# df = pd.DataFrame({'Year': years, 'Data': data})\n",
    "\n",
    "# # 添加常数列\n",
    "# df['Constant'] = 1\n",
    "\n",
    "model = sm.OLS(df['Data'], df[['Constant', 'Year']])\n",
    "result = model.fit()\n",
    "\n",
    "# 打印回归结果摘要\n",
    "print(result.summary())\n",
    "\n",
    "# 执行t检验\n",
    "t_statistic = result.tvalues['Year']\n",
    "p_value_t = result.pvalues['Year']\n",
    "print(\"t统计量:\", t_statistic)\n",
    "print(\"t检验p值:\", p_value_t)\n",
    "if p_value_t < 0.05:  # 假设显著性水平为0.05\n",
    "    print(\"时间系数显著不为零，存在线性趋势\")\n",
    "else:\n",
    "    print(\"时间系数不显著，无法确定是否存在线性趋势\")\n",
    "\n",
    "# 执行F检验\n",
    "f_statistic = result.fvalue\n",
    "p_value_f = result.f_pvalue\n",
    "print(\"F统计量:\", f_statistic)\n",
    "print(\"F检验p值:\", p_value_f)\n",
    "if p_value_f < 0.05:  # 假设显著性水平为0.05\n",
    "    print(\"模型整体显著\")\n",
    "else:\n",
    "    print(\"模型整体不显著\")\n"
   ]
  }
 ],
 "metadata": {
  "kernelspec": {
   "display_name": "Python 3 (ipykernel)",
   "language": "python",
   "name": "python3"
  },
  "language_info": {
   "codemirror_mode": {
    "name": "ipython",
    "version": 3
   },
   "file_extension": ".py",
   "mimetype": "text/x-python",
   "name": "python",
   "nbconvert_exporter": "python",
   "pygments_lexer": "ipython3",
   "version": "3.9.7"
  }
 },
 "nbformat": 4,
 "nbformat_minor": 5
}
