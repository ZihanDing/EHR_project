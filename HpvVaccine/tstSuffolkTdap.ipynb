{
 "cells": [
  {
   "cell_type": "code",
   "execution_count": 1,
   "id": "b05ffccd",
   "metadata": {},
   "outputs": [],
   "source": [
    "import pandas as pd\n",
    "import numpy as np\n",
    "\n",
    "import matplotlib.pyplot as plt\n",
    "\n",
    "import plotly.express as px\n",
    "\n",
    "from scipy import stats\n",
    "\n",
    "import seaborn as sns\n",
    "\n",
    "plt.rcParams['font.family']=['Times New Roman']"
   ]
  },
  {
   "cell_type": "code",
   "execution_count": 22,
   "id": "9fa0ab5e",
   "metadata": {},
   "outputs": [],
   "source": [
    "def calamount(df,years,start,end):\n",
    "    rate = []\n",
    "    \n",
    "    print(len(df))\n",
    "    for year in years:\n",
    "        lst = list(df[year])\n",
    "        print('year',year,',total:',len(lst))\n",
    "        count = 0\n",
    "        for i in range(len(lst)):\n",
    "            if lst[i]:\n",
    "                if lst[i]<=end and lst[i]>=start:\n",
    "                    count += 1\n",
    "        print(count)\n",
    "        rate.append(count)\n",
    "    return np.array(rate)[4:]"
   ]
  },
  {
   "cell_type": "code",
   "execution_count": 21,
   "id": "2e52a51a",
   "metadata": {},
   "outputs": [
    {
     "data": {
      "text/plain": [
       "929510"
      ]
     },
     "execution_count": 21,
     "metadata": {},
     "output_type": "execute_result"
    }
   ],
   "source": [
    "len(df_age_tdap['2018'])"
   ]
  },
  {
   "cell_type": "code",
   "execution_count": 3,
   "id": "b71143e2",
   "metadata": {},
   "outputs": [],
   "source": [
    "file_address = '../Data/Merged_data/Ageout_tdap.csv'\n",
    "\n",
    "df_age_tdap = pd.read_csv(file_address)"
   ]
  },
  {
   "cell_type": "code",
   "execution_count": 23,
   "id": "7ff0751a",
   "metadata": {},
   "outputs": [
    {
     "name": "stdout",
     "output_type": "stream",
     "text": [
      "429425\n",
      "year 2008 ,total: 429425\n",
      "19567\n",
      "year 2009 ,total: 429425\n",
      "40336\n",
      "year 2010 ,total: 429425\n",
      "61585\n",
      "year 2011 ,total: 429425\n",
      "83200\n",
      "year 2012 ,total: 429425\n",
      "103516\n",
      "year 2013 ,total: 429425\n",
      "125100\n",
      "year 2014 ,total: 429425\n",
      "155167\n",
      "year 2015 ,total: 429425\n",
      "187190\n",
      "year 2016 ,total: 429425\n",
      "221420\n",
      "year 2017 ,total: 429425\n",
      "256007\n",
      "year 2018 ,total: 429425\n",
      "292412\n",
      "year 2019 ,total: 429425\n",
      "337858\n",
      "year 2020 ,total: 429425\n",
      "376998\n",
      "year 2021 ,total: 429425\n",
      "429425\n",
      "year 2022 ,total: 429425\n",
      "429425\n",
      "year 2023 ,total: 429425\n",
      "429425\n"
     ]
    }
   ],
   "source": [
    "years = np.array((df_age_tdap.columns))[6:]\n",
    "# suffolk\n",
    "df_suffolk_tdap = df_age_tdap[df_age_tdap['PatientCounty']=='Suffolk']\n",
    "\n",
    "tdap_amount = calamount(df_suffolk_tdap,years,0,150)\n",
    "\n"
   ]
  },
  {
   "cell_type": "code",
   "execution_count": 9,
   "id": "fe29cc78",
   "metadata": {},
   "outputs": [
    {
     "data": {
      "text/plain": [
       "array(['2008', '2009', '2010', '2011', '2012', '2013', '2014', '2015',\n",
       "       '2016', '2017', '2018', '2019', '2020', '2021', '2022', '2023'],\n",
       "      dtype=object)"
      ]
     },
     "execution_count": 9,
     "metadata": {},
     "output_type": "execute_result"
    }
   ],
   "source": [
    "years"
   ]
  },
  {
   "cell_type": "code",
   "execution_count": 7,
   "id": "06737a73",
   "metadata": {},
   "outputs": [
    {
     "data": {
      "text/plain": [
       "array([103516, 125100, 155167, 187190, 221420, 256007, 292412, 337858,\n",
       "       376998, 429425, 429425, 429425])"
      ]
     },
     "execution_count": 7,
     "metadata": {},
     "output_type": "execute_result"
    }
   ],
   "source": [
    "tdap_amount"
   ]
  },
  {
   "cell_type": "code",
   "execution_count": 8,
   "id": "55e11cb0",
   "metadata": {},
   "outputs": [],
   "source": [
    "# 问题来了！怎么会这样"
   ]
  },
  {
   "cell_type": "code",
   "execution_count": null,
   "id": "dcf52356",
   "metadata": {},
   "outputs": [],
   "source": []
  },
  {
   "cell_type": "code",
   "execution_count": null,
   "id": "ac18638f",
   "metadata": {},
   "outputs": [],
   "source": []
  },
  {
   "cell_type": "code",
   "execution_count": null,
   "id": "caf49b17",
   "metadata": {},
   "outputs": [],
   "source": []
  }
 ],
 "metadata": {
  "kernelspec": {
   "display_name": "Python 3 (ipykernel)",
   "language": "python",
   "name": "python3"
  },
  "language_info": {
   "codemirror_mode": {
    "name": "ipython",
    "version": 3
   },
   "file_extension": ".py",
   "mimetype": "text/x-python",
   "name": "python",
   "nbconvert_exporter": "python",
   "pygments_lexer": "ipython3",
   "version": "3.9.7"
  }
 },
 "nbformat": 4,
 "nbformat_minor": 5
}
