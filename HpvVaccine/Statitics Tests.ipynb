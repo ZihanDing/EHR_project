{
 "cells": [
  {
   "cell_type": "code",
   "execution_count": null,
   "id": "b61cb1db",
   "metadata": {},
   "outputs": [],
   "source": [
    "total= [16856, 25506, 36355, 51701, 75954, 109540, 143808, 183751, 227304, 268268,\n",
    "        310072, 351339, 381998, 410773, 443121, 473995]"
   ]
  },
  {
   "cell_type": "code",
   "execution_count": null,
   "id": "f36e2397",
   "metadata": {},
   "outputs": [],
   "source": [
    "female=[16684, 25218, 33569, 43733, 55221, 70823, 86802, 106035,\n",
    " 126958, 146873, 166948, 187044, 202339, 216664, 232859, 248334]"
   ]
  },
  {
   "cell_type": "code",
   "execution_count": null,
   "id": "e64ad0fd",
   "metadata": {},
   "outputs": [],
   "source": [
    "male = [122, 223, 2693, 7849, 20574, 38493, 56711, 77367, 99946,\n",
    " 120951, 142650, 163788, 179135, 193555, 209654, 225007]"
   ]
  }
 ],
 "metadata": {
  "kernelspec": {
   "display_name": "Python 3 (ipykernel)",
   "language": "python",
   "name": "python3"
  },
  "language_info": {
   "codemirror_mode": {
    "name": "ipython",
    "version": 3
   },
   "file_extension": ".py",
   "mimetype": "text/x-python",
   "name": "python",
   "nbconvert_exporter": "python",
   "pygments_lexer": "ipython3",
   "version": "3.9.7"
  }
 },
 "nbformat": 4,
 "nbformat_minor": 5
}
