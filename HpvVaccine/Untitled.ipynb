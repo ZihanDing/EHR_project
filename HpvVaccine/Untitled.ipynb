{
 "cells": [
  {
   "cell_type": "code",
   "execution_count": 2,
   "id": "a36e1f91-daac-4878-b058-b5e19c9137d7",
   "metadata": {},
   "outputs": [],
   "source": [
    "import pandas as pd\n",
    "import numpy as np\n",
    "\n",
    "import matplotlib.pyplot as plt\n",
    "\n",
    "import plotly.express as px\n",
    "\n",
    "from scipy import stats\n",
    "\n",
    "import seaborn as sns\n",
    "\n",
    "plt.rcParams['font.family']=['Times New Roman']"
   ]
  },
  {
   "cell_type": "code",
   "execution_count": 23,
   "id": "afe7c7a5-8ffc-4518-af2f-453a8e75021f",
   "metadata": {},
   "outputs": [],
   "source": [
    "file_address = '../Data/Merged_Data/AgeOut_tdap.csv'\n",
    "\n",
    "df_age_tdap = pd.read_csv(file_address)\n",
    "\n",
    "\n",
    "file_address = '../Data/Merged_Data/AgeOut_hpv.csv'\n",
    "\n",
    "df_age_hpv = pd.read_csv(file_address)\n",
    "\n",
    "\n",
    "file_address = '../Data/Merged_Data/AgeOut_total.csv'\n",
    "\n",
    "df_age_total = pd.read_csv(file_address)\n",
    "\n"
   ]
  },
  {
   "cell_type": "code",
   "execution_count": 24,
   "id": "f20f1d4c-330f-4ba2-ab80-1ac4d2c5adfd",
   "metadata": {},
   "outputs": [
    {
     "data": {
      "text/plain": [
       "1119746"
      ]
     },
     "execution_count": 24,
     "metadata": {},
     "output_type": "execute_result"
    }
   ],
   "source": [
    "len(df_age_total)"
   ]
  },
  {
   "cell_type": "code",
   "execution_count": 19,
   "id": "8c671029-4c4d-4cd2-aba1-f516b6e3a2f6",
   "metadata": {},
   "outputs": [
    {
     "data": {
      "text/plain": [
       "888277"
      ]
     },
     "execution_count": 19,
     "metadata": {},
     "output_type": "execute_result"
    }
   ],
   "source": [
    "len(df_age_total)"
   ]
  },
  {
   "cell_type": "code",
   "execution_count": 25,
   "id": "e3025146-73cb-4c46-855a-8675bc6e640a",
   "metadata": {},
   "outputs": [
    {
     "data": {
      "text/plain": [
       "474000"
      ]
     },
     "execution_count": 25,
     "metadata": {},
     "output_type": "execute_result"
    }
   ],
   "source": [
    "len(df_age_hpv)"
   ]
  },
  {
   "cell_type": "code",
   "execution_count": 20,
   "id": "2f979420-c825-4fcf-8079-15587b237b51",
   "metadata": {},
   "outputs": [
    {
     "data": {
      "text/plain": [
       "410778"
      ]
     },
     "execution_count": 20,
     "metadata": {},
     "output_type": "execute_result"
    }
   ],
   "source": [
    "len(df_age_hpv)"
   ]
  },
  {
   "cell_type": "code",
   "execution_count": 26,
   "id": "9f1c7a64-83d9-4c51-8d04-3fa002fdaf4d",
   "metadata": {},
   "outputs": [
    {
     "data": {
      "text/plain": [
       "1045524"
      ]
     },
     "execution_count": 26,
     "metadata": {},
     "output_type": "execute_result"
    }
   ],
   "source": [
    "len(df_age_tdap)"
   ]
  },
  {
   "cell_type": "code",
   "execution_count": 21,
   "id": "622e364f-a652-4ce2-b57c-42297032042d",
   "metadata": {},
   "outputs": [
    {
     "data": {
      "text/plain": [
       "816814"
      ]
     },
     "execution_count": 21,
     "metadata": {},
     "output_type": "execute_result"
    }
   ],
   "source": [
    "len(df_age_tdap)"
   ]
  },
  {
   "cell_type": "code",
   "execution_count": 32,
   "id": "68fb04c5-015c-4400-9112-bfeceed2caa7",
   "metadata": {},
   "outputs": [],
   "source": [
    "# Read Hpv data\n",
    "file_address = '../Data/Merged_data/NassauCountyHPV.xlsx'\n",
    "\n",
    "df_hpv_nassau = pd.read_excel(file_address)\n",
    "\n",
    "file_address = '../Data/Merged_data/SuffolkCountyHPV.xlsx'\n",
    "\n",
    "df_hpv_suffolk = pd.read_excel(file_address)\n",
    "\n",
    "# Read TDAP data\n",
    "file_address = '../Data/Merged_data/NassauCountyTDAP.xlsx'\n",
    "\n",
    "df_tdap_nassau = pd.read_excel(file_address)\n",
    "\n",
    "file_address = '../Data/Merged_data/SuffolkCountyTDAP.xlsx'\n",
    "\n",
    "df_tdap_suffolk = pd.read_excel(file_address)"
   ]
  },
  {
   "cell_type": "code",
   "execution_count": 33,
   "id": "c28ce11b-3548-47d9-9287-76923a6d8b35",
   "metadata": {},
   "outputs": [
    {
     "name": "stdout",
     "output_type": "stream",
     "text": [
      "476598\n",
      "511315\n",
      "547462\n",
      "603484\n"
     ]
    }
   ],
   "source": [
    "print(len(df_hpv_nassau))\n",
    "print(len(df_hpv_suffolk))\n",
    "print(len(df_tdap_nassau))\n",
    "\n",
    "print(len(df_tdap_suffolk))\n"
   ]
  },
  {
   "cell_type": "code",
   "execution_count": 27,
   "id": "1d0f060d-524c-4a7e-aeba-6ae7264f2f46",
   "metadata": {},
   "outputs": [],
   "source": [
    "a = np.array(df_age_hpv['client_id'])"
   ]
  },
  {
   "cell_type": "code",
   "execution_count": 28,
   "id": "b1d2fc39-ab87-43e6-9c67-46f28a907ed8",
   "metadata": {},
   "outputs": [],
   "source": [
    "c = np.array(df_age_tdap['client_id'])"
   ]
  },
  {
   "cell_type": "code",
   "execution_count": 29,
   "id": "197a5982-e1d4-401c-8201-53815100d7db",
   "metadata": {},
   "outputs": [],
   "source": [
    "b = np.array(df_age_total['client_id'])"
   ]
  },
  {
   "cell_type": "code",
   "execution_count": 31,
   "id": "c724faec-2a15-4f50-82cf-6cb0efa0d6b0",
   "metadata": {},
   "outputs": [
    {
     "name": "stdout",
     "output_type": "stream",
     "text": [
      "True\n"
     ]
    }
   ],
   "source": [
    "is_subset = np.all(np.isin(a, b))\n",
    "\n",
    "print(is_subset)  # 输出: True"
   ]
  }
 ],
 "metadata": {
  "kernelspec": {
   "display_name": "Python 3 (ipykernel)",
   "language": "python",
   "name": "python3"
  },
  "language_info": {
   "codemirror_mode": {
    "name": "ipython",
    "version": 3
   },
   "file_extension": ".py",
   "mimetype": "text/x-python",
   "name": "python",
   "nbconvert_exporter": "python",
   "pygments_lexer": "ipython3",
   "version": "3.11.7"
  }
 },
 "nbformat": 4,
 "nbformat_minor": 5
}
